{
 "cells": [
  {
   "cell_type": "markdown",
   "metadata": {},
   "source": [
    "## Scenario\n",
    "Listen to this story: a boy and his father, a computer programmer, are playing with wooden blocks. They are building a pyramid.\n",
    "\n",
    "Their pyramid is a bit weird, as it is actually a pyramid-shaped wall - it's flat. The pyramid is stacked according to one simple principle: each lower layer contains one block more than the layer above.\n",
    "\n",
    "The figure illustrates the rule used by the builders:\n",
    "\n",
    "Your task is to write a program which reads the number of blocks the builders have, and outputs the height of the pyramid that can be built using these blocks.\n",
    "\n",
    "Note: the height is measured by the number of fully completed layers - if the builders don't have a sufficient number of blocks and cannot complete the next layer, they finish their work immediately.\n",
    "\n",
    "Test your code using the data we've provided."
   ]
  },
  {
   "cell_type": "code",
   "execution_count": 1,
   "metadata": {},
   "outputs": [
    {
     "name": "stdout",
     "output_type": "stream",
     "text": [
      "The height of the pyramid: 4\n"
     ]
    }
   ],
   "source": [
    "# Asks user to enter the number of blocks\n",
    "blocks = int(input(\"Enter the number of blocks: \"))\n",
    "\n",
    "# Create a variable for the height\n",
    "height = 0\n",
    "\n",
    "# Create a variable for the block per layer\n",
    "layer_blocks = 1    # first layer\n",
    "\n",
    "# Create a variable for the remaining blocks\n",
    "remaining_blocks = blocks\n",
    "\n",
    "# while loop\n",
    "while remaining_blocks >= layer_blocks:\n",
    "    remaining_blocks -= layer_blocks    # subtract used blocks\n",
    "    height += 1    # add 1 for each layer\n",
    "    layer_blocks += 1    # one block for the next layer\n",
    "    \n",
    "# Prints the final height\n",
    "print(\"The height of the pyramid:\", height)\n"
   ]
  },
  {
   "cell_type": "code",
   "execution_count": null,
   "metadata": {},
   "outputs": [
    {
     "name": "stdout",
     "output_type": "stream",
     "text": [
      "The height of the pyramid: 4\n"
     ]
    }
   ],
   "source": [
    "blocks = int(input(\"Enter the number of blocks: \"))#10\n",
    "\n",
    "height = 0\n",
    "while blocks >= (height + 1):   # 10>=1,9>=2,7>=3,4>=4,0>=5\n",
    "    height += 1   # 1,2,3,4\n",
    "    blocks -= height   # 9,7,4,0\n",
    "\n",
    "print(\"The height of the pyramid:\", height)"
   ]
  }
 ],
 "metadata": {
  "kernelspec": {
   "display_name": "Jupyter",
   "language": "python",
   "name": "python3"
  },
  "language_info": {
   "codemirror_mode": {
    "name": "ipython",
    "version": 3
   },
   "file_extension": ".py",
   "mimetype": "text/x-python",
   "name": "python",
   "nbconvert_exporter": "python",
   "pygments_lexer": "ipython3",
   "version": "3.9.20"
  }
 },
 "nbformat": 4,
 "nbformat_minor": 2
}
