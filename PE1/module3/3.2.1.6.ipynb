{
 "cells": [
  {
   "cell_type": "code",
   "execution_count": null,
   "metadata": {},
   "outputs": [],
   "source": [
    "import time\n",
    "\n",
    "# Write a for loop that counts to five.\n",
    "for i in range(1, 6):\n",
    "    # Body of the loop - print the loop iteration number and the word \"Mississippi\".\n",
    "    print(i, \"Mississipi\")\n",
    "    # Body of the loop - use: time.sleep(1)\n",
    "    time.sleep(1)\n",
    "\n",
    "# Write a print function with the final message.\n",
    "print(\"Ready or not, here I come!\")"
   ]
  }
 ],
 "metadata": {
  "kernelspec": {
   "display_name": "Jupyter",
   "language": "python",
   "name": "python3"
  },
  "language_info": {
   "name": "python",
   "version": "3.9.20"
  }
 },
 "nbformat": 4,
 "nbformat_minor": 2
}
