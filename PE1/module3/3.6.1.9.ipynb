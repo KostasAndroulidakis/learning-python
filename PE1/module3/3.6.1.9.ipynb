{
 "cells": [
  {
   "cell_type": "markdown",
   "metadata": {},
   "source": [
    "## Scenario\n",
    "\n",
    "Imagine a list - not very long, not very complicated, just a simple list containing some integer numbers.\n",
    "\n",
    "Some of these numbers may be repeated, and this is the clue.\n",
    "We don't want any repetitions. We want them to be removed.\n",
    "\n",
    "Your task is to write a program which removes all the number repetitions from the list.\n",
    "The goal is to have a list in which all the numbers appear not more than once.\n",
    "\n",
    "Note: assume that the source list is hard-coded inside the code - you don't have to enter it from the keyboard.\n",
    "Of course, you can improve the code and add a part that can carry out a conversation with the user and obtain all the data from her/him.\n",
    "\n",
    "Hint: we encourage you to create a new list as a temporary work area - you don't need to update the list in situ.\n",
    "\n",
    "We've provided no test data, as that would be too easy. You can use our skeleton instead."
   ]
  },
  {
   "cell_type": "code",
   "execution_count": null,
   "metadata": {},
   "outputs": [
    {
     "name": "stdout",
     "output_type": "stream",
     "text": [
      "The list with unique elements only:\n",
      "[1, 2, 4, 6, 9]\n"
     ]
    }
   ],
   "source": [
    "# the list we have\n",
    "my_list = [1, 2, 4, 4, 1, 4, 2, 6, 2, 9]\n",
    "\n",
    "# the list we need\n",
    "new_list = []\n",
    "\n",
    "for element in my_list:\n",
    "    if element not in new_list:\n",
    "        new_list.append(element)\n",
    "\n",
    "print(\"The list with unique elements only:\")\n",
    "print(new_list)"
   ]
  }
 ],
 "metadata": {
  "kernelspec": {
   "display_name": "Jupyter",
   "language": "python",
   "name": "python3"
  },
  "language_info": {
   "codemirror_mode": {
    "name": "ipython",
    "version": 3
   },
   "file_extension": ".py",
   "mimetype": "text/x-python",
   "name": "python",
   "nbconvert_exporter": "python",
   "pygments_lexer": "ipython3",
   "version": "3.9.20"
  }
 },
 "nbformat": 4,
 "nbformat_minor": 2
}
