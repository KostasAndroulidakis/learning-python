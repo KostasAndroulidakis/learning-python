{
 "cells": [
  {
   "cell_type": "markdown",
   "metadata": {},
   "source": [
    "## Exercise 4\n",
    "\n",
    "Write a program called repeatStr which repeats the given string exactly n times.\n",
    "\n",
    "__Example:__\n",
    "\n",
    "repeat_str(4, 'a') -> 'aaaa'\n",
    "\n",
    "repeat_str(3, 'hello ') -> 'hellohellohello'"
   ]
  },
  {
   "cell_type": "code",
   "execution_count": null,
   "metadata": {},
   "outputs": [
    {
     "name": "stdout",
     "output_type": "stream",
     "text": [
      "aaaa\n",
      "hellohellohello\n"
     ]
    }
   ],
   "source": [
    "# Define a function that takes two parameters: n (int) and word (str)\n",
    "def repeat_str(n, word):\n",
    "       # Return the word repeated n times\n",
    "       return (n * word)\n",
    "\n",
    "# Expected outputs\n",
    "print(repeat_str(4, 'a'))\n",
    "print(repeat_str(3, 'hello'))"
   ]
  }
 ],
 "metadata": {
  "kernelspec": {
   "display_name": "Jupyter",
   "language": "python",
   "name": "python3"
  },
  "language_info": {
   "codemirror_mode": {
    "name": "ipython",
    "version": 3
   },
   "file_extension": ".py",
   "mimetype": "text/x-python",
   "name": "python",
   "nbconvert_exporter": "python",
   "pygments_lexer": "ipython3",
   "version": "3.9.20"
  }
 },
 "nbformat": 4,
 "nbformat_minor": 2
}
