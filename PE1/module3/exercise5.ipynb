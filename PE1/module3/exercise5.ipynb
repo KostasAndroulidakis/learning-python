{
 "cells": [
  {
   "cell_type": "markdown",
   "metadata": {},
   "source": [
    "## Exercise 5\n",
    "\n",
    "Given a non-empty array of integers, return the result of multiplying the values together in order.\n",
    "\n",
    "__Example:__\n",
    "\n",
    "[1, 2, 3, 4] -> 1 * 2 * 3 * 4 = 24\n"
   ]
  },
  {
   "cell_type": "code",
   "execution_count": 10,
   "metadata": {},
   "outputs": [
    {
     "name": "stdout",
     "output_type": "stream",
     "text": [
      "[1, 2, 3, 4] -> 1 * 2 * 3 * 4 = 24\n"
     ]
    }
   ],
   "source": [
    "# Stores the given list\n",
    "given_list = [1, 2, 3, 4]\n",
    "\n",
    "# Creates a variable to multiply by 1 instead of 0\n",
    "result = 1\n",
    "\n",
    "# Loop through each number in the list and multiply it with result\n",
    "for num in given_list:\n",
    "    # Multiply current number with previous result\n",
    "    result *= num\n",
    "\n",
    "# Creates a string to store multiplication\n",
    "expression = \" * \".join([str(num) for num in given_list])\n",
    "\n",
    "# Display the final result\n",
    "print(given_list, \"->\", expression, \"=\", result)"
   ]
  },
  {
   "cell_type": "code",
   "execution_count": 8,
   "metadata": {},
   "outputs": [
    {
     "name": "stdout",
     "output_type": "stream",
     "text": [
      "[1, 2, 3, 4] -> 1 * 2 * 3 * 4 = 24\n"
     ]
    }
   ],
   "source": [
    "# Stores the given list\n",
    "given_list = [1, 2, 3, 4]\n",
    "\n",
    "print(given_list, \"->\", given_list[0],\"*\", given_list[1],\"*\",given_list[2],\"*\",given_list[3],\"=\",given_list[0]*given_list[1]*given_list[2]*given_list[3])"
   ]
  }
 ],
 "metadata": {
  "kernelspec": {
   "display_name": "Jupyter",
   "language": "python",
   "name": "python3"
  },
  "language_info": {
   "codemirror_mode": {
    "name": "ipython",
    "version": 3
   },
   "file_extension": ".py",
   "mimetype": "text/x-python",
   "name": "python",
   "nbconvert_exporter": "python",
   "pygments_lexer": "ipython3",
   "version": "3.9.19"
  }
 },
 "nbformat": 4,
 "nbformat_minor": 2
}
