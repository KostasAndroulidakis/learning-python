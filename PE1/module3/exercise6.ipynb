{
 "cells": [
  {
   "cell_type": "markdown",
   "metadata": {},
   "source": [
    "## Exercise 6\n",
    "\n",
    "Given a list with duplicates create a list that it will remain only the distinct element of the list\n",
    "\n",
    "__Example:__\n",
    "\n",
    "my_list = [10, 8,8,8,6, 6, 4, 2,100,100,100]\n",
    "\n",
    "__Output:__\n",
    "\n",
    "my_list = [10, 8,6, 4, 2,100]"
   ]
  },
  {
   "cell_type": "code",
   "execution_count": 20,
   "metadata": {},
   "outputs": [
    {
     "name": "stdout",
     "output_type": "stream",
     "text": [
      "my_list = [10, 8, 6, 4, 2, 100]\n"
     ]
    }
   ],
   "source": [
    "# The given list with specific spacing after commas\n",
    "my_list = [10, 8,8,8,6, 6, 4, 2,100,100,100]\n",
    "\n",
    "# The list that we'll print in the end\n",
    "new_list = []\n",
    "\n",
    "# Iterate through each number\n",
    "for num in my_list:\n",
    "    # If doesn't find the number in the new list\n",
    "    if num not in new_list:\n",
    "        # then add number to the new list\n",
    "        new_list.append(num)\n",
    "\n",
    "# Convert list to string, keeping exact spacing\n",
    "result = str(new_list).replace('[', 'my_list = [')\n",
    "\n",
    "# Prints the distinct list with exact formatting\n",
    "print(result)"
   ]
  }
 ],
 "metadata": {
  "kernelspec": {
   "display_name": "Jupyter",
   "language": "python",
   "name": "python3"
  },
  "language_info": {
   "codemirror_mode": {
    "name": "ipython",
    "version": 3
   },
   "file_extension": ".py",
   "mimetype": "text/x-python",
   "name": "python",
   "nbconvert_exporter": "python",
   "pygments_lexer": "ipython3",
   "version": "3.9.20"
  }
 },
 "nbformat": 4,
 "nbformat_minor": 2
}
