{
 "cells": [
  {
   "cell_type": "code",
   "execution_count": null,
   "metadata": {},
   "outputs": [
    {
     "name": "stdout",
     "output_type": "stream",
     "text": [
      "cdezabCDEzab 123\n"
     ]
    }
   ],
   "source": [
    "# Ask user to enter an one-line message;\n",
    "text = input(\"Enter your message: \")\n",
    "\n",
    "# Function to validate that shift value is integer number in range 1..25\n",
    "def validate_shift_value():\n",
    "    # loop until valid input:\n",
    "    while True:\n",
    "        # Get shift value\n",
    "        shift_value = input(\"Enter shift value (1-25): \")\n",
    "        # if number is valid:\n",
    "        if shift_value.isdigit():\n",
    "            # remove leading/trailing spaces from input\n",
    "            shift_value = shift_value.strip()\n",
    "            # convert string to int\n",
    "            number = int(shift_value)\n",
    "            if number < 1 or number > 25:\n",
    "                print(f'ERROR: The \"{shift_value}\" is not between 1 and 25! Please enter a valid shift value.')\n",
    "            else:\n",
    "                # return number\n",
    "                return int(number)\n",
    "        else: \n",
    "            print(f'ERROR: The \"{shift_value}\" is not a number! Please enter a valid shift value between 1 and 25.')\n",
    "\n",
    "# call function to get number\n",
    "number = validate_shift_value()\n",
    "\n",
    "def encryption(text, shift_number):\n",
    "    cipher = ''\n",
    "    for char in text:\n",
    "        if char.isalpha():\n",
    "            if char.isupper():\n",
    "                char = chr((((ord(char) - 65) + shift_number)%26)+65)\n",
    "            else:\n",
    "                char = chr((((ord(char) - 97) + shift_number)%26)+97)\n",
    "        cipher = cipher + char\n",
    "    return cipher\n",
    "\n",
    "# Print the encrypted message\n",
    "cipher = encryption(text, number)\n",
    "print(cipher)"
   ]
  }
 ],
 "metadata": {
  "kernelspec": {
   "display_name": "Jupyter",
   "language": "python",
   "name": "python3"
  },
  "language_info": {
   "codemirror_mode": {
    "name": "ipython",
    "version": 3
   },
   "file_extension": ".py",
   "mimetype": "text/x-python",
   "name": "python",
   "nbconvert_exporter": "python",
   "pygments_lexer": "ipython3",
   "version": "3.9.20"
  }
 },
 "nbformat": 4,
 "nbformat_minor": 2
}
