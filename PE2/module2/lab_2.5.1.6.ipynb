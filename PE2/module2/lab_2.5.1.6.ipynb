{
 "cells": [
  {
   "cell_type": "code",
   "execution_count": null,
   "metadata": {},
   "outputs": [
    {
     "name": "stdout",
     "output_type": "stream",
     "text": [
      "BCDYZABCDYZA\n"
     ]
    }
   ],
   "source": [
    "function get_shift():\n",
    "    while True:\n",
    "        get user input\n",
    "        try:\n",
    "            convert input to integer\n",
    "            if number is between 1 and 25:\n",
    "                return number\n",
    "            else:\n",
    "                print error message\n",
    "        except:\n",
    "            print error message for invalid input"
   ]
  }
 ],
 "metadata": {
  "kernelspec": {
   "display_name": "Jupyter",
   "language": "python",
   "name": "python3"
  },
  "language_info": {
   "codemirror_mode": {
    "name": "ipython",
    "version": 3
   },
   "file_extension": ".py",
   "mimetype": "text/x-python",
   "name": "python",
   "nbconvert_exporter": "python",
   "pygments_lexer": "ipython3",
   "version": "3.9.20"
  }
 },
 "nbformat": 4,
 "nbformat_minor": 2
}
