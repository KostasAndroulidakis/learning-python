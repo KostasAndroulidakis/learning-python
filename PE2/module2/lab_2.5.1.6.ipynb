{
 "cells": [
  {
   "cell_type": "code",
   "execution_count": null,
   "metadata": {},
   "outputs": [
    {
     "name": "stdout",
     "output_type": "stream",
     "text": [
      "BCDE\n"
     ]
    }
   ],
   "source": [
    "# ask the user to enter the unencrypted one-line message\n",
    "text = input(\"Enter your message: \")\n",
    "\n",
    "# Validate shift value between 1-25\n",
    "def validate_shift_value():\n",
    "    # Loop until user enters an integer between 1-25\n",
    "    while True:\n",
    "        # Get shift value\n",
    "        shift_value = input(\"Enter shift value (1-25): \")\n",
    "        # remove leading/trailing spaces from input\n",
    "        shift_value = shift_value.strip()\n",
    "        # if number is valid:\n",
    "        if shift_value.isdigit():\n",
    "            # convert string to int\n",
    "            shift_value = int(shift_value)\n",
    "            if shift_value < 1 or shift_value > 25:\n",
    "                print(f'ERROR: The \"{shift_value}\" is not between 1 and 25! Please enter a valid shift value.')\n",
    "            else:\n",
    "                return int(shift_value)\n",
    "        else: \n",
    "            print(f'ERROR: The \"{shift_value}\" is not a number! Please enter a valid shift value between 1 and 25.')\n",
    "\n",
    "shift_value = validate_shift_value()\n",
    "\n",
    "# Convert character to ASCII, shift it and convert back to character\n",
    "def caesar_cipher(text, shift_number):\n",
    "    cipher = ''\n",
    "    for char in text:\n",
    "        if char.isalpha():\n",
    "            # Use modulo 26 to wrap around the alphabet\n",
    "            ALPHABET_SIZE = 26\n",
    "            # 65 is ASCII for 'A', 97 is ASCII for 'a'\n",
    "            if char.isupper():\n",
    "                char = chr((((ord(char) - 65) + shift_number)%ALPHABET_SIZE)+65)\n",
    "            else:\n",
    "                char = chr((((ord(char) - 97) + shift_number)%ALPHABET_SIZE)+97)\n",
    "        cipher = cipher + char\n",
    "    return cipher\n",
    "\n",
    "cipher = caesar_cipher(text, shift_value)\n",
    "print(cipher)"
   ]
  }
 ],
 "metadata": {
  "kernelspec": {
   "display_name": "Jupyter",
   "language": "python",
   "name": "python3"
  },
  "language_info": {
   "codemirror_mode": {
    "name": "ipython",
    "version": 3
   },
   "file_extension": ".py",
   "mimetype": "text/x-python",
   "name": "python",
   "nbconvert_exporter": "python",
   "pygments_lexer": "ipython3",
   "version": "3.9.20"
  }
 },
 "nbformat": 4,
 "nbformat_minor": 2
}
