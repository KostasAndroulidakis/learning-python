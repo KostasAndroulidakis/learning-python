{
 "cells": [
  {
   "cell_type": "markdown",
   "id": "7f60672e",
   "metadata": {},
   "source": [
    "### Exercise 1: Library Management System\n",
    "\n",
    "You are tasked with creating a Library Management System. Each book has attributes like title, author, and available copies. Implement classes for Library, Book, and User. Users can borrow and return books."
   ]
  },
  {
   "cell_type": "code",
   "execution_count": null,
   "id": "f9c4591a",
   "metadata": {},
   "outputs": [],
   "source": [
    "class Book:\n",
    "    def __init__(self, title, author, copies):\n",
    "        # Implementation\n",
    "\n",
    "class User:\n",
    "    def __init__(self, name):\n",
    "        # Implementation\n",
    "\n",
    "class Library:\n",
    "    def __init__(self):\n",
    "        # Implementation\n"
   ]
  },
  {
   "cell_type": "code",
   "execution_count": null,
   "id": "7358de2c",
   "metadata": {},
   "outputs": [],
   "source": [
    "# Test Scenario for Library Management System\n",
    "\n",
    "# Creating books\n",
    "book1 = Book(\"The Catcher in the Rye\", \"J.D. Salinger\", 5)\n",
    "book2 = Book(\"To Kill a Mockingbird\", \"Harper Lee\", 3)\n",
    "# Creating users\n",
    "user1 = User(\"Alice\")\n",
    "user2 = User(\"Bob\")\n",
    "# Creating library\n",
    "library = Library()\n",
    "# Adding books to the library\n",
    "library.add_book(book1)\n",
    "library.add_book(book2)\n",
    "# User1 borrows a book\n",
    "library.borrow_book(user1, book1)\n",
    "# User2 tries to borrow a book that is out of stock\n",
    "library.borrow_book(user2, book1)\n",
    "# User1 returns a book\n",
    "library.return_book(user1, book1)\n",
    "# User2 tries to return a book he didn't borrow\n",
    "library.return_book(user2, book1)"
   ]
  },
  {
   "cell_type": "markdown",
   "id": "4303078c",
   "metadata": {},
   "source": [
    "### Exercise 2: Online Shopping System\n",
    "\n",
    "Build an online shopping system. Create classes for Customer, Cart, and Product. Customers can add products to their cart and place orders"
   ]
  },
  {
   "cell_type": "code",
   "execution_count": null,
   "id": "b731c070",
   "metadata": {},
   "outputs": [],
   "source": [
    "class Product:\n",
    "    def __init__(self, name, price, stock):\n",
    "        # Implementation\n",
    "\n",
    "class Cart:\n",
    "    def __init__(self):\n",
    "        # Implementation\n",
    "\n",
    "class Customer:\n",
    "    def __init__(self, name):\n",
    "        # Implementation\n"
   ]
  },
  {
   "cell_type": "code",
   "execution_count": null,
   "id": "056f2473",
   "metadata": {},
   "outputs": [],
   "source": [
    "# Test Scenario for Online Shopping System\n",
    "\n",
    "# Creating products\n",
    "product1 = Product(\"Laptop\", 1000, 5)\n",
    "product2 = Product(\"Headphones\", 50, 10)\n",
    "\n",
    "# Creating a customer\n",
    "customer = Customer(\"John\")\n",
    "\n",
    "# Customer adds products to the cart\n",
    "customer.cart.add_item(product1, 2)\n",
    "customer.cart.add_item(product2, 1)\n",
    "\n",
    "# Customer places an order\n",
    "customer.cart.place_order()\n"
   ]
  },
  {
   "cell_type": "markdown",
   "id": "367d0ef4",
   "metadata": {},
   "source": [
    "### Exercise 3: Social Media Network\n",
    "\n",
    "Develop a simple social media network with classes for User, Post, and Comment. Users can create posts and comment on them."
   ]
  },
  {
   "cell_type": "code",
   "execution_count": null,
   "id": "f013ccb8",
   "metadata": {},
   "outputs": [],
   "source": [
    "class Post:\n",
    "    def __init__(self, user, content):\n",
    "        # Implementation\n",
    "\n",
    "class Comment:\n",
    "    def __init__(self, user, content):\n",
    "        # Implementation\n",
    "\n",
    "class User:\n",
    "    def __init__(self, name):\n",
    "        # Implementation\n"
   ]
  },
  {
   "cell_type": "code",
   "execution_count": null,
   "id": "79cb7b2b",
   "metadata": {},
   "outputs": [],
   "source": [
    "# Test Scenario for Social Media Network\n",
    "\n",
    "# Creating users\n",
    "user1 = User(\"Alice\")\n",
    "user2 = User(\"Bob\")\n",
    "\n",
    "# User1 creates a post\n",
    "post1 = user1.create_post(\"Hello, world!\")\n",
    "\n",
    "# User2 comments on the post\n",
    "user2.comment_on_post(post1, \"Nice post!\")\n",
    "\n",
    "# User1 creates another post\n",
    "post2 = user1.create_post(\"Python is awesome!\")\n",
    "\n",
    "# User2 comments on the second post\n",
    "user2.comment_on_post(post2, \"I totally agree!\")\n"
   ]
  },
  {
   "cell_type": "markdown",
   "id": "380dc92b",
   "metadata": {},
   "source": [
    "### Exercise 4: Banking System\n",
    "\n",
    "Create a basic banking system with classes for Account, Customer, and Transaction. Customers can perform transactions like deposits and withdrawals."
   ]
  },
  {
   "cell_type": "code",
   "execution_count": null,
   "id": "8ddefd0a",
   "metadata": {},
   "outputs": [],
   "source": [
    "class Account:\n",
    "    def __init__(self, customer, balance):\n",
    "        # Implementation\n",
    "\n",
    "class Transaction:\n",
    "    def __init__(self, account, amount, transaction_type):\n",
    "        # Implementation\n",
    "\n",
    "class Customer:\n",
    "    def __init__(self, name):\n",
    "        # Implementation\n"
   ]
  },
  {
   "cell_type": "code",
   "execution_count": null,
   "id": "730d221f",
   "metadata": {},
   "outputs": [],
   "source": [
    "# Test Scenario for Banking System\n",
    "\n",
    "# Creating a customer and an account\n",
    "customer = Customer(\"Alice\")\n",
    "account = Account(customer, 1000)\n",
    "\n",
    "# Customer deposits money\n",
    "account.deposit(500)\n",
    "\n",
    "# Customer tries to withdraw more money than the balance\n",
    "account.withdraw(1500)\n",
    "\n",
    "# Customer withdraws some money\n",
    "account.withdraw(200)"
   ]
  },
  {
   "cell_type": "markdown",
   "id": "98efa211",
   "metadata": {},
   "source": [
    "### Exercise 5: Task Management System\n",
    "\n",
    "Build a task management system with classes for Task, Project, and TeamMember. Tasks can be assigned to team members within a project."
   ]
  },
  {
   "cell_type": "code",
   "execution_count": null,
   "id": "88b15623",
   "metadata": {},
   "outputs": [],
   "source": [
    "class Task:\n",
    "    def __init__(self, title, description, status):\n",
    "        # Implementation\n",
    "\n",
    "class Project:\n",
    "    def __init__(self, name, tasks):\n",
    "        # Implementation\n",
    "\n",
    "class TeamMember:\n",
    "    def __init__(self, name):\n",
    "        # Implementation\n"
   ]
  },
  {
   "cell_type": "code",
   "execution_count": null,
   "id": "0420a710",
   "metadata": {},
   "outputs": [],
   "source": [
    "# Test Scenario for Task Management System\n",
    "\n",
    "# Creating tasks\n",
    "task1 = Task(\"Implement feature A\", \"Add new functionality to the system.\")\n",
    "task2 = Task(\"Fix bug in module B\", \"Resolve the issue reported by QA.\")\n",
    "\n",
    "# Creating a project\n",
    "project = Project(\"Software Development Project\")\n",
    "\n",
    "# Adding tasks to the project\n",
    "project.add_task(task1)\n",
    "project.add_task(task2)\n",
    "\n",
    "# Creating team members\n",
    "team_member1 = TeamMember(\"Alice\")\n",
    "team_member2 = TeamMember(\"Bob\")\n",
    "\n",
    "# Assigning tasks to team members\n",
    "project.assign_task(task1, team_member1)\n",
    "project.assign_task(task2, team_member2)\n"
   ]
  }
 ],
 "metadata": {
  "kernelspec": {
   "display_name": "Jupyter",
   "language": "python",
   "name": "python3"
  },
  "language_info": {
   "codemirror_mode": {
    "name": "ipython",
    "version": 3
   },
   "file_extension": ".py",
   "mimetype": "text/x-python",
   "name": "python",
   "nbconvert_exporter": "python",
   "pygments_lexer": "ipython3",
   "version": "3.9.20"
  }
 },
 "nbformat": 4,
 "nbformat_minor": 5
}
