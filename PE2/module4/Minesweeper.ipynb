{
 "cells": [
  {
   "cell_type": "markdown",
   "id": "682928e9",
   "metadata": {},
   "source": [
    "## List or String Processing"
   ]
  },
  {
   "attachments": {
    "image.png": {
     "image/png": "[encoded data removed]"
    }
   },
   "cell_type": "markdown",
   "id": "84da360a",
   "metadata": {},
   "source": [
    "Minesweeper is a single-player video game played on a board containing hidden bombs. The bombs are located in some cells that are unknown by the player. The goal is to find all the bombs without detonation any of them. To do this, the player can click on a chosen field, which can lead to one of two scenarios:\n",
    "\n",
    "    1. If a bomb was located in this field, the bomb explodes and the player loses the game;\n",
    "    2. If there was no bomb, one digit is revealed in this field. The digit('0' - '8') indicates the number of bombs in the neighbourhood of this field.\n",
    "    \n",
    "Two fields are neighbours if they share a side or a corner. For example, in the image below, neighbours of the black field are marked in gray.\n",
    "\n",
    "![image.png](attachment:image.png)\n",
    "\n",
    "You are given a square board with N rows and N columns (both numbered from 0 to N-1). The upper left field is located at (0,0). M bombs (numbered from 0 to M-1) are hidden on the board. The K-th bomb is located in row R[K] and column c[K].\n",
    "\n",
    "Print the description of the board with in N lines. The K-th line describes the K-th row and consists of N characters. Denote bombs with the character 'B', and in  places with no bombs, print the number of bombs in their nieghbourhood, as explained above.\n",
    "\n",
    "Write a function:\n",
    "    \n",
    "    def solution(N,R,C)\n",
    "    \n",
    "that, given an Integer N and two arrays R and C, both consisting of M integers, prints the description of the Minesweeper board.\n",
    "\n",
    "Examples:\n",
    "\n",
    "1. Given N=3, R=[2,1,0,2] and C=[0,2,1,2], your function should print:\n",
    "\n",
    "        1B2\n",
    "        24B\n",
    "        B3B\n",
    "\n",
    "2. Given N=5, R=[2,3,2,3,1,1,3,1] and C=[3,3,1,1,1,2,2,3] your Functions should print:\n",
    "\n",
    "        12321\n",
    "        2BBB2\n",
    "        3B8B3\n",
    "        2BBB2\n",
    "        12321"
   ]
  },
  {
   "cell_type": "code",
   "execution_count": null,
   "id": "ac97d443",
   "metadata": {},
   "outputs": [],
   "source": [
    "\n"
   ]
  }
 ],
 "metadata": {
  "kernelspec": {
   "display_name": "Jupyter",
   "language": "python",
   "name": "python3"
  },
  "language_info": {
   "codemirror_mode": {
    "name": "ipython",
    "version": 3
   },
   "file_extension": ".py",
   "mimetype": "text/x-python",
   "name": "python",
   "nbconvert_exporter": "python",
   "pygments_lexer": "ipython3",
   "version": "3.9.20"
  }
 },
 "nbformat": 4,
 "nbformat_minor": 5
}
