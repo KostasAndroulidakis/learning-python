{
 "cells": [
  {
   "cell_type": "markdown",
   "metadata": {},
   "source": [
    "# Operators\n",
    "\n",
    "Source: OpenEDG Python Institute: Python Essentials 1"
   ]
  },
  {
   "cell_type": "markdown",
   "metadata": {},
   "source": [
    "## Basic Arithmetic Operators"
   ]
  },
  {
   "cell_type": "code",
   "execution_count": 4,
   "metadata": {},
   "outputs": [
    {
     "name": "stdout",
     "output_type": "stream",
     "text": [
      "4\n"
     ]
    }
   ],
   "source": [
    "# Addition operator (+)\n",
    "print(2 + 2)"
   ]
  },
  {
   "cell_type": "code",
   "execution_count": 5,
   "metadata": {},
   "outputs": [
    {
     "name": "stdout",
     "output_type": "stream",
     "text": [
      "0\n"
     ]
    }
   ],
   "source": [
    "# Subtraction operator (-)\n",
    "print(2 - 2)"
   ]
  },
  {
   "cell_type": "code",
   "execution_count": 6,
   "metadata": {},
   "outputs": [
    {
     "name": "stdout",
     "output_type": "stream",
     "text": [
      "4\n"
     ]
    }
   ],
   "source": [
    "# Multiplication operator (*)\n",
    "print(2 * 2)"
   ]
  },
  {
   "cell_type": "code",
   "execution_count": 7,
   "metadata": {},
   "outputs": [
    {
     "name": "stdout",
     "output_type": "stream",
     "text": [
      "1.0\n"
     ]
    }
   ],
   "source": [
    "# Division operator (/) - always returns float\n",
    "print(2 / 2)"
   ]
  },
  {
   "cell_type": "code",
   "execution_count": 8,
   "metadata": {},
   "outputs": [
    {
     "name": "stdout",
     "output_type": "stream",
     "text": [
      "1\n"
     ]
    }
   ],
   "source": [
    "# Integer division operator (//) - returns the quotient as integer\n",
    "print(2 // 2)"
   ]
  },
  {
   "cell_type": "code",
   "execution_count": 9,
   "metadata": {},
   "outputs": [
    {
     "name": "stdout",
     "output_type": "stream",
     "text": [
      "0\n"
     ]
    }
   ],
   "source": [
    "# Modulo operator (%) - returns remainder of division\n",
    "print(2 % 2)"
   ]
  },
  {
   "cell_type": "code",
   "execution_count": 10,
   "metadata": {},
   "outputs": [
    {
     "name": "stdout",
     "output_type": "stream",
     "text": [
      "4\n"
     ]
    }
   ],
   "source": [
    "# Exponentiation operator (**) - raises to the power\n",
    "print(2 ** 2)"
   ]
  },
  {
   "cell_type": "markdown",
   "metadata": {},
   "source": [
    "## Practical Example: Time Conversion"
   ]
  },
  {
   "cell_type": "code",
   "execution_count": null,
   "metadata": {},
   "outputs": [
    {
     "name": "stdout",
     "output_type": "stream",
     "text": [
      "8985689 seconds\n",
      "149761.48 minutes\n",
      "2496.02 hours\n",
      "104.00 days\n",
      "14.86 weeks\n",
      "3.47 months\n"
     ]
    }
   ],
   "source": [
    "# Converting seconds to larger time units using division\n",
    "seconds = 8985689\n",
    "\n",
    "seconds_in_minute = 60\n",
    "seconds_in_hour = 60 * seconds_in_minute\n",
    "seconds_in_day = 24 * seconds_in_hour\n",
    "seconds_in_week = 7 * seconds_in_day\n",
    "seconds_in_month = 30 * seconds_in_day\n",
    "\n",
    "minutes = seconds / seconds_in_minute\n",
    "hours = seconds / seconds_in_hour\n",
    "days = seconds / seconds_in_day\n",
    "weeks = seconds / seconds_in_week\n",
    "months = seconds / seconds_in_month\n",
    "\n",
    "print(f\"{seconds} seconds\")\n",
    "print(f\"{minutes:.2f} minutes\")\n",
    "print(f\"{hours:.2f} hours\")\n",
    "print(f\"{days:.2f} days\")\n",
    "print(f\"{weeks:.2f} weeks\")\n",
    "print(f\"{months:.2f} months\")"
   ]
  },
  {
   "cell_type": "markdown",
   "metadata": {},
   "source": [
    "## Time Calculation with Modulo and Integer Division"
   ]
  },
  {
   "cell_type": "code",
   "execution_count": null,
   "metadata": {},
   "outputs": [
    {
     "name": "stdout",
     "output_type": "stream",
     "text": [
      "104 0 1 29\n"
     ]
    }
   ],
   "source": [
    "# Extracting days, hours, minutes, seconds using // and %\n",
    "seconds = 8985689\n",
    "\n",
    "print(seconds//60//60//24, (seconds//60//60)%24, (seconds//60)%60, seconds%60)\n"
   ]
  },
  {
   "cell_type": "code",
   "execution_count": null,
   "metadata": {},
   "outputs": [
    {
     "name": "stdout",
     "output_type": "stream",
     "text": [
      "104 0 1 29\n"
     ]
    }
   ],
   "source": [
    "# Alternative approach using step-by-step calculation\n",
    "seconds = 8985689\n",
    "\n",
    "days = seconds // (24 * 3600) \n",
    "remaining_seconds = seconds % (24 * 3600) \n",
    "hours = remaining_seconds // 3600\n",
    "minutes = remaining_seconds // 60\n",
    "seconds = remaining_seconds % 60\n",
    "\n",
    "print(days, hours, minutes, seconds)"
   ]
  }
 ],
 "metadata": {
  "kernelspec": {
   "display_name": "lab",
   "language": "python",
   "name": "python3"
  },
  "language_info": {
   "codemirror_mode": {
    "name": "ipython",
    "version": 3
   },
   "file_extension": ".py",
   "mimetype": "text/x-python",
   "name": "python",
   "nbconvert_exporter": "python",
   "pygments_lexer": "ipython3",
   "version": "3.11.11"
  }
 },
 "nbformat": 4,
 "nbformat_minor": 2
}