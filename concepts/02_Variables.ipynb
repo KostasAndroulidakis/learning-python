{
 "cells": [
  {
   "cell_type": "markdown",
   "id": "602e2783",
   "metadata": {},
   "source": [
    "# Variables\n",
    "\n",
    "Source: OpenEDG Python Institute: Python Essentials 1"
   ]
  },
  {
   "cell_type": "markdown",
   "id": "46d070fa-f4b6-4a1f-8b93-6d9250c451c7",
   "metadata": {},
   "source": [
    "## Basic Variable Assignment"
   ]
  },
  {
   "cell_type": "code",
   "execution_count": 3,
   "id": "056c6b7a-2bac-4ec9-902d-824bc81db83a",
   "metadata": {},
   "outputs": [
    {
     "name": "stdout",
     "output_type": "stream",
     "text": [
      "x = 4\n",
      "y = 5\n"
     ]
    }
   ],
   "source": [
    "# Multiple assignment in a single line\n",
    "x, y = 4, 5\n",
    "print('x =', x)\n",
    "print('y =', y)"
   ]
  },
  {
   "cell_type": "code",
   "execution_count": null,
   "id": "ef756e54-d33a-4102-b271-e1721b2029a6",
   "metadata": {},
   "outputs": [
    {
     "name": "stdout",
     "output_type": "stream",
     "text": [
      "x + y = 9\n",
      "x - y = -1\n",
      "x * y = 20\n",
      "x / y = 0.8\n"
     ]
    }
   ],
   "source": [
    "# Basic arithmetic operations with variables\n",
    "print('x + y =', x+y)\n",
    "print('x - y =', x-y)\n",
    "print('x * y =', x*y)\n",
    "print('x / y =', x/y)"
   ]
  },
  {
   "cell_type": "markdown",
   "id": "e5a4dfb8",
   "metadata": {},
   "source": [
    "## Variable Expressions and Order of Operations"
   ]
  },
  {
   "cell_type": "code",
   "execution_count": 1,
   "id": "7ad02b8d",
   "metadata": {},
   "outputs": [
    {
     "name": "stdout",
     "output_type": "stream",
     "text": [
      "17.5\n"
     ]
    }
   ],
   "source": [
    "# Complex expression demonstrating order of operations\n",
    "x = 1 / 2 + 3 // 3 + 4 ** 2\n",
    "print(x)"
   ]
  },
  {
   "cell_type": "markdown",
   "id": "a6b5c29d",
   "metadata": {},
   "source": [
    "## Lab Exercise: Counting Apples"
   ]
  },
  {
   "cell_type": "code",
   "execution_count": 1,
   "id": "412f3f2d",
   "metadata": {},
   "outputs": [
    {
     "name": "stdout",
     "output_type": "stream",
     "text": [
      "3, 5, 6\n",
      "14\n",
      "Total number of apples: 14\n"
     ]
    }
   ],
   "source": [
    "# 2.4.1.7 LAB: Variables - counting apples\n",
    "\n",
    "john = 3\n",
    "mary = 5\n",
    "adam = 6\n",
    "\n",
    "print(john, mary, adam, sep=\", \")\n",
    "\n",
    "total_apples = john + mary + adam\n",
    "print(total_apples)\n",
    "\n",
    "print(\"Total number of apples:\",total_apples)"
   ]
  },
  {
   "cell_type": "markdown",
   "id": "09d9db55",
   "metadata": {},
   "source": [
    "## Lab Exercise: Unit Converter"
   ]
  },
  {
   "cell_type": "code",
   "execution_count": 2,
   "id": "0198fe2c",
   "metadata": {},
   "outputs": [
    {
     "name": "stdout",
     "output_type": "stream",
     "text": [
      "7.38 miles is 11.88 kilometers\n",
      "12.25 kilometers is 7.61 miles\n"
     ]
    }
   ],
   "source": [
    "# 2.4.1.9 LAB: Variables - miles to kilometers converter\n",
    "\n",
    "kilometers = 12.25\n",
    "miles = 7.38\n",
    "\n",
    "miles_to_kilometers = miles * 1.61\n",
    "kilometers_to_miles = kilometers / 1.61\n",
    "\n",
    "print(miles, \"miles is\", round(miles_to_kilometers, 2), \"kilometers\")\n",
    "print(kilometers, \"kilometers is\", round(kilometers_to_miles, 2), \"miles\")"
   ]
  },
  {
   "cell_type": "markdown",
   "id": "3d0c8c99",
   "metadata": {},
   "source": [
    "## Lab Exercise: Evaluating a Function"
   ]
  },
  {
   "cell_type": "code",
   "execution_count": 3,
   "id": "d5a5e77d",
   "metadata": {},
   "outputs": [
    {
     "name": "stdout",
     "output_type": "stream",
     "text": [
      "y = -1.0\n",
      "y = 3.0\n",
      "y = -9.0\n"
     ]
    }
   ],
   "source": [
    "# 2.4.1.10 LAB: Evaluating function y = 3x³ - 2x² + 3x - 1\n",
    "\n",
    "x = 0\n",
    "x = float(x)\n",
    "y = 3*x**3 - 2*x**2 + 3*x - 1\n",
    "print(\"y =\", y)\n",
    "\n",
    "x = 1\n",
    "x = float(x)\n",
    "y = 3*x**3 - 2*x**2 + 3*x - 1\n",
    "print(\"y =\", y)\n",
    "\n",
    "x = -1\n",
    "x = float(x)\n",
    "y = 3*x**3 - 2*x**2 + 3*x - 1\n",
    "print(\"y =\", y)"
   ]
  }
 ],
 "metadata": {
  "kernelspec": {
   "display_name": "lab",
   "language": "python",
   "name": "python3"
  },
  "language_info": {
   "codemirror_mode": {
    "name": "ipython",
    "version": 3
   },
   "file_extension": ".py",
   "mimetype": "text/x-python",
   "name": "python",
   "nbconvert_exporter": "python",
   "pygments_lexer": "ipython3",
   "version": "3.11.11"
  }
 },
 "nbformat": 4,
 "nbformat_minor": 5
}