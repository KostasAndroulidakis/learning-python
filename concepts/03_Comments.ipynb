{
 "cells": [
  {
   "cell_type": "markdown",
   "metadata": {},
   "source": [
    "OpenEDG Python Institute: Pythons Essentials 1"
   ]
  },
  {
   "cell_type": "code",
   "execution_count": 1,
   "metadata": {},
   "outputs": [
    {
     "name": "stdout",
     "output_type": "stream",
     "text": [
      "Hours:  2\n",
      "Seconds in Hours:  7200\n",
      "Goodbye\n"
     ]
    }
   ],
   "source": [
    "# 2.5.1.2 LAB: Comments\n",
    "\n",
    "hours = 2   # Number of hours\n",
    "seconds = 3600   # Number of seconds in 1 hour\n",
    "\n",
    "print(\"Hours: \", hours)   # printing the number of hours\n",
    "print(\"Seconds in Hours: \", hours * seconds)   # printing the number of seconds in a given number of hours\n",
    "print(\"Goodbye\")   # printing goodbye"
   ]
  }
 ],
 "metadata": {
  "kernelspec": {
   "display_name": "lab",
   "language": "python",
   "name": "python3"
  },
  "language_info": {
   "codemirror_mode": {
    "name": "ipython",
    "version": 3
   },
   "file_extension": ".py",
   "mimetype": "text/x-python",
   "name": "python",
   "nbconvert_exporter": "python",
   "pygments_lexer": "ipython3",
   "version": "3.11.11"
  }
 },
 "nbformat": 4,
 "nbformat_minor": 2
}
