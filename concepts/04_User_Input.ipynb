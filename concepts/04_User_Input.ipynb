{
 "cells": [
  {
   "cell_type": "markdown",
   "id": "da588ae9-f6fd-4886-9e8b-c62763e35fd5",
   "metadata": {},
   "source": [
    "OpenEDG Python Institute: Pythons Essentials 1"
   ]
  },
  {
   "cell_type": "code",
   "execution_count": 1,
   "id": "c58523ca",
   "metadata": {},
   "outputs": [
    {
     "name": "stdout",
     "output_type": "stream",
     "text": [
      "9.0\n",
      "3.0\n",
      "18.0\n",
      "2.0\n",
      "\n",
      "That's all, folks!\n"
     ]
    }
   ],
   "source": [
    "# 2.6.1.9 LAB: Simple input and output\n",
    "\n",
    "# input a float value for variable a here\n",
    "a = float(6)\n",
    "# input a float value for variable b here\n",
    "b = float(3)\n",
    "\n",
    "# output the result of addition here\n",
    "print(a+b)\n",
    "# output the result of subtraction here\n",
    "print(a-b)\n",
    "# output the result of multiplication here\n",
    "print(a*b)\n",
    "# output the result of division here\n",
    "print(a/b)\n",
    "\n",
    "print(\"\\nThat's all, folks!\")\n"
   ]
  },
  {
   "cell_type": "code",
   "execution_count": 2,
   "id": "875cbe20",
   "metadata": {},
   "outputs": [
    {
     "name": "stdout",
     "output_type": "stream",
     "text": [
      "y = 0.019992006393606647\n"
     ]
    }
   ],
   "source": [
    "# 2.6.1.10 LAB: Operators and expressions\n",
    "\n",
    "x = float(input(\"Enter value for x: \"))\n",
    "\n",
    "y = 1/(x+(1/(x+(1/(x+(1/x))))))\n",
    "\n",
    "print(\"y =\", y)"
   ]
  },
  {
   "cell_type": "code",
   "execution_count": 3,
   "id": "338c2166",
   "metadata": {},
   "outputs": [
    {
     "name": "stdout",
     "output_type": "stream",
     "text": [
      "13:16\n"
     ]
    }
   ],
   "source": [
    "# 2.6.1.11 LAB: Operators and expressions\n",
    "\n",
    "hour = int(input(\"Starting time (hours): \"))\n",
    "mins = int(input(\"Starting time (minutes): \"))\n",
    "dura = int(input(\"Event duration (minutes): \"))\n",
    "\n",
    "count_mins = mins + dura\n",
    "count_hours = hour + count_mins // 60\n",
    "\n",
    "hour_in_clock = count_hours % 24\n",
    "mins_in_clock = count_mins % 60\n",
    "\n",
    "print(hour_in_clock,mins_in_clock,sep=\":\")\n"
   ]
  },
  {
   "cell_type": "code",
   "execution_count": 1,
   "id": "7c71566e",
   "metadata": {},
   "outputs": [
    {
     "name": "stdout",
     "output_type": "stream",
     "text": [
      "14:13\n"
     ]
    }
   ],
   "source": [
    "hour = int(input(\"Starting time (hours): \"))\n",
    "mins = int(input(\"Starting time (minutes): \"))\n",
    "dura = int(input(\"Event duration (minutes): \"))\n",
    "\n",
    "hours_to_mins = hour * 60 #3*60 --> 180\n",
    "total_duration = hours_to_mins+mins+dura # 180+10+20=210\n",
    "new_mins = total_duration % 60# 210%60=30\n",
    "new_hour = ((total_duration - new_mins)//60)%24 #180//60=3%24=3\n",
    "\n",
    "print(int(new_hour),\":\",int(new_mins),sep=\"\")"
   ]
  },
  {
   "cell_type": "code",
   "execution_count": 6,
   "id": "c26ba803",
   "metadata": {},
   "outputs": [
    {
     "name": "stdout",
     "output_type": "stream",
     "text": [
      "True\n"
     ]
    }
   ],
   "source": [
    "# 3.1.1.4 LAB: Questions and answers\n",
    "\n",
    "n = int(input(\"Enter an integer number: \"))\n",
    "\n",
    "print(n >= 100)"
   ]
  },
  {
   "cell_type": "markdown",
   "id": "90b6b883-bc26-4e45-a66d-79b912f3a5ef",
   "metadata": {},
   "source": [
    "John V. Guttag - Introduction to Computation and Programming Using Python"
   ]
  },
  {
   "cell_type": "code",
   "execution_count": 2,
   "id": "35b00045-dbfc-4b24-b501-20f2d17e2c2e",
   "metadata": {},
   "outputs": [
    {
     "name": "stdout",
     "output_type": "stream",
     "text": [
      "Hello Kostas! You are 36 years old.\n"
     ]
    }
   ],
   "source": [
    "name = input(\"What's your name? \")\n",
    "age = input(\"How old are you? \")\n",
    "\n",
    "print(\"Hello\", name+ \"! You are\", age, \"years old.\")"
   ]
  },
  {
   "cell_type": "code",
   "execution_count": 2,
   "id": "a74399da-9240-447c-afe6-6a464b0f80a7",
   "metadata": {},
   "outputs": [
    {
     "name": "stdout",
     "output_type": "stream",
     "text": [
      "You are an adult.\n"
     ]
    }
   ],
   "source": [
    "age = int(input(\"Enter your age: \"))\n",
    "\n",
    "if age >= 18:\n",
    "    print(\"You are an adult.\")\n",
    "else:\n",
    "    print(\"You are a minor.\")"
   ]
  },
  {
   "cell_type": "code",
   "execution_count": 1,
   "id": "ebaa367e",
   "metadata": {},
   "outputs": [
    {
     "name": "stdout",
     "output_type": "stream",
     "text": [
      "Integer a: 10\n",
      "Float b: 3.14\n",
      "String c: Python is fun!\n",
      "Boolean d: True\n"
     ]
    }
   ],
   "source": [
    "a = 10\n",
    "print(\"Integer a:\", a)\n",
    "\n",
    "b = 3.14\n",
    "print(\"Float b:\", b)\n",
    "\n",
    "c = \"Python is fun!\"\n",
    "print(\"String c:\", c)\n",
    "\n",
    "d = True\n",
    "print(\"Boolean d:\", d)\n"
   ]
  }
 ],
 "metadata": {
  "kernelspec": {
   "display_name": "lab",
   "language": "python",
   "name": "python3"
  },
  "language_info": {
   "codemirror_mode": {
    "name": "ipython",
    "version": 3
   },
   "file_extension": ".py",
   "mimetype": "text/x-python",
   "name": "python",
   "nbconvert_exporter": "python",
   "pygments_lexer": "ipython3",
   "version": "3.11.11"
  }
 },
 "nbformat": 4,
 "nbformat_minor": 5
}
