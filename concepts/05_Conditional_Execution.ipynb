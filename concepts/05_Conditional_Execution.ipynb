{
 "cells": [
  {
   "cell_type": "markdown",
   "metadata": {},
   "source": [
    "# Conditional Execution\n",
    "\n",
    "Source: OpenEDG Python Institute: Python Essentials 1"
   ]
  },
  {
   "cell_type": "markdown",
   "metadata": {},
   "source": [
    "## Basic Conditional Statements"
   ]
  },
  {
   "cell_type": "code",
   "execution_count": 1,
   "metadata": {},
   "outputs": [
    {
     "name": "stdout",
     "output_type": "stream",
     "text": [
      "No, I want a big Spathiphyllum!\n"
     ]
    }
   ],
   "source": [
    "# 3.1.1.10 LAB: Checking input with conditional execution\n",
    "\n",
    "word = input(\"Enter a word: \")\n",
    "\n",
    "if word == \"Spathiphyllum\":\n",
    "    print(\"Yes - Spathiphyllum is the best plant ever!\")\n",
    "if word == \"spathiphyllum\":\n",
    "    print(\"No, I want a big Spathiphyllum!\")\n",
    "else:\n",
    "    print(f\"Spathiphyllum! Not {word}!\")"
   ]
  },
  {
   "cell_type": "markdown",
   "metadata": {},
   "source": [
    "## Calculating Tax with Conditional Logic"
   ]
  },
  {
   "cell_type": "code",
   "execution_count": 2,
   "metadata": {},
   "outputs": [
    {
     "name": "stdout",
     "output_type": "stream",
     "text": [
      "The tax is: 1244.0 thalers\n"
     ]
    }
   ],
   "source": [
    "# 3.1.1.11 LAB: Tax calculator using if-else statements\n",
    "\n",
    "income = float(input(\"Enter the annual income: \"))\n",
    "\n",
    "# Constants for tax calculation\n",
    "LIMIT = 85528\n",
    "TAX_RELIEF = 556.02\n",
    "LOW_TAX = 0.18\n",
    "HIGH_TAX = 0.32\n",
    "\n",
    "# Calculate tax based on income thresholds\n",
    "if income <= LIMIT:\n",
    "    if income*LOW_TAX < TAX_RELIEF:\n",
    "        tax = 0\n",
    "    else:\n",
    "        tax = (income*LOW_TAX)-TAX_RELIEF\n",
    "else:\n",
    "    tax = 14839.02+((income-LIMIT)*HIGH_TAX)\n",
    "\n",
    "tax = round(tax, 0)\n",
    "print(\"The tax is:\", tax, \"thalers\")\n"
   ]
  },
  {
   "cell_type": "markdown",
   "metadata": {},
   "source": [
    "## Leap Year Checker"
   ]
  },
  {
   "cell_type": "code",
   "execution_count": 3,
   "metadata": {},
   "outputs": [
    {
     "name": "stdout",
     "output_type": "stream",
     "text": [
      "Leap year\n"
     ]
    }
   ],
   "source": [
    "# 3.1.1.12 LAB: Leap year checker using if-elif-else chain\n",
    "\n",
    "year = int(input(\"Enter a year: \"))\n",
    "\n",
    "# Constants for days in year types\n",
    "leap = 366\n",
    "common = 365\n",
    "\n",
    "# Apply leap year rules in sequence\n",
    "if year < 1582:\n",
    "    print(\"Not within the Gregorian calendar period\")\n",
    "elif year % 4 != 0:\n",
    "    print(\"Common year\")\n",
    "elif year % 100 != 0:\n",
    "    print(\"Leap year\")\n",
    "elif year % 400 != 0:\n",
    "    print(\"Common year\")\n",
    "else:\n",
    "    print(\"Leap year\")\n"
   ]
  },
  {
   "cell_type": "markdown",
   "metadata": {},
   "source": [
    "## Discount Calculator\n",
    "\n",
    "Source: Khan Academy: Intro to Computer Science - Python"
   ]
  },
  {
   "cell_type": "code",
   "execution_count": null,
   "metadata": {},
   "outputs": [
    {
     "name": "stdout",
     "output_type": "stream",
     "text": [
      "Price is:  50.0\n",
      "shipping is:  10.0\n",
      "Your best price is  48.0 $\n"
     ]
    }
   ],
   "source": [
    "# Calculating the best discount between percentage and fixed amount\n",
    "\n",
    "base_price = float(input(\"Enter cart total: \"))\n",
    "shipping = float(input(\"Enter shipping costs: \"))\n",
    "\n",
    "# Calculate prices with both discounts\n",
    "percent_discount = base_price - base_price * 0.15  # 15% off\n",
    "fixed_discount = base_price - 12                   # $12 off\n",
    "\n",
    "# Pick the coupon that offers the better deal\n",
    "final_price = (min(fixed_discount, percent_discount)+shipping)\n",
    "\n",
    "print(\"Price is: \", base_price)\n",
    "print(\"Shipping is: \", shipping)\n",
    "print(\"Your best price is \",round(final_price, 2), \"$\")"
   ]
  },
  {
   "cell_type": "markdown",
   "metadata": {},
   "source": [
    "## Input Validation with Conditionals"
   ]
  },
  {
   "cell_type": "code",
   "execution_count": 1,
   "metadata": {},
   "outputs": [
    {
     "name": "stdout",
     "output_type": "stream",
     "text": [
      "Error. Day must be between 1 and 31.\n",
      "Error. Month must be between 1 and 12.\n",
      "Error. Year must have four digits.\n"
     ]
    }
   ],
   "source": [
    "# Date validation using conditional checks\n",
    "\n",
    "# Validate day\n",
    "day = int(input(\"Enter a day (1-31): \"))\n",
    "if day < 1 or day > 31:\n",
    "    print(\"Error. Day must be between 1 and 31.\")\n",
    "\n",
    "# Months with 30 days\n",
    "thirty_day_months = [4, 6, 9, 11]\n",
    "\n",
    "# Validate month\n",
    "month = int(input(\"Enter a month (1-12): \"))\n",
    "if month < 1 or month > 12:\n",
    "    print(\"Error. Month must be between 1 and 12.\")\n",
    "\n",
    "# Check for invalid day-month combinations\n",
    "if month in thirty_day_months and day == 31:\n",
    "    print(\"Error. Day must be within the month.\")\n",
    "\n",
    "# Validate year format\n",
    "year = int(input(\"Enter a year: \"))\n",
    "if year < 1000 or year > 9999:\n",
    "    print(\"Error. Year must have four digits.\")"
   ]
  },
  {
   "cell_type": "markdown",
   "metadata": {},
   "source": [
    "## Interactive Flashcards with Scoring"
   ]
  },
  {
   "cell_type": "code",
   "execution_count": 7,
   "metadata": {},
   "outputs": [
    {
     "name": "stdout",
     "output_type": "stream",
     "text": [
      "You got it!\n",
      "You got it!\n",
      "Your score is: 2\n"
     ]
    }
   ],
   "source": [
    "# Simple flashcard system with scoring\n",
    "\n",
    "score = 0\n",
    "\n",
    "# First question\n",
    "answer = input(\"What data type is the value 6.3? \")\n",
    "if answer == \"float\":\n",
    "    score = score + 1\n",
    "    print(\"You got it!\")\n",
    "elif answer == \"integer\":\n",
    "    print(\"Integers can't have decimals.\")\n",
    "else:\n",
    "    print(\"The correct answer is: float\")\n",
    "\n",
    "# Second question\n",
    "answer = int(input(\"What does len(\\\"hi\\\") evaluate to? \"))\n",
    "if answer == 2:\n",
    "    score = score + 1\n",
    "    print(\"You got it!\")\n",
    "else:\n",
    "    print(\"The correct answer is: 2\")\n",
    "\n",
    "# Display final score\n",
    "print(\"Your score is:\", score)"
   ]
  },
  {
   "cell_type": "markdown",
   "metadata": {},
   "source": [
    "## Environmental Footprint Calculator"
   ]
  },
  {
   "cell_type": "code",
   "execution_count": 1,
   "metadata": {},
   "outputs": [
    {
     "name": "stdout",
     "output_type": "stream",
     "text": [
      "Your environmental footprint score is 55.\n"
     ]
    }
   ],
   "source": [
    "# Calculate environmental impact score based on lifestyle choices\n",
    "\n",
    "footprint = 0\n",
    "\n",
    "# Pet ownership impact\n",
    "has_pet = input(\"Do you have a pet (yes/no)? \")\n",
    "if has_pet == \"yes\":\n",
    "    # Pets consume resources like water, litter, and toys. \n",
    "    footprint = footprint + 5\n",
    "    eat_meat = input(\"Does your pet eat meat (yes/no)? \")\n",
    "    if eat_meat == \"yes\":\n",
    "        footprint = footprint + 10\n",
    "\n",
    "# Transportation impact\n",
    "days = int(input(\"How many days a week do you commute to school or work? \"))\n",
    "if days > 0:  \n",
    "    transport = input(\"Do you commute by foot, bike, bus, train, or car? \")\n",
    "    # Different methods of transportation have different environmental impacts.\n",
    "    if transport == \"car\":\n",
    "        footprint = footprint + (8 * days)\n",
    "    elif transport == \"bus\" or transport == \"train\":\n",
    "        footprint = footprint + (4 * days)\n",
    "    elif transport == \"foot\" or transport == \"bike\":\n",
    "        footprint = footprint + (1 * days)\n",
    "\n",
    "print(\"Your environmental footprint score is \" + str(footprint) + \".\")"
   ]
  },
  {
   "cell_type": "markdown",
   "metadata": {},
   "source": [
    "## Course Recommendation Engine"
   ]
  },
  {
   "cell_type": "code",
   "execution_count": null,
   "metadata": {},
   "outputs": [],
   "source": [
    "# Course recommendation engine based on user attributes\n",
    "\n",
    "\"\"\"Recommends a Khan Academy course based on grade and subject preferences.\"\"\"\n",
    "\n",
    "# Course options to choose from for our recommendation.\n",
    "math = \"Math\"\n",
    "science = \"Science\"\n",
    "computing = \"Computer Science\"\n",
    "reading = \"Reading & Language Arts\"\n",
    "arts = \"Arts & Humanities\"\n",
    "\n",
    "# Collect user attributes to inform our recommendation.\n",
    "grade = int(input(\"What grade are you in? \"))\n",
    "brain = input(\"Are you a left brain or right brain thinker?\")\n",
    "favorite_subject = input(\"What is your favorite subject? \")\n",
    "\n",
    "# Make a course recommendation based on the user's attributes.\n",
    "rec = \"\"\n",
    "if grade < 6:\n",
    "    # Course caters to younger learners.\n",
    "    rec = reading\n",
    "else:\n",
    "    if favorite_subject == \"computing\" or favorite_subject == \"math\":\n",
    "        rec = math\n",
    "    else:\n",
    "        # Most broadly relevant and approachable subject.\n",
    "        rec = arts\n",
    "\n",
    "if grade > 6:\n",
    "    rec = science\n",
    "else:\n",
    "    if favorite_subject == \"computing\" or favorite_subject == \"math\":\n",
    "        rec = math\n",
    "    else:\n",
    "        # Most broadly relevant and approachable subject.\n",
    "        rec = arts\n",
    "\n",
    "print(\"We recommend the Khan Academy course: \" + rec)\n"
   ]
  }
 ],
 "metadata": {
  "kernelspec": {
   "display_name": "lab",
   "language": "python",
   "name": "python3"
  },
  "language_info": {
   "codemirror_mode": {
    "name": "ipython",
    "version": 3
   },
   "file_extension": ".py",
   "mimetype": "text/x-python",
   "name": "python",
   "nbconvert_exporter": "python",
   "pygments_lexer": "ipython3",
   "version": "3.11.11"
  }
 },
 "nbformat": 4,
 "nbformat_minor": 2
}