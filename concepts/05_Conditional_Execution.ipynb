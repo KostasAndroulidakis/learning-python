{
 "cells": [
  {
   "cell_type": "markdown",
   "metadata": {},
   "source": [
    "OpenEDG Python Institute: Pythons Essentials 1"
   ]
  },
  {
   "cell_type": "code",
   "execution_count": 1,
   "metadata": {},
   "outputs": [
    {
     "name": "stdout",
     "output_type": "stream",
     "text": [
      "No, I want a big Spathiphyllum!\n"
     ]
    }
   ],
   "source": [
    "# 3.1.1.10 LAB: Comparison operators and conditional execution\n",
    "\n",
    "word = input(\"Enter a word: \")\n",
    "\n",
    "if word == \"Spathiphyllum\":\n",
    "    print(\"Yes - Spathiphyllum is the best plant ever!\")\n",
    "if word == \"spathiphyllum\":\n",
    "    print(\"No, I want a big Spathiphyllum!\")\n",
    "else:\n",
    "    print(f\"Spathiphyllum! Not {word}!\")"
   ]
  },
  {
   "cell_type": "code",
   "execution_count": 2,
   "metadata": {},
   "outputs": [
    {
     "name": "stdout",
     "output_type": "stream",
     "text": [
      "The tax is: 1244.0 thalers\n"
     ]
    }
   ],
   "source": [
    "# 3.1.1.11 LAB: Essentials of the if-else statement\n",
    "\n",
    "income = float(input(\"Enter the annual income: \"))\n",
    "\n",
    "LIMIT = 85528\n",
    "TAX_RELIEF = 556.02\n",
    "LOW_TAX = 0.18\n",
    "HIGH_TAX = 0.32\n",
    "\n",
    "if income <= LIMIT:\n",
    "    if income*LOW_TAX < TAX_RELIEF:\n",
    "        tax = 0\n",
    "    else:\n",
    "        tax = (income*LOW_TAX)-TAX_RELIEF\n",
    "else:\n",
    "    tax = 14839.02+((income-LIMIT)*HIGH_TAX)\n",
    "\n",
    "tax = round(tax, 0)\n",
    "print(\"The tax is:\", tax, \"thalers\")\n"
   ]
  },
  {
   "cell_type": "code",
   "execution_count": 3,
   "metadata": {},
   "outputs": [
    {
     "name": "stdout",
     "output_type": "stream",
     "text": [
      "Leap year\n"
     ]
    }
   ],
   "source": [
    "# 3.1.1.12 LAB: Essentials of the if-elif-else statement\n",
    "\n",
    "year = int(input(\"Enter a year: \"))\n",
    "\n",
    "leap = 366\n",
    "common = 365\n",
    "\n",
    "if year < 1582:\n",
    "    print(\"Not within the Gregorian calendar period\")\n",
    "elif year % 4 != 0:\n",
    "    print(\"Common year\")\n",
    "elif year % 100 != 0:\n",
    "    print(\"Leap year\")\n",
    "elif year % 400 != 0:\n",
    "    print(\"Common year\")\n",
    "else:\n",
    "    print(\"Leap year\")\n"
   ]
  },
  {
   "cell_type": "markdown",
   "metadata": {},
   "source": [
    "Khan Academy: Intro to Computer Science - Python"
   ]
  },
  {
   "cell_type": "code",
   "execution_count": null,
   "metadata": {},
   "outputs": [
    {
     "name": "stdout",
     "output_type": "stream",
     "text": [
      "Price is:  50.0\n",
      "shipping is:  10.0\n",
      "Your best price is  48.0 $\n"
     ]
    }
   ],
   "source": [
    "# Coupon discount calculator\n",
    "\n",
    "base_price = float(input(\"Enter cart total: \"))\n",
    "shipping = float(input(\"Enter shipping costs: \"))\n",
    "\n",
    "# Available coupon codes include 15% off and $12 off.\n",
    "percent_discount = base_price - base_price * 0.15\n",
    "fixed_discount = base_price - 12\n",
    "\n",
    "# Pick the coupon that offers the best discount.\n",
    "final_price = (min(fixed_discount, percent_discount)+shipping)\n",
    "\n",
    "print(\"Price is: \", base_price)\n",
    "print(\"Shipping is: \", shipping)\n",
    "print(\"Your best price is \",round(final_price, 2), \"$\")"
   ]
  },
  {
   "cell_type": "code",
   "execution_count": null,
   "metadata": {},
   "outputs": [],
   "source": []
  }
 ],
 "metadata": {
  "kernelspec": {
   "display_name": "lab",
   "language": "python",
   "name": "python3"
  },
  "language_info": {
   "codemirror_mode": {
    "name": "ipython",
    "version": 3
   },
   "file_extension": ".py",
   "mimetype": "text/x-python",
   "name": "python",
   "nbconvert_exporter": "python",
   "pygments_lexer": "ipython3",
   "version": "3.11.11"
  }
 },
 "nbformat": 4,
 "nbformat_minor": 2
}
