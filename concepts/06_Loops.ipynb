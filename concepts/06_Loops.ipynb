{
 "cells": [
  {
   "cell_type": "markdown",
   "metadata": {},
   "source": [
    "OpenEDG Python Institute: Pythons Essentials 1"
   ]
  },
  {
   "cell_type": "code",
   "execution_count": 2,
   "metadata": {},
   "outputs": [
    {
     "name": "stdout",
     "output_type": "stream",
     "text": [
      "\n",
      "+================================+\n",
      "| Welcome to my game, muggle!    |\n",
      "| Enter an integer number        |\n",
      "| and guess what number I've     |\n",
      "| picked for you.                |\n",
      "| So, what is the secret number? |\n",
      "+================================+\n",
      "\n",
      "\"Well done, muggle! You are free now.\"\n"
     ]
    }
   ],
   "source": [
    "# 3.2.1.3 LAB: Essentials of the while loop - Guess the secret number\n",
    "\n",
    "secret_number = 777\n",
    "\n",
    "print(\n",
    "\"\"\"\n",
    "+================================+\n",
    "| Welcome to my game, muggle!    |\n",
    "| Enter an integer number        |\n",
    "| and guess what number I've     |\n",
    "| picked for you.                |\n",
    "| So, what is the secret number? |\n",
    "+================================+\n",
    "\"\"\")\n",
    "\n",
    "user_number = int(input(\"Enter an integer number: \"))\n",
    "\n",
    "while user_number != secret_number:\n",
    "    print(\"Ha ha! You're stuck in my loop!\")\n",
    "    user_number = int(input(\"Try again! Enter an integer number: \"))\n",
    "\n",
    "print('\"Well done, muggle! You are free now.\"')"
   ]
  },
  {
   "cell_type": "code",
   "execution_count": 3,
   "metadata": {},
   "outputs": [
    {
     "name": "stdout",
     "output_type": "stream",
     "text": [
      "The value of i is currently 0\n",
      "The value of i is currently 1\n",
      "The value of i is currently 2\n",
      "The value of i is currently 3\n",
      "The value of i is currently 4\n",
      "The value of i is currently 5\n",
      "The value of i is currently 6\n",
      "The value of i is currently 7\n",
      "The value of i is currently 8\n",
      "The value of i is currently 9\n",
      "The value of i is currently 2\n",
      "The value of i is currently 3\n",
      "The value of i is currently 4\n",
      "The value of i is currently 5\n",
      "The value of i is currently 6\n",
      "The value of i is currently 7\n",
      "The value of i is currently 2\n",
      "The value of i is currently 5\n"
     ]
    }
   ],
   "source": [
    "# 3.2.1.5 Loops in Python | for\n",
    "\n",
    "# Basic for loop with range(stop)\n",
    "for i in range(10):\n",
    "    print(\"The value of i is currently\", i)\n",
    "\n",
    "# For loop with range(start, stop)\n",
    "for i in range(2, 8):\n",
    "    print(\"The value of i is currently\", i)\n",
    "\n",
    "# For loop with range(start, stop, step)\n",
    "for i in range(2, 8, 3):\n",
    "    print(\"The value of i is currently\", i)"
   ]
  },
  {
   "cell_type": "code",
   "execution_count": 4,
   "metadata": {},
   "outputs": [
    {
     "name": "stdout",
     "output_type": "stream",
     "text": [
      "1 Mississipi\n",
      "2 Mississipi\n",
      "3 Mississipi\n",
      "4 Mississipi\n",
      "5 Mississipi\n",
      "Ready or not, here I come!\n"
     ]
    }
   ],
   "source": [
    "# 3.2.1.6 LAB: Essentials of the for loop – counting mississippily\n",
    "\n",
    "import time\n",
    "\n",
    "# Write a for loop that counts to five.\n",
    "for i in range(1, 6):\n",
    "    # Body of the loop - print the loop iteration number and the word \"Mississippi\".\n",
    "    print(i, \"Mississipi\")\n",
    "    # Body of the loop - use: time.sleep(1)\n",
    "    time.sleep(1)\n",
    "\n",
    "# Write a print function with the final message.\n",
    "print(\"Ready or not, here I come!\")"
   ]
  },
  {
   "cell_type": "code",
   "execution_count": 5,
   "metadata": {},
   "outputs": [
    {
     "name": "stdout",
     "output_type": "stream",
     "text": [
      "You've successfully left the loop.\n"
     ]
    }
   ],
   "source": [
    "# 3.2.1.9 LAB: The break statement - Stuck in a loop\n",
    "\n",
    "secret_word = \"chupacabra\"\n",
    "user_word = input(\"Enter a word: \")\n",
    "\n",
    "while True:\n",
    "    if user_word == secret_word:\n",
    "        break\n",
    "    user_word = input(\"Wrong! Try again!\\nEnter a word: \")\n",
    "\n",
    "print(\"You've successfully left the loop.\")"
   ]
  },
  {
   "cell_type": "code",
   "execution_count": 6,
   "metadata": {},
   "outputs": [
    {
     "name": "stdout",
     "output_type": "stream",
     "text": [
      "K\n",
      "S\n",
      "T\n",
      "S\n"
     ]
    }
   ],
   "source": [
    "# 3.2.1.10 LAB: The continue statement - the Ugly Vowel Eater\n",
    "\n",
    "# Prompt the user to enter a word\n",
    "# and assign it to the user_word variable.\n",
    "user_word = input(\"Enter a word: \")\n",
    "\n",
    "# Convert word to upper letters\n",
    "user_word = user_word.upper()\n",
    "\n",
    "for letter in user_word:\n",
    "    if letter in ['A', 'E', 'I', 'O', 'U']:\n",
    "        continue\n",
    "    else:\n",
    "        print(letter)"
   ]
  },
  {
   "cell_type": "code",
   "execution_count": 7,
   "metadata": {},
   "outputs": [
    {
     "name": "stdout",
     "output_type": "stream",
     "text": [
      "KSTS\n"
     ]
    }
   ],
   "source": [
    "# 3.2.1.11 LAB: The continue statement - the Pretty Vowel Eater\n",
    "\n",
    "# Prepare an empty string\n",
    "word_without_vowels = \"\"\n",
    "\n",
    "# Prompt the user to enter a word\n",
    "user_word = input(\"Enter a word: \")\n",
    "\n",
    "# Convert word to upper letters\n",
    "user_word = user_word.upper()\n",
    "\n",
    "for letter in user_word:\n",
    "    if letter in ['A', 'E', 'I', 'O', 'U']:\n",
    "        continue\n",
    "    else:\n",
    "        word_without_vowels += letter\n",
    "        \n",
    "# Print the word assigned to word_without_vowels.\n",
    "print(word_without_vowels)"
   ]
  },
  {
   "cell_type": "code",
   "execution_count": 8,
   "metadata": {},
   "outputs": [
    {
     "name": "stdout",
     "output_type": "stream",
     "text": [
      "1\n",
      "2\n",
      "3\n",
      "4\n",
      "else: 5\n"
     ]
    }
   ],
   "source": [
    "# 3.2.1.12 Python loops | else\n",
    "\n",
    "i = 1\n",
    "while i < 5:\n",
    "    print(i)\n",
    "    i += 1\n",
    "else:\n",
    "    print(\"else:\", i)"
   ]
  },
  {
   "cell_type": "code",
   "execution_count": 9,
   "metadata": {},
   "outputs": [
    {
     "name": "stdout",
     "output_type": "stream",
     "text": [
      "else: 111\n",
      "0\n",
      "1\n",
      "2\n",
      "3\n",
      "4\n",
      "else: 4\n"
     ]
    }
   ],
   "source": [
    "# 3.2.1.13 Python loops | else\n",
    "\n",
    "i = 111\n",
    "for i in range(2, 1):\n",
    "    print(i)\n",
    "else:\n",
    "    print(\"else:\", i)\n",
    "\n",
    "for i in range(5):\n",
    "    print(i)\n",
    "else:\n",
    "    print(\"else:\", i)"
   ]
  },
  {
   "cell_type": "code",
   "execution_count": 11,
   "metadata": {},
   "outputs": [
    {
     "name": "stdout",
     "output_type": "stream",
     "text": [
      "The height of the pyramid: 5\n"
     ]
    }
   ],
   "source": [
    "# 3.2.1.14 LAB: Essentials of the while loop\n",
    "\n",
    "# Asks user to enter the number of blocks\n",
    "blocks = int(input(\"Enter the number of blocks: \"))\n",
    "\n",
    "# Create a variable for the height\n",
    "height = 0\n",
    "\n",
    "# Create a variable for the block per layer\n",
    "layer_blocks = 1    # first layer\n",
    "\n",
    "# Create a variable for the remaining blocks\n",
    "remaining_blocks = blocks\n",
    "\n",
    "# while loop\n",
    "while remaining_blocks >= layer_blocks:\n",
    "    remaining_blocks -= layer_blocks    # subtract used blocks\n",
    "    height += 1    # add 1 for each layer\n",
    "    layer_blocks += 1    # one block for the next layer\n",
    "    \n",
    "# Prints the final height\n",
    "print(\"The height of the pyramid:\", height)"
   ]
  },
  {
   "cell_type": "code",
   "execution_count": 1,
   "metadata": {},
   "outputs": [
    {
     "name": "stdout",
     "output_type": "stream",
     "text": [
      "#\n",
      "#\n"
     ]
    }
   ],
   "source": [
    "# Example: For loop with else\n",
    "for i in range(1):\n",
    "    print(\"#\")\n",
    "else:\n",
    "    print(\"#\")\n",
    "# Output: Two # symbols"
   ]
  },
  {
   "cell_type": "code",
   "execution_count": 2,
   "metadata": {},
   "outputs": [
    {
     "name": "stdout",
     "output_type": "stream",
     "text": [
      "*\n"
     ]
    }
   ],
   "source": [
    "# Example: While loop with break\n",
    "i = 0\n",
    "while i <= 5:\n",
    "    i += 1\n",
    "    if i % 2 == 0:\n",
    "        break\n",
    "    print(\"*\")\n",
    "# Output: One * symbol"
   ]
  },
  {
   "cell_type": "code",
   "execution_count": 3,
   "metadata": {},
   "outputs": [
    {
     "name": "stdout",
     "output_type": "stream",
     "text": [
      "#\n",
      "#\n",
      "#\n",
      "#\n"
     ]
    }
   ],
   "source": [
    "# Example: While loop with bitshift\n",
    "var = 1\n",
    "while var < 10:\n",
    "    print(\"#\")\n",
    "    var = var << 1\n",
    "# Output: Four # symbols"
   ]
  },
  {
   "cell_type": "code",
   "execution_count": 4,
   "metadata": {},
   "outputs": [
    {
     "name": "stdout",
     "output_type": "stream",
     "text": [
      "#\n",
      "#\n",
      "#\n"
     ]
    }
   ],
   "source": [
    "# Example: While loop with continue\n",
    "var = 0\n",
    "while var < 6:\n",
    "    var += 1\n",
    "    if var % 2 == 0:\n",
    "        continue\n",
    "    print(\"#\")\n",
    "# Output: Three # symbols"
   ]
  },
  {
   "cell_type": "code",
   "execution_count": 5,
   "metadata": {},
   "outputs": [
    {
     "name": "stdout",
     "output_type": "stream",
     "text": [
      "*\n",
      "*\n"
     ]
    }
   ],
   "source": [
    "# Example: Infinite loop with condition\n",
    "i = 0\n",
    "while i <= 3:\n",
    "    i += 2\n",
    "    print(\"*\")\n",
    "# Output: Two * symbols"
   ]
  },
  {
   "cell_type": "code",
   "execution_count": null,
   "metadata": {},
   "outputs": [],
   "source": [
    "# Example: While loop that never executes\n",
    "i = 0\n",
    "while i < i + 2:\n",
    "    i += 1\n",
    "    print(\"*\")\n",
    "else:\n",
    "    print(\"*\")\n",
    "# Note: This creates an infinite loop as the condition is always true"
   ]
  },
  {
   "cell_type": "markdown",
   "metadata": {},
   "source": [
    "Khan Academy: Intro to Computer Science - Python"
   ]
  },
  {
   "cell_type": "code",
   "execution_count": null,
   "metadata": {},
   "outputs": [],
   "source": [
    "# Dice rolls\n",
    "\n",
    "import random\n",
    "\n",
    "repetitions = int(input(\"How many times would you like to repeat the experiment? \"))\n",
    "\n",
    "times = 0\n",
    "total_rolls = 0\n",
    "\n",
    "while times < repetitions:\n",
    "    # Roll two six-sided dice.\n",
    "    first_die = random.randint(1, 6)\n",
    "    second_die = random.randint(1, 6)\n",
    "    dice_sum = first_die + second_die\n",
    "    print(\"You rolled a \" + str(dice_sum) + \"!\")\n",
    "    times = times + 1\n",
    "    total_rolls = total_rolls + dice_sum\n",
    "\n",
    "rolls_average = total_rolls / repetitions\n",
    "print(\"The average of your rolls are: \", rolls_average)"
   ]
  }
 ],
 "metadata": {
  "kernelspec": {
   "display_name": "lab",
   "language": "python",
   "name": "python3"
  },
  "language_info": {
   "codemirror_mode": {
    "name": "ipython",
    "version": 3
   },
   "file_extension": ".py",
   "mimetype": "text/x-python",
   "name": "python",
   "nbconvert_exporter": "python",
   "pygments_lexer": "ipython3",
   "version": "3.11.11"
  }
 },
 "nbformat": 4,
 "nbformat_minor": 2
}
