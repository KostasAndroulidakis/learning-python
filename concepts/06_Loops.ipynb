{
 "cells": [
  {
   "cell_type": "markdown",
   "metadata": {},
   "source": [
    "# Loops\n",
    "\n",
    "Source: OpenEDG Python Institute: Python Essentials 1"
   ]
  },
  {
   "cell_type": "markdown",
   "metadata": {},
   "source": [
    "## While Loops"
   ]
  },
  {
   "cell_type": "code",
   "execution_count": 2,
   "metadata": {},
   "outputs": [
    {
     "name": "stdout",
     "output_type": "stream",
     "text": [
      "\n",
      "+================================+\n",
      "| Welcome to my game, muggle!    |\n",
      "| Enter an integer number        |\n",
      "| and guess what number I've     |\n",
      "| picked for you.                |\n",
      "| So, what is the secret number? |\n",
      "+================================+\n",
      "\n",
      "\"Well done, muggle! You are free now.\"\n"
     ]
    }
   ],
   "source": [
    "# 3.2.1.3 LAB: Guessing game with a while loop\n",
    "\n",
    "secret_number = 777\n",
    "\n",
    "print(\n",
    "\"\"\"\n",
    "+================================+\n",
    "| Welcome to my game, muggle!    |\n",
    "| Enter an integer number        |\n",
    "| and guess what number I've     |\n",
    "| picked for you.                |\n",
    "| So, what is the secret number? |\n",
    "+================================+\n",
    "\"\"\")\n",
    "\n",
    "user_number = int(input(\"Enter an integer number: \"))\n",
    "\n",
    "# Loop until the correct number is guessed\n",
    "while user_number != secret_number:\n",
    "    print(\"Ha ha! You're stuck in my loop!\")\n",
    "    user_number = int(input(\"Try again! Enter an integer number: \"))\n",
    "\n",
    "print('\"Well done, muggle! You are free now.\"')"
   ]
  },
  {
   "cell_type": "markdown",
   "metadata": {},
   "source": [
    "## For Loops"
   ]
  },
  {
   "cell_type": "code",
   "execution_count": 3,
   "metadata": {},
   "outputs": [
    {
     "name": "stdout",
     "output_type": "stream",
     "text": [
      "The value of i is currently 0\n",
      "The value of i is currently 1\n",
      "The value of i is currently 2\n",
      "The value of i is currently 3\n",
      "The value of i is currently 4\n",
      "The value of i is currently 5\n",
      "The value of i is currently 6\n",
      "The value of i is currently 7\n",
      "The value of i is currently 8\n",
      "The value of i is currently 9\n",
      "The value of i is currently 2\n",
      "The value of i is currently 3\n",
      "The value of i is currently 4\n",
      "The value of i is currently 5\n",
      "The value of i is currently 6\n",
      "The value of i is currently 7\n",
      "The value of i is currently 2\n",
      "The value of i is currently 5\n"
     ]
    }
   ],
   "source": [
    "# 3.2.1.5 Demonstrating range() parameters in for loops\n",
    "\n",
    "# Basic for loop with range(stop)\n",
    "for i in range(10):\n",
    "    print(\"The value of i is currently\", i)\n",
    "\n",
    "# For loop with range(start, stop)\n",
    "for i in range(2, 8):\n",
    "    print(\"The value of i is currently\", i)\n",
    "\n",
    "# For loop with range(start, stop, step)\n",
    "for i in range(2, 8, 3):\n",
    "    print(\"The value of i is currently\", i)"
   ]
  },
  {
   "cell_type": "code",
   "execution_count": 4,
   "metadata": {},
   "outputs": [
    {
     "name": "stdout",
     "output_type": "stream",
     "text": [
      "1 Mississipi\n",
      "2 Mississipi\n",
      "3 Mississipi\n",
      "4 Mississipi\n",
      "5 Mississipi\n",
      "Ready or not, here I come!\n"
     ]
    }
   ],
   "source": [
    "# 3.2.1.6 LAB: Creating a countdown timer\n",
    "\n",
    "import time\n",
    "\n",
    "# Count from 1 to 5 with a 1-second delay between each count\n",
    "for i in range(1, 6):\n",
    "    # Print the count and \"Mississippi\"\n",
    "    print(i, \"Mississipi\")\n",
    "    # Delay for 1 second\n",
    "    time.sleep(1)\n",
    "\n",
    "# Final message after the countdown\n",
    "print(\"Ready or not, here I come!\")"
   ]
  },
  {
   "cell_type": "markdown",
   "metadata": {},
   "source": [
    "## Break and Continue Statements"
   ]
  },
  {
   "cell_type": "code",
   "execution_count": 5,
   "metadata": {},
   "outputs": [
    {
     "name": "stdout",
     "output_type": "stream",
     "text": [
      "You've successfully left the loop.\n"
     ]
    }
   ],
   "source": [
    "# 3.2.1.9 LAB: Using break to escape an infinite loop\n",
    "\n",
    "secret_word = \"chupacabra\"\n",
    "user_word = input(\"Enter a word: \")\n",
    "\n",
    "# Create an infinite loop that breaks when the secret word is entered\n",
    "while True:\n",
    "    if user_word == secret_word:\n",
    "        break\n",
    "    user_word = input(\"Wrong! Try again!\\nEnter a word: \")\n",
    "\n",
    "print(\"You've successfully left the loop.\")"
   ]
  },
  {
   "cell_type": "code",
   "execution_count": 6,
   "metadata": {},
   "outputs": [
    {
     "name": "stdout",
     "output_type": "stream",
     "text": [
      "K\n",
      "S\n",
      "T\n",
      "S\n"
     ]
    }
   ],
   "source": [
    "# 3.2.1.10 LAB: Using continue to skip vowels in a string\n",
    "\n",
    "# Get a word from the user\n",
    "user_word = input(\"Enter a word: \")\n",
    "\n",
    "# Convert word to upper letters\n",
    "user_word = user_word.upper()\n",
    "\n",
    "# Loop through each letter and print consonants\n",
    "for letter in user_word:\n",
    "    if letter in ['A', 'E', 'I', 'O', 'U']:\n",
    "        continue  # Skip vowels\n",
    "    else:\n",
    "        print(letter)"
   ]
  },
  {
   "cell_type": "code",
   "execution_count": 7,
   "metadata": {},
   "outputs": [
    {
     "name": "stdout",
     "output_type": "stream",
     "text": [
      "KSTS\n"
     ]
    }
   ],
   "source": [
    "# 3.2.1.11 LAB: Constructing a string without vowels\n",
    "\n",
    "# Prepare an empty string\n",
    "word_without_vowels = \"\"\n",
    "\n",
    "# Get a word from the user\n",
    "user_word = input(\"Enter a word: \")\n",
    "\n",
    "# Convert word to upper letters\n",
    "user_word = user_word.upper()\n",
    "\n",
    "# Append consonants to the output string\n",
    "for letter in user_word:\n",
    "    if letter in ['A', 'E', 'I', 'O', 'U']:\n",
    "        continue  # Skip vowels\n",
    "    else:\n",
    "        word_without_vowels += letter\n",
    "        \n",
    "# Print the final string without vowels\n",
    "print(word_without_vowels)"
   ]
  },
  {
   "cell_type": "markdown",
   "metadata": {},
   "source": [
    "## Loops with Else Clauses"
   ]
  },
  {
   "cell_type": "code",
   "execution_count": 8,
   "metadata": {},
   "outputs": [
    {
     "name": "stdout",
     "output_type": "stream",
     "text": [
      "1\n",
      "2\n",
      "3\n",
      "4\n",
      "else: 5\n"
     ]
    }
   ],
   "source": [
    "# 3.2.1.12 Demonstrating else clause with while loop\n",
    "\n",
    "i = 1\n",
    "while i < 5:\n",
    "    print(i)\n",
    "    i += 1\n",
    "else:\n",
    "    # Executed after the loop completes normally\n",
    "    print(\"else:\", i)"
   ]
  },
  {
   "cell_type": "code",
   "execution_count": 9,
   "metadata": {},
   "outputs": [
    {
     "name": "stdout",
     "output_type": "stream",
     "text": [
      "else: 111\n",
      "0\n",
      "1\n",
      "2\n",
      "3\n",
      "4\n",
      "else: 4\n"
     ]
    }
   ],
   "source": [
    "# 3.2.1.13 Demonstrating else clause with for loops\n",
    "\n",
    "i = 111\n",
    "# This loop doesn't execute (empty range) but else still runs\n",
    "for i in range(2, 1):\n",
    "    print(i)\n",
    "else:\n",
    "    print(\"else:\", i)\n",
    "\n",
    "# This loop executes normally and then runs else\n",
    "for i in range(5):\n",
    "    print(i)\n",
    "else:\n",
    "    print(\"else:\", i)"
   ]
  },
  {
   "cell_type": "markdown",
   "metadata": {},
   "source": [
    "## Lab Exercise: Pyramid Height"
   ]
  },
  {
   "cell_type": "code",
   "execution_count": 11,
   "metadata": {},
   "outputs": [
    {
     "name": "stdout",
     "output_type": "stream",
     "text": [
      "The height of the pyramid: 5\n"
     ]
    }
   ],
   "source": [
    "# 3.2.1.14 LAB: Calculating pyramid height from blocks\n",
    "\n",
    "# Get the total number of blocks from user\n",
    "blocks = int(input(\"Enter the number of blocks: \"))\n",
    "\n",
    "# Initialize variables for calculation\n",
    "height = 0               # Current pyramid height\n",
    "layer_blocks = 1         # Blocks needed for first layer\n",
    "remaining_blocks = blocks # Blocks still available\n",
    "\n",
    "# Calculate pyramid height by adding layers until we can't complete another layer\n",
    "while remaining_blocks >= layer_blocks:\n",
    "    remaining_blocks -= layer_blocks    # Use blocks for current layer\n",
    "    height += 1                         # Increase height\n",
    "    layer_blocks += 1                   # Next layer requires one more block\n",
    "    \n",
    "# Display the final pyramid height\n",
    "print(\"The height of the pyramid:\", height)"
   ]
  },
  {
   "cell_type": "markdown",
   "metadata": {},
   "source": [
    "## Loop Examples and Edge Cases"
   ]
  },
  {
   "cell_type": "code",
   "execution_count": 1,
   "metadata": {},
   "outputs": [
    {
     "name": "stdout",
     "output_type": "stream",
     "text": [
      "#\n",
      "#\n"
     ]
    }
   ],
   "source": [
    "# For loop with else clause example\n",
    "for i in range(1):\n",
    "    print(\"#\")\n",
    "else:\n",
    "    print(\"#\")\n",
    "# Output: Two # symbols"
   ]
  },
  {
   "cell_type": "code",
   "execution_count": 2,
   "metadata": {},
   "outputs": [
    {
     "name": "stdout",
     "output_type": "stream",
     "text": [
      "*\n"
     ]
    }
   ],
   "source": [
    "# While loop with early break\n",
    "i = 0\n",
    "while i <= 5:\n",
    "    i += 1\n",
    "    if i % 2 == 0:  # Break when i is even\n",
    "        break\n",
    "    print(\"*\")\n",
    "# Output: One * symbol (prints for i=1, then breaks at i=2)"
   ]
  },
  {
   "cell_type": "code",
   "execution_count": 3,
   "metadata": {},
   "outputs": [
    {
     "name": "stdout",
     "output_type": "stream",
     "text": [
      "#\n",
      "#\n",
      "#\n",
      "#\n"
     ]
    }
   ],
   "source": [
    "# While loop with bitshift operator for exponential growth\n",
    "var = 1\n",
    "while var < 10:\n",
    "    print(\"#\")\n",
    "    var = var << 1  # Left shift: multiplies by 2 each time\n",
    "# Output: Four # symbols (for var = 1, 2, 4, 8)"
   ]
  },
  {
   "cell_type": "code",
   "execution_count": 4,
   "metadata": {},
   "outputs": [
    {
     "name": "stdout",
     "output_type": "stream",
     "text": [
      "#\n",
      "#\n",
      "#\n"
     ]
    }
   ],
   "source": [
    "# While loop with continue to skip even numbers\n",
    "var = 0\n",
    "while var < 6:\n",
    "    var += 1\n",
    "    if var % 2 == 0:  # Skip even numbers\n",
    "        continue\n",
    "    print(\"#\")\n",
    "# Output: Three # symbols (for var = 1, 3, 5)"
   ]
  },
  {
   "cell_type": "code",
   "execution_count": 5,
   "metadata": {},
   "outputs": [
    {
     "name": "stdout",
     "output_type": "stream",
     "text": [
      "*\n",
      "*\n"
     ]
    }
   ],
   "source": [
    "# Simple loop with step-by-2 increments\n",
    "i = 0\n",
    "while i <= 3:\n",
    "    i += 2\n",
    "    print(\"*\")\n",
    "# Output: Two * symbols (for i = 2, 4)"
   ]
  },
  {
   "cell_type": "markdown",
   "metadata": {},
   "source": [
    "## Practical Applications\n",
    "\n",
    "Source: Khan Academy: Intro to Computer Science - Python"
   ]
  },
  {
   "cell_type": "code",
   "execution_count": 1,
   "metadata": {},
   "outputs": [
    {
     "name": "stdout",
     "output_type": "stream",
     "text": [
      "You rolled a 3!\n",
      "You rolled a 11!\n",
      "You rolled a 3!\n",
      "You rolled a 6!\n",
      "You rolled a 7!\n",
      "The average of your rolls are:  6.0\n"
     ]
    }
   ],
   "source": [
    "# Dice simulation with statistical analysis\n",
    "\n",
    "import random\n",
    "\n",
    "# Get user input for experiment repetitions\n",
    "repetitions = int(input(\"How many times would you like to repeat the experiment? \"))\n",
    "\n",
    "times = 0\n",
    "total_rolls = 0\n",
    "\n",
    "# Roll dice the requested number of times\n",
    "while times < repetitions:\n",
    "    # Roll two six-sided dice\n",
    "    first_die = random.randint(1, 6)\n",
    "    second_die = random.randint(1, 6)\n",
    "    dice_sum = first_die + second_die\n",
    "    print(\"You rolled a \" + str(dice_sum) + \"!\")\n",
    "    times = times + 1\n",
    "    total_rolls = total_rolls + dice_sum\n",
    "\n",
    "# Calculate and display the average roll value\n",
    "rolls_average = total_rolls / repetitions\n",
    "print(\"The average of your rolls are: \", rolls_average)"
   ]
  },
  {
   "cell_type": "code",
   "execution_count": null,
   "metadata": {},
   "outputs": [],
   "source": [
    "# Restaurant queue simulation\n",
    "\n",
    "import random\n",
    "\n",
    "# Setup initial conditions\n",
    "num_cashiers = 1\n",
    "num_cooks = 2\n",
    "\n",
    "waiting_to_order = 0\n",
    "waiting_for_food = 0\n",
    "customers_served = 0\n",
    "\n",
    "# Simulate restaurant operations over 300 minutes\n",
    "for minute in range(300):\n",
    "    # New customers arrive (0-6 per minute)\n",
    "    waiting_to_order = waiting_to_order + random.randint(0, 6)\n",
    "    \n",
    "    # Cashiers process orders (up to 3 per cashier per minute)\n",
    "    new_orders = min(num_cashiers * 3, waiting_to_order)\n",
    "\n",
    "    # Cooks fulfill orders (up to 2 per cook per minute)\n",
    "    fullfilled_orders = min(num_cooks, new_orders)\n",
    "    \n",
    "    # Update customer counts in different states\n",
    "    waiting_to_order = waiting_to_order - new_orders\n",
    "    waiting_for_food = waiting_for_food + new_orders - fullfilled_orders\n",
    "    customers_served = customers_served + fullfilled_orders\n",
    "    \n",
    "    # Display current queue status\n",
    "    print(str(waiting_to_order) + \" customers waiting to order.\")\n",
    "    print(str(waiting_for_food) + \" customers waiting for food.\")\n",
    "\n",
    "# Display final service count\n",
    "print(str(customers_served) + \" customers serverd.\")\n"
   ]
  }
 ],
 "metadata": {
  "kernelspec": {
   "display_name": "lab",
   "language": "python",
   "name": "python3"
  },
  "language_info": {
   "codemirror_mode": {
    "name": "ipython",
    "version": 3
   },
   "file_extension": ".py",
   "mimetype": "text/x-python",
   "name": "python",
   "nbconvert_exporter": "python",
   "pygments_lexer": "ipython3",
   "version": "3.11.11"
  }
 },
 "nbformat": 4,
 "nbformat_minor": 2
}