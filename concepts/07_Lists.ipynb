{
 "cells": [
  {
   "cell_type": "markdown",
   "metadata": {},
   "source": [
    "# Lists\n",
    "\n",
    "Source: OpenEDG Python Institute: Python Essentials 1"
   ]
  },
  {
   "cell_type": "markdown",
   "metadata": {},
   "source": [
    "## Basic List Operations"
   ]
  },
  {
   "cell_type": "code",
   "execution_count": 1,
   "metadata": {},
   "outputs": [
    {
     "name": "stdout",
     "output_type": "stream",
     "text": [
      "4\n",
      "[1, 2, 3, 4]\n"
     ]
    }
   ],
   "source": [
    "# 3.4.1.6 LAB: Manipulating list elements\n",
    "\n",
    "# The existing list of numbers hidden in the hat\n",
    "hat_list = [1, 2, 3, 4, 5]\n",
    "\n",
    "# Step 1: Replace the middle number with user input\n",
    "hat_list[2] = int(input(\"Enter an integer number: \"))\n",
    "\n",
    "# Step 2: Remove the last element from the list\n",
    "hat_list.pop()  # Permanently removes the last element\n",
    "\n",
    "# Step 3: Print the length of the resulting list\n",
    "print(len(hat_list))\n",
    "\n",
    "# Display the modified list\n",
    "print(hat_list)"
   ]
  },
  {
   "cell_type": "markdown",
   "metadata": {},
   "source": [
    "## Building Lists Step by Step"
   ]
  },
  {
   "cell_type": "code",
   "execution_count": 1,
   "metadata": {},
   "outputs": [
    {
     "name": "stdout",
     "output_type": "stream",
     "text": [
      "Step 1: []\n",
      "Step 2: ['John Lennon', 'Paul McCartney', 'George Harrison']\n",
      "Step 3: ['John Lennon', 'Paul McCartney', 'George Harrison']\n",
      "Step 4: ['John Lennon', 'Paul McCartney', 'George Harrison']\n",
      "Step 5: ['John Lennon', 'Paul McCartney', 'George Harrison']\n",
      "The Fab 3\n"
     ]
    }
   ],
   "source": [
    "# 3.4.1.13 LAB: Building a list - the Beatles\n",
    "\n",
    "# Step 1: Create an empty list named beatles\n",
    "beatles=[]\n",
    "print(\"Step 1:\", beatles)\n",
    "\n",
    "# Step 2: Add the band members one by one\n",
    "members=[\"John Lennon\", \"Paul McCartney\", \"George Harrison\"]\n",
    "for element in members:\n",
    "    if element not in beatles:\n",
    "        beatles.append(element)\n",
    "print(\"Step 2:\", beatles)\n",
    "\n",
    "# Step 3: More members could be added here\n",
    "print(\"Step 3:\", beatles)\n",
    "\n",
    "# Step 4: More members could be added here\n",
    "print(\"Step 4:\", beatles)\n",
    "\n",
    "# Step 5: Final band composition\n",
    "print(\"Step 5:\", beatles)\n",
    "\n",
    "# Display band size\n",
    "print(\"The Fab\", len(beatles))\n"
   ]
  },
  {
   "cell_type": "markdown",
   "metadata": {},
   "source": [
    "## Filtering Duplicate Elements"
   ]
  },
  {
   "cell_type": "code",
   "execution_count": 1,
   "metadata": {},
   "outputs": [
    {
     "name": "stdout",
     "output_type": "stream",
     "text": [
      "The list with unique elements only:\n",
      "[1, 2, 4, 6, 9]\n"
     ]
    }
   ],
   "source": [
    "# 3.6.1.9 LAB: Creating a list with unique elements\n",
    "\n",
    "# Original list with duplicate elements\n",
    "my_list = [1, 2, 4, 4, 1, 4, 2, 6, 2, 9]\n",
    "\n",
    "# Create a new list for unique elements\n",
    "new_list = []\n",
    "\n",
    "# Filter out duplicates using a loop\n",
    "for element in my_list:\n",
    "    if element not in new_list:  # Check if element already exists\n",
    "        new_list.append(element) # Add only if it's not already in the list\n",
    "\n",
    "print(\"The list with unique elements only:\")\n",
    "print(new_list)"
   ]
  },
  {
   "cell_type": "markdown",
   "metadata": {},
   "source": [
    "## List Manipulation Examples"
   ]
  },
  {
   "cell_type": "code",
   "execution_count": 2,
   "metadata": {},
   "outputs": [
    {
     "name": "stdout",
     "output_type": "stream",
     "text": [
      "[1, 1, 2]\n"
     ]
    }
   ],
   "source": [
    "# Example: Inserting and deleting list elements\n",
    "vals = [0, 1, 2]\n",
    "vals.insert(0, 1)  # Insert 1 at position 0\n",
    "del vals[1]        # Delete element at index 1\n",
    "print(vals)        # Output: [1, 1, 2]"
   ]
  },
  {
   "cell_type": "code",
   "execution_count": 3,
   "metadata": {},
   "outputs": [
    {
     "name": "stdout",
     "output_type": "stream",
     "text": [
      "[2, 1, 0]\n"
     ]
    }
   ],
   "source": [
    "# Example: Swapping list elements\n",
    "vals = [0, 1, 2]\n",
    "vals[0], vals[2] = vals[2], vals[0]  # Swap first and last elements\n",
    "print(vals)  # Output: [2, 1, 0]"
   ]
  },
  {
   "cell_type": "code",
   "execution_count": 4,
   "metadata": {},
   "outputs": [
    {
     "name": "stdout",
     "output_type": "stream",
     "text": [
      "[]\n"
     ]
    }
   ],
   "source": [
    "# Example: Invalid slice produces empty list\n",
    "nums = [1, 2, 3]\n",
    "vals = nums[-1:-2]  # This is an empty slice (end before start)\n",
    "print(vals)  # Output: [] (empty list)"
   ]
  },
  {
   "cell_type": "code",
   "execution_count": 5,
   "metadata": {},
   "outputs": [
    {
     "name": "stdout",
     "output_type": "stream",
     "text": [
      "[-1, 0, 1]\n"
     ]
    }
   ],
   "source": [
    "# Example: List comprehension\n",
    "my_list = [i for i in range(-1, 2)]  # Create list with range values\n",
    "print(my_list)  # Output: [-1, 0, 1]"
   ]
  },
  {
   "cell_type": "markdown",
   "metadata": {},
   "source": [
    "## Advanced List Operations"
   ]
  },
  {
   "cell_type": "code",
   "execution_count": 6,
   "metadata": {},
   "outputs": [
    {
     "name": "stdout",
     "output_type": "stream",
     "text": [
      "[1, 1, 1, 1, 2, 3]\n"
     ]
    }
   ],
   "source": [
    "# Example: List modification within a loop\n",
    "my_list = [1, 2, 3]\n",
    "for v in range(len(my_list)):\n",
    "    my_list.insert(1, my_list[v])  # Insert current element at position 1\n",
    "print(my_list)  # Output: [1, 1, 1, 1, 2, 3]"
   ]
  },
  {
   "cell_type": "code",
   "execution_count": 7,
   "metadata": {},
   "outputs": [
    {
     "name": "stdout",
     "output_type": "stream",
     "text": [
      "[3, 2, 1]\n"
     ]
    }
   ],
   "source": [
    "# Example: Creating a reversed copy of a list\n",
    "my_list_1 = [1, 2, 3]\n",
    "my_list_2 = []\n",
    "for v in my_list_1:\n",
    "    my_list_2.insert(0, v)  # Insert each element at the beginning\n",
    "print(my_list_2)  # Output: [3, 2, 1]"
   ]
  },
  {
   "cell_type": "code",
   "execution_count": 8,
   "metadata": {},
   "outputs": [
    {
     "name": "stdout",
     "output_type": "stream",
     "text": [
      "[1, 3]\n"
     ]
    }
   ],
   "source": [
    "# Example: List slice deletion\n",
    "nums = [1, 2, 3]\n",
    "vals = nums        # Both variables reference the same list\n",
    "del vals[1:2]      # Delete element at index 1\n",
    "print(vals)        # Output: [1, 3]"
   ]
  },
  {
   "cell_type": "markdown",
   "metadata": {},
   "source": [
    "## Negative Indexing Examples"
   ]
  },
  {
   "cell_type": "code",
   "execution_count": 9,
   "metadata": {},
   "outputs": [
    {
     "name": "stdout",
     "output_type": "stream",
     "text": [
      "[2]\n"
     ]
    }
   ],
   "source": [
    "# Example: List slicing with negative indices\n",
    "my_list = [1, 2, 3, 4]\n",
    "print(my_list[-3:-2])  # Slice from second-to-last to third-to-last\n",
    "                       # Output: [2]"
   ]
  },
  {
   "cell_type": "code",
   "execution_count": 10,
   "metadata": {},
   "outputs": [
    {
     "name": "stdout",
     "output_type": "stream",
     "text": [
      "1\n"
     ]
    }
   ],
   "source": [
    "# Example: Using list element as an index\n",
    "my_list = [3, 1, -2]\n",
    "print(my_list[my_list[-1]])  # my_list[-1] is -2, so this becomes my_list[-2]\n",
    "                             # Output: 1"
   ]
  },
  {
   "cell_type": "code",
   "execution_count": 11,
   "metadata": {},
   "outputs": [
    {
     "name": "stdout",
     "output_type": "stream",
     "text": [
      "[1, 1, 1, 2]\n"
     ]
    }
   ],
   "source": [
    "# Example: Inserting at negative indices\n",
    "my_list = [1, 2]\n",
    "for v in range(2):\n",
    "    my_list.insert(-1, my_list[v])  # Insert before the last element\n",
    "print(my_list)  # Output: [1, 1, 1, 2]"
   ]
  },
  {
   "cell_type": "code",
   "execution_count": 12,
   "metadata": {},
   "outputs": [
    {
     "name": "stdout",
     "output_type": "stream",
     "text": [
      "[]\n"
     ]
    }
   ],
   "source": [
    "# Example: Clearing a list with slice deletion\n",
    "nums = [1, 2, 3]\n",
    "vals = nums       # Both variables reference the same list\n",
    "del vals[:]       # Delete all elements\n",
    "print(nums)       # Output: [] (empty list)"
   ]
  }
 ],
 "metadata": {
  "kernelspec": {
   "display_name": "lab",
   "language": "python",
   "name": "python3"
  },
  "language_info": {
   "codemirror_mode": {
    "name": "ipython",
    "version": 3
   },
   "file_extension": ".py",
   "mimetype": "text/x-python",
   "name": "python",
   "nbconvert_exporter": "python",
   "pygments_lexer": "ipython3",
   "version": "3.11.11"
  }
 },
 "nbformat": 4,
 "nbformat_minor": 2
}