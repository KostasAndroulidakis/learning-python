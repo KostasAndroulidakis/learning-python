{
 "cells": [
  {
   "cell_type": "markdown",
   "metadata": {},
   "source": [
    "OpenEDG Python Institute: Pythons Essentials 1"
   ]
  },
  {
   "cell_type": "code",
   "execution_count": null,
   "metadata": {},
   "outputs": [],
   "source": [
    "# 3.4.1.6 LAB: The basics of lists\n",
    "\n",
    "# The existing list of numbers hidden in the hat.\n",
    "hat_list = [1, 2, 3, 4, 5]\n",
    "\n",
    "# Step 1: write a line of code that prompts the user\n",
    "# to replace the middle number with an integer number entered by the user.\n",
    "hat_list[2] = int(input(\"Enter an integer number: \"))\n",
    "\n",
    "# Step 2: write a line of code that removes the last element from the list.\n",
    "hat_list.pop()  # Permanently removes the last element.\n",
    "\n",
    "# Step 3: write a line of code that prints the length of the existing list.\n",
    "print(len(hat_list))\n",
    "\n",
    "print(hat_list)"
   ]
  },
  {
   "cell_type": "code",
   "execution_count": 1,
   "metadata": {},
   "outputs": [
    {
     "name": "stdout",
     "output_type": "stream",
     "text": [
      "Step 1: []\n",
      "Step 2: ['John Lennon', 'Paul McCartney', 'George Harrison']\n",
      "Step 3: ['John Lennon', 'Paul McCartney', 'George Harrison']\n",
      "Step 4: ['John Lennon', 'Paul McCartney', 'George Harrison']\n",
      "Step 5: ['John Lennon', 'Paul McCartney', 'George Harrison']\n",
      "The Fab 3\n"
     ]
    }
   ],
   "source": [
    "# 3.4.1.13 LAB: The basics of lists - the Beatles\n",
    "\n",
    "# step 1\n",
    "beatles=[]\n",
    "print(\"Step 1:\", beatles)\n",
    "\n",
    "# step 2\n",
    "members=[\"John Lennon\", \"Paul McCartney\", \"George Harrison\"]\n",
    "for element in members:\n",
    "    if element not in beatles:\n",
    "        beatles.append(element)\n",
    "print(\"Step 2:\", beatles)\n",
    "\n",
    "# step 3\n",
    "print(\"Step 3:\", beatles)\n",
    "\n",
    "# step 4\n",
    "print(\"Step 4:\", beatles)\n",
    "\n",
    "# step 5\n",
    "print(\"Step 5:\", beatles)\n",
    "\n",
    "\n",
    "# testing list legth\n",
    "print(\"The Fab\", len(beatles))\n"
   ]
  },
  {
   "cell_type": "code",
   "execution_count": 1,
   "metadata": {},
   "outputs": [
    {
     "name": "stdout",
     "output_type": "stream",
     "text": [
      "The list with unique elements only:\n",
      "[1, 2, 4, 6, 9]\n"
     ]
    }
   ],
   "source": [
    "# 3.6.1.9 LAB: Operating with lists - basics\n",
    "\n",
    "# The list we have\n",
    "my_list = [1, 2, 4, 4, 1, 4, 2, 6, 2, 9]\n",
    "\n",
    "# The list we need\n",
    "new_list = []\n",
    "\n",
    "for element in my_list:\n",
    "    if element not in new_list:\n",
    "        new_list.append(element)\n",
    "\n",
    "print(\"The list with unique elements only:\")\n",
    "print(new_list)"
   ]
  },
  {
   "cell_type": "code",
   "execution_count": 2,
   "metadata": {},
   "outputs": [
    {
     "name": "stdout",
     "output_type": "stream",
     "text": [
      "[1, 1, 2]\n"
     ]
    }
   ],
   "source": [
    "# Example: List modification\n",
    "vals = [0, 1, 2]\n",
    "vals.insert(0, 1)\n",
    "del vals[1]\n",
    "print(vals)  # Output: [1, 1, 2]"
   ]
  },
  {
   "cell_type": "code",
   "execution_count": 3,
   "metadata": {},
   "outputs": [
    {
     "name": "stdout",
     "output_type": "stream",
     "text": [
      "[2, 1, 0]\n"
     ]
    }
   ],
   "source": [
    "# Example: List swapping elements\n",
    "vals = [0, 1, 2]\n",
    "vals[0], vals[2] = vals[2], vals[0]\n",
    "print(vals)  # Output: [2, 1, 0]"
   ]
  },
  {
   "cell_type": "code",
   "execution_count": 4,
   "metadata": {},
   "outputs": [
    {
     "name": "stdout",
     "output_type": "stream",
     "text": [
      "[]\n"
     ]
    }
   ],
   "source": [
    "# Example: Empty slice\n",
    "nums = [1, 2, 3]\n",
    "vals = nums[-1:-2]\n",
    "print(vals)  # Output: [] (empty list)"
   ]
  },
  {
   "cell_type": "code",
   "execution_count": 5,
   "metadata": {},
   "outputs": [
    {
     "name": "stdout",
     "output_type": "stream",
     "text": [
      "[-1, 0, 1]\n"
     ]
    }
   ],
   "source": [
    "# Example: List comprehension\n",
    "my_list = [i for i in range(-1, 2)]\n",
    "print(my_list)  # Output: [-1, 0, 1]"
   ]
  },
  {
   "cell_type": "code",
   "execution_count": 6,
   "metadata": {},
   "outputs": [
    {
     "name": "stdout",
     "output_type": "stream",
     "text": [
      "[1, 1, 1, 1, 2, 3]\n"
     ]
    }
   ],
   "source": [
    "# Example: List insertion in a loop\n",
    "my_list = [1, 2, 3]\n",
    "for v in range(len(my_list)):\n",
    "    my_list.insert(1, my_list[v])\n",
    "print(my_list)  # Output: [1, 1, 1, 1, 2, 3]\n"
   ]
  },
  {
   "cell_type": "code",
   "execution_count": 7,
   "metadata": {},
   "outputs": [
    {
     "name": "stdout",
     "output_type": "stream",
     "text": [
      "[3, 2, 1]\n"
     ]
    }
   ],
   "source": [
    "# Example: Building a reversed list\n",
    "my_list_1 = [1, 2, 3]\n",
    "my_list_2 = []\n",
    "for v in my_list_1:\n",
    "    my_list_2.insert(0, v)\n",
    "print(my_list_2)  # Output: [3, 2, 1]"
   ]
  },
  {
   "cell_type": "code",
   "execution_count": 8,
   "metadata": {},
   "outputs": [
    {
     "name": "stdout",
     "output_type": "stream",
     "text": [
      "[1, 3]\n"
     ]
    }
   ],
   "source": [
    "# Example: List deletion with slice\n",
    "nums = [1, 2, 3]\n",
    "vals = nums\n",
    "del vals[1:2]\n",
    "print(vals)  # Output: [1, 3]"
   ]
  },
  {
   "cell_type": "code",
   "execution_count": 9,
   "metadata": {},
   "outputs": [
    {
     "name": "stdout",
     "output_type": "stream",
     "text": [
      "[2]\n"
     ]
    }
   ],
   "source": [
    "# Example: List slicing with negative indices\n",
    "my_list = [1, 2, 3, 4]\n",
    "print(my_list[-3:-2])  # Output: [2]\n"
   ]
  },
  {
   "cell_type": "code",
   "execution_count": 10,
   "metadata": {},
   "outputs": [
    {
     "name": "stdout",
     "output_type": "stream",
     "text": [
      "1\n"
     ]
    }
   ],
   "source": [
    "# Example: List indexing with negative indices\n",
    "my_list = [3, 1, -2]\n",
    "print(my_list[my_list[-1]])  # Output: 1 (uses -2 as index, which is 1)"
   ]
  },
  {
   "cell_type": "code",
   "execution_count": 11,
   "metadata": {},
   "outputs": [
    {
     "name": "stdout",
     "output_type": "stream",
     "text": [
      "[1, 1, 1, 2]\n"
     ]
    }
   ],
   "source": [
    "# Example: List insertion and modification\n",
    "my_list = [1, 2]\n",
    "for v in range(2):\n",
    "    my_list.insert(-1, my_list[v])\n",
    "print(my_list)  # Output: [1, 1, 2, 2]"
   ]
  },
  {
   "cell_type": "code",
   "execution_count": 12,
   "metadata": {},
   "outputs": [
    {
     "name": "stdout",
     "output_type": "stream",
     "text": [
      "[]\n"
     ]
    }
   ],
   "source": [
    "# Example: List clear\n",
    "nums = [1, 2, 3]\n",
    "vals = nums\n",
    "del vals[:]\n",
    "print(nums)  # Output: [] (empty list)"
   ]
  }
 ],
 "metadata": {
  "kernelspec": {
   "display_name": "lab",
   "language": "python",
   "name": "python3"
  },
  "language_info": {
   "codemirror_mode": {
    "name": "ipython",
    "version": 3
   },
   "file_extension": ".py",
   "mimetype": "text/x-python",
   "name": "python",
   "nbconvert_exporter": "python",
   "pygments_lexer": "ipython3",
   "version": "3.11.11"
  }
 },
 "nbformat": 4,
 "nbformat_minor": 2
}
