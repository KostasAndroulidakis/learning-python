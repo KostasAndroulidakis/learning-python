{
 "cells": [
  {
   "cell_type": "markdown",
   "metadata": {},
   "source": [
    "OpenEDG Python Institute: Pythons Essentials 1"
   ]
  },
  {
   "cell_type": "code",
   "execution_count": null,
   "metadata": {},
   "outputs": [],
   "source": [
    "# 3.4.1.6 LAB: The basics of lists\n",
    "\n",
    "# The existing list of numbers hidden in the hat.\n",
    "hat_list = [1, 2, 3, 4, 5]\n",
    "\n",
    "# Step 1: write a line of code that prompts the user\n",
    "# to replace the middle number with an integer number entered by the user.\n",
    "hat_list[2] = int(input(\"Enter an integer number: \"))\n",
    "\n",
    "# Step 2: write a line of code that removes the last element from the list.\n",
    "hat_list.pop()  # Permanently removes the last element.\n",
    "\n",
    "# Step 3: write a line of code that prints the length of the existing list.\n",
    "print(len(hat_list))\n",
    "\n",
    "print(hat_list)"
   ]
  },
  {
   "cell_type": "code",
   "execution_count": 1,
   "metadata": {},
   "outputs": [
    {
     "name": "stdout",
     "output_type": "stream",
     "text": [
      "Step 1: []\n",
      "Step 2: ['John Lennon', 'Paul McCartney', 'George Harrison']\n",
      "Step 3: ['John Lennon', 'Paul McCartney', 'George Harrison']\n",
      "Step 4: ['John Lennon', 'Paul McCartney', 'George Harrison']\n",
      "Step 5: ['John Lennon', 'Paul McCartney', 'George Harrison']\n",
      "The Fab 3\n"
     ]
    }
   ],
   "source": [
    "# 3.4.1.13 LAB: The basics of lists - the Beatles\n",
    "\n",
    "# step 1\n",
    "beatles=[]\n",
    "print(\"Step 1:\", beatles)\n",
    "\n",
    "# step 2\n",
    "members=[\"John Lennon\", \"Paul McCartney\", \"George Harrison\"]\n",
    "for element in members:\n",
    "    if element not in beatles:\n",
    "        beatles.append(element)\n",
    "print(\"Step 2:\", beatles)\n",
    "\n",
    "# step 3\n",
    "print(\"Step 3:\", beatles)\n",
    "\n",
    "# step 4\n",
    "print(\"Step 4:\", beatles)\n",
    "\n",
    "# step 5\n",
    "print(\"Step 5:\", beatles)\n",
    "\n",
    "\n",
    "# testing list legth\n",
    "print(\"The Fab\", len(beatles))\n"
   ]
  },
  {
   "cell_type": "code",
   "execution_count": 1,
   "metadata": {},
   "outputs": [
    {
     "name": "stdout",
     "output_type": "stream",
     "text": [
      "The list with unique elements only:\n",
      "[1, 2, 4, 6, 9]\n"
     ]
    }
   ],
   "source": [
    "# 3.6.1.9 LAB: Operating with lists - basics\n",
    "\n",
    "# The list we have\n",
    "my_list = [1, 2, 4, 4, 1, 4, 2, 6, 2, 9]\n",
    "\n",
    "# The list we need\n",
    "new_list = []\n",
    "\n",
    "for element in my_list:\n",
    "    if element not in new_list:\n",
    "        new_list.append(element)\n",
    "\n",
    "print(\"The list with unique elements only:\")\n",
    "print(new_list)"
   ]
  },
  {
   "cell_type": "code",
   "execution_count": null,
   "metadata": {},
   "outputs": [],
   "source": []
  },
  {
   "cell_type": "code",
   "execution_count": null,
   "metadata": {},
   "outputs": [],
   "source": []
  }
 ],
 "metadata": {
  "kernelspec": {
   "display_name": "lab",
   "language": "python",
   "name": "python3"
  },
  "language_info": {
   "codemirror_mode": {
    "name": "ipython",
    "version": 3
   },
   "file_extension": ".py",
   "mimetype": "text/x-python",
   "name": "python",
   "nbconvert_exporter": "python",
   "pygments_lexer": "ipython3",
   "version": "3.11.11"
  }
 },
 "nbformat": 4,
 "nbformat_minor": 2
}
