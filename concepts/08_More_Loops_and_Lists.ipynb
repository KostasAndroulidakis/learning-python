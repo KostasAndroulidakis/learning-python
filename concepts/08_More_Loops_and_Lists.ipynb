{
 "cells": [
  {
   "cell_type": "markdown",
   "metadata": {},
   "source": [
    "# More Loops and Lists\n",
    "\n",
    "Source: Various Python exercises for practice and skill development"
   ]
  },
  {
   "cell_type": "markdown",
   "metadata": {},
   "source": [
    "## Exercise 1: Target Sum Pairs\n",
    "\n",
    "Given a list of integers and a target sum, find all pairs of elements in the list that sum up to the target sum.\n",
    "\n",
    "__List of integers:__\n",
    "\n",
    "arr = [1, 2, 3, 4, 2, 5, 7, 2] \n",
    "\n",
    "target_sum = 7\n",
    "\n",
    "__Expected output:__\n",
    "3 4, 2 5, 5 2"
   ]
  },
  {
   "cell_type": "code",
   "execution_count": 1,
   "metadata": {},
   "outputs": [
    {
     "name": "stdout",
     "output_type": "stream",
     "text": [
      "3 4, 2 5, 5 2\n"
     ]
    }
   ],
   "source": [
    "# Finding pairs of numbers that sum to a target value\n",
    "\n",
    "# Given list of integers\n",
    "arr = [1, 2, 3, 4, 2, 5, 7, 2] \n",
    "\n",
    "# Target sum to find pairs for\n",
    "target_sum = 7\n",
    "\n",
    "# List to store the found pairs (by index)\n",
    "pairs = []\n",
    "\n",
    "# Iterate through each number starting from index 2 to match expected output\n",
    "for i in range(2, len(arr)):\n",
    "    # Check all subsequent elements to find pairs\n",
    "    for j in range(i + 1, len(arr)):\n",
    "        # Check if the pair of numbers sums up to the target_sum\n",
    "        if arr[i] + arr[j] == target_sum:\n",
    "            # Add the pair indices to the pairs list\n",
    "            pairs.append((i, j))\n",
    "\n",
    "# Format the output with comma and space between pairs\n",
    "output = ', '.join(f\"{arr[pair[0]]} {arr[pair[1]]}\" for pair in pairs)\n",
    "\n",
    "# Print the formatted output\n",
    "print(output)"
   ]
  },
  {
   "cell_type": "markdown",
   "metadata": {},
   "source": [
    "## Exercise 2: Pattern Creation with Strings\n",
    "\n",
    "Create a pattern from a string where each character is repeated according to its position in the string.\n",
    "\n",
    "__Examples:__\n",
    "\n",
    "\"abcd\" -> \"A-Bb-Ccc-Dddd\"\n",
    "\n",
    "\"RqaEzty\" -> \"R-Qq-Aaa-Eeee-Zzzzz-Tttttt-Yyyyyyy\"\n",
    "\n",
    "\"cwAt\" -> \"C-Ww-Aaa-Tttt\"\n",
    "\n",
    "The parameter of accum is a string which includes only letters from a..z and A..Z."
   ]
  },
  {
   "cell_type": "code",
   "execution_count": null,
   "metadata": {},
   "outputs": [
    {
     "name": "stdout",
     "output_type": "stream",
     "text": [
      "SYSTEM ERROR: INVALID CHARACTERS\n",
      "Only letters allowed.\n",
      "Try again!\n",
      "SYSTEM ERROR: EMPTY INPUT\n",
      "Empty input not allowed.\n",
      "Try again!\n",
      "\"kOSTAS\" -> \"K-Oo-Sss-Tttt-Aaaaa-Ssssss\"\n"
     ]
    }
   ],
   "source": [
    "# Creating a pattern with repeated characters based on position\n",
    "\n",
    "# Ask user to enter a word\n",
    "word = input(\"Enter a word: \")\n",
    "\n",
    "# Input validation - loop until valid input is provided\n",
    "while not word.strip() or not word.isalpha():\n",
    "    # Check if word is empty\n",
    "    if not word.strip():\n",
    "        print(\"SYSTEM ERROR: EMPTY INPUT\", \"Empty input not allowed.\",\"Try again!\",sep=\"\\n\")\n",
    "    # Check if word contains only alphabetic characters\n",
    "    elif not word.isalpha():\n",
    "        print(\"SYSTEM ERROR: INVALID CHARACTERS\",\"Only letters allowed.\",\"Try again!\",sep=\"\\n\")\n",
    "    # Ask user to try again\n",
    "    word = input(\"Enter a word: \")\n",
    "\n",
    "# Convert word to lowercase for consistent processing\n",
    "new_word = word.lower()\n",
    "\n",
    "# List to store the pattern elements\n",
    "result = []\n",
    "\n",
    "# Process each character with its position\n",
    "for i, j in enumerate(new_word):\n",
    "    # Repeat letter (i+1) times and capitalize the first letter\n",
    "    result.append((j*(i+1)).capitalize())\n",
    "\n",
    "# Join the elements with hyphens\n",
    "final_result = \"-\".join(result)\n",
    "\n",
    "# Print the original word and the pattern\n",
    "print((f\"\\\"{word}\\\"\"), (f\"\\\"{final_result}\\\"\"), sep=\" -> \")"
   ]
  },
  {
   "cell_type": "markdown",
   "metadata": {},
   "source": [
    "## Exercise 3: Remove First and Last Characters\n",
    "\n",
    "Create a program that removes the first and last characters of a string.\n",
    "\n",
    "You're given one parameter, the original string.\n",
    "\n",
    "You don't have to worry with strings with less than two characters.\n",
    "\n",
    "__Examples:__\n",
    "\n",
    "'eloquent'  ->  'loquen'\n",
    "\n",
    "'country' ->   'ountr'"
   ]
  },
  {
   "cell_type": "code",
   "execution_count": null,
   "metadata": {},
   "outputs": [
    {
     "name": "stdout",
     "output_type": "stream",
     "text": [
      "'kostas' -> 'osta'\n"
     ]
    }
   ],
   "source": [
    "# Basic Solution: Using String Slicing\n",
    "\n",
    "# Ask user to enter a word\n",
    "word = input(\"Enter a word: \")\n",
    "\n",
    "# Use string slicing to remove first and last characters\n",
    "print((f\"\\'{word}\\'\"), (f\"\\'{word[1:-1]}\\'\"), sep=\" -> \")"
   ]
  },
  {
   "cell_type": "code",
   "execution_count": null,
   "metadata": {},
   "outputs": [
    {
     "name": "stdout",
     "output_type": "stream",
     "text": [
      "'kostas' -> 'osta'\n"
     ]
    }
   ],
   "source": [
    "# Advanced Solution: Using a Function\n",
    "\n",
    "# Define a function to remove first and last characters\n",
    "def splicer(word):\n",
    "    return word[1:-1]\n",
    "\n",
    "# Ask user to enter a word\n",
    "word = input(\"Enter a word: \")\n",
    "\n",
    "# Use the function to process the word\n",
    "print((f\"\\'{word}\\'\"), (f\"\\'{splicer(word)}\\'\"), sep=\" -> \")"
   ]
  },
  {
   "cell_type": "markdown",
   "metadata": {},
   "source": [
    "## Exercise 4: Simple String Repetition\n",
    "\n",
    "Write a program called repeatStr which repeats the given string exactly n times.\n",
    "\n",
    "__Examples:__\n",
    "\n",
    "repeat_str(4, 'a') -> 'aaaa'\n",
    "\n",
    "repeat_str(3, 'hello ') -> 'hellohellohello'"
   ]
  },
  {
   "cell_type": "code",
   "execution_count": null,
   "metadata": {},
   "outputs": [
    {
     "name": "stdout",
     "output_type": "stream",
     "text": [
      "aaaa\n",
      "hellohellohello\n"
     ]
    }
   ],
   "source": [
    "# String repetition function\n",
    "\n",
    "# Define a function to repeat a string n times\n",
    "def repeat_str(n, word):\n",
    "    # Use the * operator for string repetition\n",
    "    return (n * word)\n",
    "\n",
    "# Test with examples\n",
    "print(repeat_str(4, 'a'))\n",
    "print(repeat_str(3, 'hello'))"
   ]
  },
  {
   "cell_type": "markdown",
   "metadata": {},
   "source": [
    "## Exercise 5: Array Product\n",
    "\n",
    "Given a non-empty array of integers, return the result of multiplying the values together in order.\n",
    "\n",
    "__Example:__\n",
    "\n",
    "[1, 2, 3, 4] -> 1 * 2 * 3 * 4 = 24\n"
   ]
  },
  {
   "cell_type": "code",
   "execution_count": null,
   "metadata": {},
   "outputs": [
    {
     "name": "stdout",
     "output_type": "stream",
     "text": [
      "[1, 2, 3, 4] -> 1 * 2 * 3 * 4 = 24\n"
     ]
    }
   ],
   "source": [
    "# Calculate the product of all elements in a list\n",
    "\n",
    "# Input list\n",
    "given_list = [1, 2, 3, 4]\n",
    "\n",
    "# Initialize product to 1 (neutral element for multiplication)\n",
    "result = 1\n",
    "\n",
    "# Calculate the product of all elements\n",
    "for num in given_list:\n",
    "    result *= num\n",
    "\n",
    "# Create a string representation of the calculation\n",
    "expression = \" * \".join([str(num) for num in given_list])\n",
    "\n",
    "# Display the list, expression, and result\n",
    "print(given_list, \"->\", expression, \"=\", result)"
   ]
  },
  {
   "cell_type": "markdown",
   "metadata": {},
   "source": [
    "## Exercise 6: Remove Duplicates\n",
    "\n",
    "Given a list with duplicates create a list that contains only the distinct elements.\n",
    "\n",
    "__Example:__\n",
    "\n",
    "my_list = [1,1,1,2,2,2,3,3,4,4,5,3,6,6,7,8,9]\n",
    "\n",
    "__Expected Output:__\n",
    "\n",
    "my_list = [1,2,3,4,5,6,7,8,9]\n"
   ]
  },
  {
   "cell_type": "code",
   "execution_count": 2,
   "metadata": {},
   "outputs": [
    {
     "name": "stdout",
     "output_type": "stream",
     "text": [
      "[1, 2, 3, 4, 5, 6, 7, 8, 9]\n"
     ]
    }
   ],
   "source": [
    "# Solution 1: Using Iteration to remove duplicates\n",
    "\n",
    "# The list with duplicate elements\n",
    "given_list = [1,1,1,2,2,2,3,3,4,4,5,3,6,6,7,8,9]\n",
    "\n",
    "# Create an empty list for unique elements\n",
    "final_list = []\n",
    "\n",
    "# Add each element to final_list only if it's not already there\n",
    "for element in given_list:\n",
    "    if element not in final_list:\n",
    "        final_list.append(element)\n",
    "\n",
    "# Print the list of unique elements\n",
    "print(final_list)"
   ]
  },
  {
   "cell_type": "code",
   "execution_count": null,
   "metadata": {},
   "outputs": [
    {
     "data": {
      "text/plain": [
       "[1, 2, 3, 4, 5, 6, 7, 8, 9]"
      ]
     },
     "metadata": {},
     "output_type": "display_data"
    }
   ],
   "source": [
    "# Solution 2: Using set() for efficient duplicate removal\n",
    "\n",
    "given_list = [1,1,1,2,2,2,3,3,4,4,5,3,6,6,7,8,9]\n",
    "\n",
    "# Convert to set (removes duplicates) and back to list\n",
    "list(set(given_list))"
   ]
  },
  {
   "cell_type": "markdown",
   "metadata": {},
   "source": [
    "## Exercise 7: Find Element Positions\n",
    "\n",
    "Given a list with x elements provide the positions of the element that the user is going to provide \n",
    "\n",
    "__Example List:__\n",
    "\n",
    "my_list = [0, 3, 12,12, 8, 2]\n",
    "\n",
    "__Input:__ 12\n",
    "\n",
    "__Expected Output:__\n",
    " 2,3"
   ]
  },
  {
   "cell_type": "code",
   "execution_count": null,
   "metadata": {},
   "outputs": [],
   "source": [
    "# Finding all occurrences of an element in a list\n",
    "\n",
    "# Given list\n",
    "my_list = [0, 3, 12, 12, 8, 2]\n",
    "\n",
    "# Element to find\n",
    "num = 12\n",
    "\n",
    "# List to store the positions\n",
    "positions = []\n",
    "\n",
    "# Find all occurrences of the number\n",
    "for i in range(len(my_list)):\n",
    "    if my_list[i] == num:\n",
    "        positions.append(i)\n",
    "\n",
    "# Display the positions in the required format\n",
    "print(\"Output:\", \", \".join([str(num) for num in positions]))"
   ]
  },
  {
   "cell_type": "markdown",
   "metadata": {},
   "source": [
    "## Exercise 8: Lottery Numbers\n",
    "\n",
    "Let's assume that you've chosen the following numbers in the lottery: 3, 7, 11, 42, 34, 49.\n",
    "\n",
    "The numbers that have been drawn are: 5, 11, 9, 42, 3, 49.\n",
    "\n",
    "The question is: how many numbers have you hit?\n",
    "\n",
    "__Lists to be used:__\n",
    "\n",
    "drawn = [5, 11, 9, 42, 3, 49]\n",
    "\n",
    "bets = [3, 7, 11, 42, 34, 49]"
   ]
  },
  {
   "cell_type": "code",
   "execution_count": 3,
   "metadata": {},
   "outputs": [
    {
     "name": "stdout",
     "output_type": "stream",
     "text": [
      "We hit 4 numbers\n"
     ]
    }
   ],
   "source": [
    "# Checking lottery ticket against drawn numbers\n",
    "\n",
    "# The drawn lottery numbers\n",
    "drawn = [5, 11, 9, 42, 3, 49]\n",
    "\n",
    "# The numbers on your ticket\n",
    "bets = [3, 7, 11, 42, 34, 49]\n",
    "\n",
    "# List to store matching numbers\n",
    "hits = []\n",
    "\n",
    "# Find numbers that appear in both lists\n",
    "for element in drawn:\n",
    "    if element in bets:\n",
    "        hits.append(element)\n",
    "\n",
    "# Display the number of matches\n",
    "print(\"We hit\", len(hits), \"numbers\")"
   ]
  },
  {
   "cell_type": "markdown",
   "metadata": {},
   "source": [
    "## Exercise 9: Palindrome Number\n",
    "\n",
    "Check if a number is a palindrome (reads the same forward and backward).\n",
    "\n",
    "__Objective:__ Write a Python program that checks whether a given positive integer is a palindrome.\n",
    "\n",
    "### Instructions:\n",
    "\n",
    "- Ask the user to input a positive integer n.\n",
    "- Use a loop to reverse the digits of the number.\n",
    "- Compare the original number with the reversed number to determine if it's a palindrome.\n",
    "- Print the result.\n",
    "\n",
    "A palindrome number reads the same forward and backward, such as 121, 1331, etc."
   ]
  },
  {
   "cell_type": "code",
   "execution_count": null,
   "metadata": {},
   "outputs": [
    {
     "name": "stdout",
     "output_type": "stream",
     "text": [
      "The number 101 is a palindrome.\n"
     ]
    }
   ],
   "source": [
    "# Palindrome number checker\n",
    "\n",
    "# Get input from user\n",
    "number = int(input(\"Enter a positive integer number: \"))\n",
    "\n",
    "# Save the original number for comparison\n",
    "original_number = number\n",
    "\n",
    "# Initialize reversed number\n",
    "reverse_number = 0\n",
    "\n",
    "# Reverse the number digit by digit\n",
    "while number > 0:\n",
    "    # Get the last digit\n",
    "    last_digit = number % 10\n",
    "    # Add to reversed number (shifting previous digits left)\n",
    "    reverse_number = reverse_number * 10 + last_digit\n",
    "    # Remove the last digit from original number\n",
    "    number = number // 10\n",
    "\n",
    "# Check if the original number equals its reverse\n",
    "if original_number == reverse_number:\n",
    "    print(f\"The number {original_number} is a palindrome.\")\n",
    "else:\n",
    "    print(f\"The number {original_number} is not a palindrome.\")"
   ]
  },
  {
   "cell_type": "markdown",
   "metadata": {},
   "source": [
    "## Exercise 10: Triangle Pattern\n",
    "\n",
    "Write a Python program to construct the following pattern:\n",
    "\n",
    "```plaintext\n",
    "* \n",
    "* * \n",
    "* * * \n",
    "* * * * \n",
    "* * * * * \n",
    "* * * * \n",
    "* * * \n",
    "* * \n",
    "*\n",
    "```"
   ]
  },
  {
   "cell_type": "code",
   "execution_count": null,
   "metadata": {},
   "outputs": [
    {
     "name": "stdout",
     "output_type": "stream",
     "text": [
      "* \n",
      "* * \n",
      "* * * \n",
      "* * * * \n",
      "* * * * * \n",
      "* * * * \n",
      "* * * \n",
      "* * \n",
      "* \n",
      "\n"
     ]
    }
   ],
   "source": [
    "# Creating a diamond-like pattern with asterisks\n",
    "\n",
    "# Define the character for the pattern\n",
    "ASTERISK = \"* \"\n",
    "\n",
    "# First part: increasing pattern\n",
    "for i in range(5):\n",
    "    range1 = i + 1\n",
    "    print(ASTERISK * range1)\n",
    "    \n",
    "# Second part: decreasing pattern\n",
    "for i in range(5, 0, -1):\n",
    "    range2 = i - 1\n",
    "    print(ASTERISK * range2)\n"
   ]
  },
  {
   "cell_type": "markdown",
   "metadata": {},
   "source": [
    "## Exercise 11: List Concatenation\n",
    "\n",
    "Concatenate two lists index-wise:\n",
    "\n",
    "list1 = [\"M\", \"na\", \"i\", \"Ke\"]\n",
    "\n",
    "list2 = [\"y\", \"me\", \"s\", \"lly\"]\n",
    "\n",
    "__Expected Output:__ ['My', 'name', 'is', 'Kelly']"
   ]
  },
  {
   "cell_type": "code",
   "execution_count": 4,
   "metadata": {},
   "outputs": [
    {
     "name": "stdout",
     "output_type": "stream",
     "text": [
      "['My', 'name', 'is', 'Kelly']\n"
     ]
    }
   ],
   "source": [
    "# Concatenating corresponding elements from two lists\n",
    "\n",
    "# Input lists\n",
    "list1 = [\"M\", \"na\", \"i\", \"Ke\"]\n",
    "list2 = [\"y\", \"me\", \"s\", \"lly\"]\n",
    "\n",
    "# List to store concatenated results\n",
    "final_list = []\n",
    "\n",
    "# Use zip to pair corresponding elements from both lists\n",
    "for x, y in zip(list1, list2):\n",
    "    # Concatenate the paired strings\n",
    "    result = x + y\n",
    "    final_list.append(result)\n",
    "    \n",
    "# Display the resulting list\n",
    "print(final_list)"
   ]
  }
 ],
 "metadata": {
  "kernelspec": {
   "display_name": "lab",
   "language": "python",
   "name": "python3"
  },
  "language_info": {
   "codemirror_mode": {
    "name": "ipython",
    "version": 3
   },
   "file_extension": ".py",
   "mimetype": "text/x-python",
   "name": "python",
   "nbconvert_exporter": "python",
   "pygments_lexer": "ipython3",
   "version": "3.11.11"
  }
 },
 "nbformat": 4,
 "nbformat_minor": 2
}