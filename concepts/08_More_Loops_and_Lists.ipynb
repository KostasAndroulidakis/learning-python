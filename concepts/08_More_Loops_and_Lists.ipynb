{
 "cells": [
  {
   "cell_type": "markdown",
   "metadata": {},
   "source": [
    "## Exercise 1: Target sum pairs\n",
    "\n",
    "Given a list of integers and a target sum, find all pairs of elements in the list that sum up to the target sum.\n",
    "\n",
    "__List of integers:__\n",
    "\n",
    "arr = [1, 2, 3, 4, 2, 5, 7, 2] \n",
    "\n",
    "target_sum = 7\n",
    "\n",
    "__Expected output:__\n",
    "3 4, 2 5, 5 2"
   ]
  },
  {
   "cell_type": "code",
   "execution_count": 1,
   "metadata": {},
   "outputs": [
    {
     "name": "stdout",
     "output_type": "stream",
     "text": [
      "3 4, 2 5, 5 2\n"
     ]
    }
   ],
   "source": [
    "# Given list of integers\n",
    "arr = [1, 2, 3, 4, 2, 5, 7, 2] \n",
    "\n",
    "# Create a variable for the target sum\n",
    "target_sum = 7\n",
    "\n",
    "# Create a list to add the pairs\n",
    "pairs = []\n",
    "\n",
    "# Iterate through each number starting from index 2 to skip the first pair and match the expected output\n",
    "for i in range(2, len(arr)):\n",
    "    # check the following elements except it's self to find all pairs equals the target sum\n",
    "    for j in range(i + 1, len(arr)):\n",
    "        # Check if the pair of numbers sums up to the target_sum\n",
    "        if arr[i] + arr[j] == target_sum:\n",
    "            # Then add the pair to the pairs list\n",
    "            pairs.append((i, j))\n",
    "\n",
    "# Format the output with comma and space between pairs\n",
    "output = ', '.join(f\"{arr[pair[0]]} {arr[pair[1]]}\" for pair in pairs)\n",
    "\n",
    "# Print output\n",
    "print(output)"
   ]
  },
  {
   "cell_type": "markdown",
   "metadata": {},
   "source": [
    "## Exercise 2: Pattern Creation with Strings\n",
    "\n",
    "This time no story, no theory.\n",
    "\n",
    "The examples below show you how to write code accepting a word and then print the respect results:\n",
    "\n",
    "__Example:__\n",
    "\n",
    "\"abcd\" -> \"A-Bb-Ccc-Dddd\"\n",
    "\n",
    "\"RqaEzty\" -> \"R-Qq-Aaa-Eeee-Zzzzz-Tttttt-Yyyyyyy\"\n",
    "\n",
    "\"cwAt\" -> \"C-Ww-Aaa-Tttt\"\n",
    "\n",
    "The parameter of accum is a string which includes only letters from a..z and A..Z."
   ]
  },
  {
   "cell_type": "code",
   "execution_count": null,
   "metadata": {},
   "outputs": [
    {
     "name": "stdout",
     "output_type": "stream",
     "text": [
      "SYSTEM ERROR: INVALID CHARACTERS\n",
      "Only letters allowed.\n",
      "Try again!\n",
      "SYSTEM ERROR: EMPTY INPUT\n",
      "Empty input not allowed.\n",
      "Try again!\n",
      "\"kOSTAS\" -> \"K-Oo-Sss-Tttt-Aaaaa-Ssssss\"\n"
     ]
    }
   ],
   "source": [
    "# Ask user to enter a word\n",
    "word = input(\"Enter a word: \")\n",
    "\n",
    "# loops while word is empty OR not valid\n",
    "while not word.strip() or not word.isalpha():\n",
    "    # checks if word is empty\n",
    "    if not word.strip():\n",
    "        print(\"SYSTEM ERROR: EMPTY INPUT\", \"Empty input not allowed.\",\"Try again!\",sep=\"\\n\")\n",
    "    # checks if word contains only alphabetic characters\n",
    "    elif not word.isalpha():\n",
    "        print(\"SYSTEM ERROR: INVALID CHARACTERS\",\"Only letters allowed.\",\"Try again!\",sep=\"\\n\")\n",
    "    # Ask user to try again\n",
    "    word = input(\"Enter a word: \")\n",
    "\n",
    "# create a new variable to hold the word in lowercase\n",
    "new_word = word.lower()\n",
    "\n",
    "# create a list for the expected output\n",
    "result = []\n",
    "\n",
    "# use enumerate to get the position and letter of each index\n",
    "for i, j in enumerate(new_word):\n",
    "    # Multiply each letter by (it's index position number plus 1)\n",
    "    # Capitalize the first letter of each element\n",
    "    result.append((j*(i+1)).capitalize())\n",
    "\n",
    "# create a variable to put the result into quotes in the output\n",
    "final_result = \"-\".join(result)\n",
    "\n",
    "# print expected output\n",
    "print((f\"\\\"{word}\\\"\"), (f\"\\\"{final_result}\\\"\"), sep=\" -> \")"
   ]
  },
  {
   "cell_type": "markdown",
   "metadata": {},
   "source": [
    "## Exercise 3: Remove First and Last Characters\n",
    "\n",
    "It's pretty straightforward.\n",
    "\n",
    "Your goal is to create a program that removes the first and last characters of a string.\n",
    "\n",
    "You're given one parameter, the original string.\n",
    "\n",
    "You don't have to worry with strings with less than two characters.\n",
    "\n",
    "__Example:__\n",
    "\n",
    "'eloquent'  ->  'loquen'\n",
    "\n",
    "'country' ->   'ountr'"
   ]
  },
  {
   "cell_type": "code",
   "execution_count": null,
   "metadata": {},
   "outputs": [
    {
     "name": "stdout",
     "output_type": "stream",
     "text": [
      "'kostas' -> 'osta'\n"
     ]
    }
   ],
   "source": [
    "# Basic Solution: Using String Slicing\n",
    "\n",
    "# Ask user to enter a word\n",
    "word = input(\"Enter a word: \")\n",
    "\n",
    "# print sliced word\n",
    "print((f\"\\'{word}\\'\"), (f\"\\'{word[1:-1]}\\'\"), sep=\" -> \")"
   ]
  },
  {
   "cell_type": "code",
   "execution_count": null,
   "metadata": {},
   "outputs": [
    {
     "name": "stdout",
     "output_type": "stream",
     "text": [
      "'kostas' -> 'osta'\n"
     ]
    }
   ],
   "source": [
    "# Advanced Solution: Using Functions\n",
    "\n",
    "# Ask user to enter a word\n",
    "word = input(\"Enter a word: \")\n",
    "\n",
    "# create a function for cutting the first and the laste letter of the word\n",
    "def splicer(word):\n",
    "    return word[1:-1]\n",
    "\n",
    "# print sliced word\n",
    "print((f\"\\'{word}\\'\"), (f\"\\'{splicer(word)}\\'\"), sep=\" -> \")"
   ]
  },
  {
   "cell_type": "markdown",
   "metadata": {},
   "source": [
    "## Exercise 4: Simple String Repetition\n",
    "\n",
    "Write a program called repeatStr which repeats the given string exactly n times.\n",
    "\n",
    "__Example:__\n",
    "\n",
    "repeat_str(4, 'a') -> 'aaaa'\n",
    "\n",
    "repeat_str(3, 'hello ') -> 'hellohellohello'"
   ]
  },
  {
   "cell_type": "code",
   "execution_count": null,
   "metadata": {},
   "outputs": [
    {
     "name": "stdout",
     "output_type": "stream",
     "text": [
      "aaaa\n",
      "hellohellohello\n"
     ]
    }
   ],
   "source": [
    "# Define a function that takes two parameters: n (int) and word (str)\n",
    "def repeat_str(n, word):\n",
    "       # Return the word repeated n times\n",
    "       return (n * word)\n",
    "\n",
    "# Expected outputs\n",
    "print(repeat_str(4, 'a'))\n",
    "print(repeat_str(3, 'hello'))"
   ]
  },
  {
   "cell_type": "markdown",
   "metadata": {},
   "source": [
    "## Exercise 5: Array Product\n",
    "\n",
    "Given a non-empty array of integers, return the result of multiplying the values together in order.\n",
    "\n",
    "__Example:__\n",
    "\n",
    "[1, 2, 3, 4] -> 1 * 2 * 3 * 4 = 24\n"
   ]
  },
  {
   "cell_type": "code",
   "execution_count": null,
   "metadata": {},
   "outputs": [
    {
     "name": "stdout",
     "output_type": "stream",
     "text": [
      "[1, 2, 3, 4] -> 1 * 2 * 3 * 4 = 24\n"
     ]
    }
   ],
   "source": [
    "# Stores the given list\n",
    "given_list = [1, 2, 3, 4]\n",
    "\n",
    "# Creates a variable to multiply by 1 instead of 0\n",
    "result = 1\n",
    "\n",
    "# Loop through each number in the list and multiply it with result\n",
    "for num in given_list:\n",
    "    # Multiply current number with previous result\n",
    "    result *= num\n",
    "\n",
    "# Creates a string to store multiplication\n",
    "expression = \" * \".join([str(num) for num in given_list])\n",
    "\n",
    "# Display the final result\n",
    "print(given_list, \"->\", expression, \"=\", result)"
   ]
  },
  {
   "cell_type": "markdown",
   "metadata": {},
   "source": [
    "## Exercise 6: Remove Duplicates\n",
    "\n",
    "Given a list with duplicates create a list that contains only the distinct elements.\n",
    "\n",
    "__Example:__\n",
    "\n",
    "my_list = [1,1,1,2,2,2,3,3,4,4,5,3,6,6,7,8,9]\n",
    "\n",
    "__Expected Output:__\n",
    "\n",
    "my_list = [1,2,3,4,5,6,7,8,9]\n"
   ]
  },
  {
   "cell_type": "code",
   "execution_count": 2,
   "metadata": {},
   "outputs": [
    {
     "name": "stdout",
     "output_type": "stream",
     "text": [
      "[1, 2, 3, 4, 5, 6, 7, 8, 9]\n"
     ]
    }
   ],
   "source": [
    "## Solution 1: Using Iteration\n",
    "\n",
    "# The given list with the duplicates numbers\n",
    "given_list = [1,1,1,2,2,2,3,3,4,4,5,3,6,6,7,8,9]\n",
    "\n",
    "# Create a list for all non-duplicate numbers\n",
    "final_list = []\n",
    "\n",
    "# Search the given list\n",
    "for element in given_list:\n",
    "    # Search the final list\n",
    "    if element not in final_list:\n",
    "        # Add non-duplicate elements to final list\n",
    "        final_list.append(element)\n",
    "\n",
    "# Print the list without duplicates\n",
    "print(final_list)"
   ]
  },
  {
   "cell_type": "code",
   "execution_count": null,
   "metadata": {},
   "outputs": [
    {
     "data": {
      "text/plain": [
       "[1, 2, 3, 4, 5, 6, 7, 8, 9]"
      ]
     },
     "metadata": {},
     "output_type": "display_data"
    }
   ],
   "source": [
    "# Solution 2: Using set()\n",
    "\n",
    "given_list = [1,1,1,2,2,2,3,3,4,4,5,3,6,6,7,8,9]\n",
    "\n",
    "list(set(given_list))"
   ]
  },
  {
   "cell_type": "markdown",
   "metadata": {},
   "source": [
    "## Exercise 7: Find Element Positions\n",
    "\n",
    "Given a list with x elements provide the positions of the element that the user is going to provide \n",
    "\n",
    "__Example List:__\n",
    "\n",
    "my_list = [0, 3, 12,12, 8, 2]\n",
    "\n",
    "__Input:__ 12\n",
    "\n",
    "__Expected Output:__\n",
    " 2,3"
   ]
  },
  {
   "cell_type": "code",
   "execution_count": null,
   "metadata": {},
   "outputs": [],
   "source": [
    "# Given list\n",
    "my_list = [0, 3, 12,12, 8, 2]\n",
    "\n",
    "# Given input\n",
    "num = 12\n",
    "\n",
    "# Creates a list to store the expected output\n",
    "positions = []\n",
    "\n",
    "# Searches the given list for the index positions of num\n",
    "for i in range(len(my_list)):\n",
    "      # If input number is in the given list\n",
    "      if my_list[i] == num:\n",
    "            # Add it's index position numbers to positions list\n",
    "            positions.append(i)\n",
    "\n",
    "# Prints expected ouput\n",
    "print(\"Output:\", \", \".join([str(num) for num in positions]))"
   ]
  },
  {
   "cell_type": "markdown",
   "metadata": {},
   "source": [
    "## Exercise 8: Lottery numbers\n",
    "\n",
    "Let's assume that you've chosen the following numbers in the lottery: 3, 7, 11, 42, 34, 49.\n",
    "\n",
    "The numbers that have been drawn are: 5, 11, 9, 42, 3, 49.\n",
    "\n",
    "The question is: how many numbers have you hit?\n",
    "\n",
    "__Lists to be used:__\n",
    "\n",
    "drawn = [5, 11, 9, 42, 3, 49]\n",
    "\n",
    "bets = [3, 7, 11, 42, 34, 49]"
   ]
  },
  {
   "cell_type": "code",
   "execution_count": 3,
   "metadata": {},
   "outputs": [
    {
     "name": "stdout",
     "output_type": "stream",
     "text": [
      "We hit 4 numbers\n"
     ]
    }
   ],
   "source": [
    "# The Drawn numbers\n",
    "drawn = [5, 11, 9, 42, 3, 49]\n",
    "\n",
    "# The Bets' numbers\n",
    "bets = [3, 7, 11, 42, 34, 49]\n",
    "\n",
    "# Creates a list for the hits\n",
    "hits = []\n",
    "\n",
    "# Iterates through drawn list\n",
    "for element in drawn:\n",
    "    # check if any of the bets numbers matching\n",
    "    if element in bets:\n",
    "        # adds number to hits list\n",
    "        hits.append(element)\n",
    "\n",
    "# Print how many numbers we hit\n",
    "print(\"We hit\", len(hits), \"numbers\")"
   ]
  },
  {
   "cell_type": "markdown",
   "metadata": {},
   "source": [
    "## Exercise 9: Palindrome Number\n",
    "\n",
    "Check Palindrome Number\n",
    "\n",
    "__Objective:__ Write a Python program that checks whether a given positive integer is a palindrome.\n",
    "\n",
    "### Instructions:\n",
    "\n",
    "Ask the user to input a positive integer n.\n",
    "\n",
    "Use a loop to reverse the digits of the number.\n",
    "\n",
    "Compare the original number with the reversed number to determine if it's a palindrome.\n",
    "\n",
    "Print the result.\n",
    "\n",
    "### Hints:\n",
    "\n",
    "A palindrome number reads the same forward and backward, such as 121, 1331, etc.\n",
    "\n",
    "To reverse the number, you can extract the digits one by one and construct the reversed number."
   ]
  },
  {
   "cell_type": "code",
   "execution_count": null,
   "metadata": {},
   "outputs": [
    {
     "name": "stdout",
     "output_type": "stream",
     "text": [
      "The number 101 is a palindrome.\n"
     ]
    }
   ],
   "source": [
    "# Asks user to enter an integer number\n",
    "number = int(input(\"Enter a positive integer number: \"))\n",
    "\n",
    "# Creates a copy of the original number to compare later\n",
    "original_number = number\n",
    "\n",
    "# Creates a variable to store the reversed number\n",
    "reverse_number = 0\n",
    "\n",
    "# Loops until we processed all digits\n",
    "while number > 0:\n",
    "    # Gets the last digit of the number\n",
    "    last_digit = number % 10\n",
    "    # Adds the last digit to the reversed number\n",
    "    reverse_number = reverse_number * 10 + last_digit\n",
    "    # Removes the last digit from the number\n",
    "    number = number // 10\n",
    "\n",
    "# Prints the result of comparison\n",
    "if original_number == reverse_number:\n",
    "    print(f\"The number {original_number} is a palindrome.\")\n",
    "else:\n",
    "    print(f\"The number {original_number} is not a palindrome.\")"
   ]
  },
  {
   "cell_type": "markdown",
   "metadata": {},
   "source": [
    "## Exercise 10: Triangle Pattern\n",
    "\n",
    "Write a Python program to construct the following pattern:\n",
    "\n",
    "```plaintext\n",
    "* \n",
    "* * \n",
    "* * * \n",
    "* * * * \n",
    "* * * * * \n",
    "* * * * \n",
    "* * * \n",
    "* * \n",
    "*"
   ]
  },
  {
   "cell_type": "code",
   "execution_count": null,
   "metadata": {},
   "outputs": [
    {
     "name": "stdout",
     "output_type": "stream",
     "text": [
      "* \n",
      "* * \n",
      "* * * \n",
      "* * * * \n",
      "* * * * * \n",
      "* * * * \n",
      "* * * \n",
      "* * \n",
      "* \n",
      "\n"
     ]
    }
   ],
   "source": [
    "ASTERISK = \"* \"\n",
    "\n",
    "for i in range(5):\n",
    "    range1 = i + 1\n",
    "    print(ASTERISK * range1)\n",
    "for i in range(5, 0, -1):\n",
    "    range2 = i - 1\n",
    "    print(ASTERISK * range2)\n",
    "\n"
   ]
  },
  {
   "cell_type": "markdown",
   "metadata": {},
   "source": []
  },
  {
   "cell_type": "markdown",
   "metadata": {},
   "source": [
    "## Exercise 11: List concatenation\n",
    "\n",
    "Concatenate two lists index-wise:\n",
    "\n",
    "list1 = [\"M\", \"na\", \"i\", \"Ke\"]\n",
    "\n",
    "list2 = [\"y\", \"me\", \"s\", \"lly\"]\n",
    "\n",
    "__Expected Output:__ ['My', 'name', 'is', 'Kelly']"
   ]
  },
  {
   "cell_type": "code",
   "execution_count": 4,
   "metadata": {},
   "outputs": [
    {
     "name": "stdout",
     "output_type": "stream",
     "text": [
      "['My', 'name', 'is', 'Kelly']\n"
     ]
    }
   ],
   "source": [
    "list1 = [\"M\", \"na\", \"i\", \"Ke\"]\n",
    "list2 = [\"y\", \"me\", \"s\", \"lly\"]\n",
    "final_list = []\n",
    "\n",
    "for x, y in zip(list1, list2):\n",
    "    result = x + y\n",
    "    final_list.append(result)\n",
    "print(final_list)"
   ]
  }
 ],
 "metadata": {
  "kernelspec": {
   "display_name": "lab",
   "language": "python",
   "name": "python3"
  },
  "language_info": {
   "codemirror_mode": {
    "name": "ipython",
    "version": 3
   },
   "file_extension": ".py",
   "mimetype": "text/x-python",
   "name": "python",
   "nbconvert_exporter": "python",
   "pygments_lexer": "ipython3",
   "version": "3.11.11"
  }
 },
 "nbformat": 4,
 "nbformat_minor": 2
}
