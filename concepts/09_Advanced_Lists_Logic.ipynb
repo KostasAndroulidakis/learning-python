{
 "cells": [
  {
   "cell_type": "markdown",
   "metadata": {},
   "source": [
    "## Exercise 0: Iteration with \"in\" keyword\n",
    "\n",
    "Write a program that iterates through a list of names, finds \"Michael\" and increments his age by 1.\n",
    "\n",
    "Use only standard iteration with \"in\" keyword.\n",
    "\n",
    "__Lists to be used:__\n",
    "Names = [\"John\", \"Michael\", \"George\"]\n",
    "Ages = [25, 36, 42]\n",
    "\n",
    "__Expected Output:__  \n",
    "Ages = [25, 37, 42]"
   ]
  },
  {
   "cell_type": "code",
   "execution_count": 30,
   "metadata": {},
   "outputs": [
    {
     "name": "stdout",
     "output_type": "stream",
     "text": [
      "[25, 37, 42]\n"
     ]
    }
   ],
   "source": [
    "Names = [\"John\", \"Michael\", \"George\"]\n",
    "Ages = [25, 36, 42]\n",
    "\n",
    "count=-1\n",
    "for i in Names:\n",
    "    count+=1\n",
    "    if i ==\"Michael\":\n",
    "        Ages[count]+=1\n",
    "print(Ages)"
   ]
  },
  {
   "cell_type": "markdown",
   "metadata": {},
   "source": [
    "## Exercise 1: Iteration with range() and len()\n",
    "\n",
    "Write a program that iterates through a list of names, finds \"Michael\" and increments his age by 1.\n",
    "\n",
    "Use range() and len() for iteration.\n",
    "\n",
    "__Lists to be used:__\n",
    "Names = [\"John\", \"Michael\", \"George\"]\n",
    "Ages = [25, 36, 42]\n",
    "\n",
    "__Expected Output:__  \n",
    "Ages = [25, 37, 42]"
   ]
  },
  {
   "cell_type": "code",
   "execution_count": 32,
   "metadata": {},
   "outputs": [
    {
     "name": "stdout",
     "output_type": "stream",
     "text": [
      "[25, 37, 42]\n"
     ]
    }
   ],
   "source": [
    "Names = [\"John\", \"Michael\", \"George\"]\n",
    "Ages = [25, 36, 42]\n",
    "\n",
    "for i in range(len(Names)):\n",
    "    if Names[i] ==\"Michael\":\n",
    "        Ages[i]+=1\n",
    "print(Ages)"
   ]
  },
  {
   "cell_type": "markdown",
   "metadata": {},
   "source": [
    "## Exercise 2: Iteration with enumerate()\n",
    "\n",
    "Write a program that iterates through a list of names, finds \"Michael\" and increments his age by 1.\n",
    "\n",
    "Use enumerate() for iteration.\n",
    "\n",
    "__Lists to be used:__\n",
    "Names = [\"John\", \"Michael\", \"George\"]\n",
    "Ages = [25, 36, 42]\n",
    "\n",
    "__Expected Output:__  \n",
    "Ages = [25, 37, 42]"
   ]
  },
  {
   "cell_type": "code",
   "execution_count": null,
   "metadata": {},
   "outputs": [
    {
     "name": "stdout",
     "output_type": "stream",
     "text": [
      "[25, 37, 42]\n"
     ]
    }
   ],
   "source": [
    "Names = [\"John\", \"Michael\", \"George\"]\n",
    "Ages = [25, 36, 42]\n",
    "\n",
    "for i, Name in enumerate(Names):\n",
    "    if Name==\"Michael\":\n",
    "        Ages[i]+=1\n",
    "print(Ages)"
   ]
  }
 ],
 "metadata": {
  "kernelspec": {
   "display_name": "Jupyter",
   "language": "python",
   "name": "python3"
  },
  "language_info": {
   "codemirror_mode": {
    "name": "ipython",
    "version": 3
   },
   "file_extension": ".py",
   "mimetype": "text/x-python",
   "name": "python",
   "nbconvert_exporter": "python",
   "pygments_lexer": "ipython3",
   "version": "3.9.20"
  }
 },
 "nbformat": 4,
 "nbformat_minor": 2
}
