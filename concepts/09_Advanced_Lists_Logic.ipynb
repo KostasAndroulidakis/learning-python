{
 "cells": [
  {
   "cell_type": "markdown",
   "metadata": {},
   "source": [
    "## Exercise 0: Iteration with \"in\" keyword\n",
    "\n",
    "Write a program that iterates through a list of names, finds \"Michael\" and increments his age by 1.\n",
    "\n",
    "Use only standard iteration with \"in\" keyword.\n",
    "\n",
    "__Lists to be used:__\n",
    "Names = [\"John\", \"Michael\", \"George\"]\n",
    "Ages = [25, 36, 42]\n",
    "\n",
    "__Expected Output:__  \n",
    "Ages = [25, 37, 42]"
   ]
  },
  {
   "cell_type": "code",
   "execution_count": 30,
   "metadata": {},
   "outputs": [
    {
     "name": "stdout",
     "output_type": "stream",
     "text": [
      "[25, 37, 42]\n"
     ]
    }
   ],
   "source": [
    "Names = [\"John\", \"Michael\", \"George\"]\n",
    "Ages = [25, 36, 42]\n",
    "\n",
    "count=-1\n",
    "for i in Names:\n",
    "    count+=1\n",
    "    if i ==\"Michael\":\n",
    "        Ages[count]+=1\n",
    "print(Ages)"
   ]
  },
  {
   "cell_type": "markdown",
   "metadata": {},
   "source": [
    "## Exercise 1: Iteration with range() and len()\n",
    "\n",
    "Write a program that iterates through a list of names, finds \"Michael\" and increments his age by 1.\n",
    "\n",
    "Use range() and len() for iteration.\n",
    "\n",
    "__Lists to be used:__\n",
    "Names = [\"John\", \"Michael\", \"George\"]\n",
    "Ages = [25, 36, 42]\n",
    "\n",
    "__Expected Output:__  \n",
    "Ages = [25, 37, 42]"
   ]
  },
  {
   "cell_type": "code",
   "execution_count": 32,
   "metadata": {},
   "outputs": [
    {
     "name": "stdout",
     "output_type": "stream",
     "text": [
      "[25, 37, 42]\n"
     ]
    }
   ],
   "source": [
    "Names = [\"John\", \"Michael\", \"George\"]\n",
    "Ages = [25, 36, 42]\n",
    "\n",
    "for i in range(len(Names)):\n",
    "    if Names[i] ==\"Michael\":\n",
    "        Ages[i]+=1\n",
    "print(Ages)"
   ]
  },
  {
   "cell_type": "markdown",
   "metadata": {},
   "source": [
    "## Exercise 2: Iteration with enumerate()\n",
    "\n",
    "Write a program that iterates through a list of names, finds \"Michael\" and increments his age by 1.\n",
    "\n",
    "Use enumerate() for iteration.\n",
    "\n",
    "__Lists to be used:__\n",
    "Names = [\"John\", \"Michael\", \"George\"]\n",
    "Ages = [25, 36, 42]\n",
    "\n",
    "__Expected Output:__  \n",
    "Ages = [25, 37, 42]"
   ]
  },
  {
   "cell_type": "code",
   "execution_count": null,
   "metadata": {},
   "outputs": [
    {
     "name": "stdout",
     "output_type": "stream",
     "text": [
      "[25, 37, 42]\n"
     ]
    }
   ],
   "source": [
    "Names = [\"John\", \"Michael\", \"George\"]\n",
    "Ages = [25, 36, 42]\n",
    "\n",
    "for i, Name in enumerate(Names):\n",
    "    if Name==\"Michael\":\n",
    "        Ages[i]+=1\n",
    "print(Ages)"
   ]
  },
  {
   "cell_type": "code",
   "execution_count": 1,
   "metadata": {},
   "outputs": [
    {
     "name": "stdout",
     "output_type": "stream",
     "text": [
      "6\n"
     ]
    }
   ],
   "source": [
    "# Example: Nested list comprehension\n",
    "t = [[3-i for i in range(3)] for j in range(3)]\n",
    "s = 0\n",
    "for i in range(3):\n",
    "    s += t[i][i]\n",
    "print(s)  # Output: 6 (sum of diagonal elements)"
   ]
  },
  {
   "cell_type": "code",
   "execution_count": 1,
   "metadata": {},
   "outputs": [],
   "source": [
    "# Example: 2D list creation and access\n",
    "my_list = [[0, 1, 2, 3] for i in range(2)]\n",
    "# Accessing index 2 would cause an error as the list has only 2 elements:\n",
    "# print(my_list[2][0])  # IndexError: list index out of range"
   ]
  },
  {
   "cell_type": "code",
   "execution_count": 2,
   "metadata": {},
   "outputs": [
    {
     "name": "stdout",
     "output_type": "stream",
     "text": [
      "#\n",
      "#\n",
      "#\n"
     ]
    }
   ],
   "source": [
    "# Example: Nested for loops with conditional\n",
    "lst = [[x for x in range(3)] for y in range(3)]\n",
    "for r in range(3):\n",
    "    for c in range(3):\n",
    "        if lst[r][c] % 2 != 0:\n",
    "            print(\"#\")  # Output: 3 '#' symbols (for the odd numbers)"
   ]
  },
  {
   "cell_type": "code",
   "execution_count": 3,
   "metadata": {},
   "outputs": [
    {
     "name": "stdout",
     "output_type": "stream",
     "text": [
      "[]\n"
     ]
    }
   ],
   "source": [
    "# Example: List comprehension (edge case)\n",
    "lst = [i for i in range(-1, -2)]\n",
    "print(lst)  # Output: [] (empty list as range goes backwards)"
   ]
  },
  {
   "cell_type": "code",
   "execution_count": 5,
   "metadata": {},
   "outputs": [
    {
     "name": "stdout",
     "output_type": "stream",
     "text": [
      "[0, 1, 4, 9]\n"
     ]
    }
   ],
   "source": [
    "# Example: List modification with del\n",
    "my_list = [x * x for x in range(5)]  # [0, 1, 4, 9, 16]\n",
    "def fun(lst):\n",
    "    del lst[lst[2]]  # Deletes element at index 4 (value of lst[2] is 4)\n",
    "    return lst\n",
    "print(fun(my_list))  # Output: [0, 1, 4, 16]"
   ]
  },
  {
   "cell_type": "markdown",
   "metadata": {},
   "source": [
    "freeCodeCamp: Scientific Computing with Python"
   ]
  },
  {
   "cell_type": "code",
   "execution_count": 5,
   "metadata": {},
   "outputs": [
    {
     "name": "stdout",
     "output_type": "stream",
     "text": [
      "i_am_a_pascal_cased_string\n",
      "None\n"
     ]
    }
   ],
   "source": [
    "def convert_to_snake_case(pascal_or_camel_cased_string):\n",
    "\n",
    "    snake_cased_char_list = [\n",
    "        '_' + char.lower() if char.isupper()\n",
    "        else char\n",
    "        for char in pascal_or_camel_cased_string\n",
    "    ]\n",
    "\n",
    "    return ''.join(snake_cased_char_list).strip('_')\n",
    "\n",
    "def main():\n",
    "    print(convert_to_snake_case('IAmAPascalCasedString'))\n",
    "\n",
    "print(main())"
   ]
  }
 ],
 "metadata": {
  "kernelspec": {
   "display_name": "lab",
   "language": "python",
   "name": "python3"
  },
  "language_info": {
   "codemirror_mode": {
    "name": "ipython",
    "version": 3
   },
   "file_extension": ".py",
   "mimetype": "text/x-python",
   "name": "python",
   "nbconvert_exporter": "python",
   "pygments_lexer": "ipython3",
   "version": "3.11.11"
  }
 },
 "nbformat": 4,
 "nbformat_minor": 2
}
