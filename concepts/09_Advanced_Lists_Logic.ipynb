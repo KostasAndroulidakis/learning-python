{
 "cells": [
  {
   "cell_type": "markdown",
   "metadata": {},
   "source": [
    "# Advanced Lists Logic\n",
    "\n",
    "Source: Various Python programming exercises and examples"
   ]
  },
  {
   "cell_type": "markdown",
   "metadata": {},
   "source": [
    "## Different Iteration Techniques"
   ]
  },
  {
   "cell_type": "markdown",
   "metadata": {},
   "source": [
    "### Exercise 0: Iteration with \"in\" keyword\n",
    "\n",
    "Write a program that iterates through a list of names, finds \"Michael\" and increments his age by 1.\n",
    "\n",
    "Use only standard iteration with \"in\" keyword.\n",
    "\n",
    "__Lists to be used:__\n",
    "Names = [\"John\", \"Michael\", \"George\"]\n",
    "Ages = [25, 36, 42]\n",
    "\n",
    "__Expected Output:__  \n",
    "Ages = [25, 37, 42]"
   ]
  },
  {
   "cell_type": "code",
   "execution_count": 30,
   "metadata": {},
   "outputs": [
    {
     "name": "stdout",
     "output_type": "stream",
     "text": [
      "[25, 37, 42]\n"
     ]
    }
   ],
   "source": [
    "# Approach 1: Using 'in' and a counter to track position\n",
    "Names = [\"John\", \"Michael\", \"George\"]\n",
    "Ages = [25, 36, 42]\n",
    "\n",
    "# Start with index -1 (will be 0 after first increment)\n",
    "count = -1\n",
    "for name in Names:\n",
    "    count += 1  # Track current position in the list\n",
    "    if name == \"Michael\":\n",
    "        Ages[count] += 1  # Increment age at the matching position\n",
    "        \n",
    "print(Ages)"
   ]
  },
  {
   "cell_type": "markdown",
   "metadata": {},
   "source": [
    "### Exercise 1: Iteration with range() and len()\n",
    "\n",
    "Write a program that iterates through a list of names, finds \"Michael\" and increments his age by 1.\n",
    "\n",
    "Use range() and len() for iteration.\n",
    "\n",
    "__Lists to be used:__\n",
    "Names = [\"John\", \"Michael\", \"George\"]\n",
    "Ages = [25, 36, 42]\n",
    "\n",
    "__Expected Output:__  \n",
    "Ages = [25, 37, 42]"
   ]
  },
  {
   "cell_type": "code",
   "execution_count": 32,
   "metadata": {},
   "outputs": [
    {
     "name": "stdout",
     "output_type": "stream",
     "text": [
      "[25, 37, 42]\n"
     ]
    }
   ],
   "source": [
    "# Approach 2: Using range() and len() for indexing\n",
    "Names = [\"John\", \"Michael\", \"George\"]\n",
    "Ages = [25, 36, 42]\n",
    "\n",
    "# Loop through indices using range\n",
    "for i in range(len(Names)):\n",
    "    if Names[i] == \"Michael\":\n",
    "        Ages[i] += 1  # Increment age at the matching index\n",
    "        \n",
    "print(Ages)"
   ]
  },
  {
   "cell_type": "markdown",
   "metadata": {},
   "source": [
    "### Exercise 2: Iteration with enumerate()\n",
    "\n",
    "Write a program that iterates through a list of names, finds \"Michael\" and increments his age by 1.\n",
    "\n",
    "Use enumerate() for iteration.\n",
    "\n",
    "__Lists to be used:__\n",
    "Names = [\"John\", \"Michael\", \"George\"]\n",
    "Ages = [25, 36, 42]\n",
    "\n",
    "__Expected Output:__  \n",
    "Ages = [25, 37, 42]"
   ]
  },
  {
   "cell_type": "code",
   "execution_count": null,
   "metadata": {},
   "outputs": [
    {
     "name": "stdout",
     "output_type": "stream",
     "text": [
      "[25, 37, 42]\n"
     ]
    }
   ],
   "source": [
    "# Approach 3: Using enumerate() to get index and value together\n",
    "Names = [\"John\", \"Michael\", \"George\"]\n",
    "Ages = [25, 36, 42]\n",
    "\n",
    "# enumerate() provides both the index and the value\n",
    "for i, name in enumerate(Names):\n",
    "    if name == \"Michael\":\n",
    "        Ages[i] += 1  # Increment age at the matching index\n",
    "        \n",
    "print(Ages)"
   ]
  },
  {
   "cell_type": "markdown",
   "metadata": {},
   "source": [
    "## Multidimensional Lists and Comprehensions"
   ]
  },
  {
   "cell_type": "code",
   "execution_count": 1,
   "metadata": {},
   "outputs": [
    {
     "name": "stdout",
     "output_type": "stream",
     "text": [
      "6\n"
     ]
    }
   ],
   "source": [
    "# Example: Nested list comprehension with diagonal sum\n",
    "\n",
    "# Create a 3x3 matrix using list comprehension where each cell is (3-i)\n",
    "t = [[3-i for i in range(3)] for j in range(3)]\n",
    "# This creates: [[3,2,1], [3,2,1], [3,2,1]]\n",
    "\n",
    "# Sum the diagonal elements (where row index equals column index)\n",
    "s = 0\n",
    "for i in range(3):\n",
    "    s += t[i][i]  # Add t[0][0], t[1][1], t[2][2]\n",
    "    \n",
    "print(s)  # Output: 6 (3 + 2 + 1)"
   ]
  },
  {
   "cell_type": "code",
   "execution_count": 1,
   "metadata": {},
   "outputs": [],
   "source": [
    "# Example: 2D list creation and bounds checking\n",
    "\n",
    "# Create a 2x4 matrix: [[0,1,2,3], [0,1,2,3]]\n",
    "my_list = [[0, 1, 2, 3] for i in range(2)]\n",
    "\n",
    "# This would cause an IndexError as the list has only 2 rows (indices 0 and 1)\n",
    "# print(my_list[2][0])  # IndexError: list index out of range"
   ]
  },
  {
   "cell_type": "code",
   "execution_count": 2,
   "metadata": {},
   "outputs": [
    {
     "name": "stdout",
     "output_type": "stream",
     "text": [
      "#\n",
      "#\n",
      "#\n"
     ]
    }
   ],
   "source": [
    "# Example: Iterating through a 2D list with conditions\n",
    "\n",
    "# Create a 3x3 matrix where each cell contains its column index\n",
    "lst = [[x for x in range(3)] for y in range(3)]\n",
    "# This creates: [[0,1,2], [0,1,2], [0,1,2]]\n",
    "\n",
    "# Iterate through each cell and print '#' for odd values\n",
    "for r in range(3):\n",
    "    for c in range(3):\n",
    "        if lst[r][c] % 2 != 0:  # Check if value is odd\n",
    "            print(\"#\")  # Will print for all 1's in the matrix\n",
    "            \n",
    "# Output: 3 '#' symbols (one for each odd number in the matrix)"
   ]
  },
  {
   "cell_type": "markdown",
   "metadata": {},
   "source": [
    "## Edge Cases in List Operations"
   ]
  },
  {
   "cell_type": "code",
   "execution_count": 3,
   "metadata": {},
   "outputs": [
    {
     "name": "stdout",
     "output_type": "stream",
     "text": [
      "[]\n"
     ]
    }
   ],
   "source": [
    "# Example: Range with reversed bounds creates empty list\n",
    "\n",
    "# Creating a list with range where start > stop produces empty list\n",
    "lst = [i for i in range(-1, -2)]  # Start at -1, stop before -2 (impossible)\n",
    "print(lst)  # Output: [] (empty list)"
   ]
  },
  {
   "cell_type": "code",
   "execution_count": 5,
   "metadata": {},
   "outputs": [
    {
     "name": "stdout",
     "output_type": "stream",
     "text": [
      "[0, 1, 4, 9]\n"
     ]
    }
   ],
   "source": [
    "# Example: Using list values as indices for deletion\n",
    "\n",
    "# Create a list of squares: [0, 1, 4, 9, 16]\n",
    "my_list = [x * x for x in range(5)]\n",
    "\n",
    "def fun(lst):\n",
    "    # Delete the element at index lst[2]\n",
    "    # lst[2] is 4, so this deletes the element at index 4 (value 16)\n",
    "    del lst[lst[2]]\n",
    "    return lst\n",
    "\n",
    "print(fun(my_list))  # Output: [0, 1, 4, 9]"
   ]
  },
  {
   "cell_type": "markdown",
   "metadata": {},
   "source": [
    "## Case Conversion Example\n",
    "\n",
    "Source: freeCodeCamp: Scientific Computing with Python"
   ]
  },
  {
   "cell_type": "code",
   "execution_count": 5,
   "metadata": {},
   "outputs": [
    {
     "name": "stdout",
     "output_type": "stream",
     "text": [
      "i_am_a_pascal_cased_string\n",
      "None\n"
     ]
    }
   ],
   "source": [
    "# Converting PascalCase or camelCase to snake_case using list comprehension\n",
    "\n",
    "def convert_to_snake_case(pascal_or_camel_cased_string):\n",
    "    \"\"\"\n",
    "    Converts a PascalCase or camelCase string to snake_case.\n",
    "    \n",
    "    Args:\n",
    "        pascal_or_camel_cased_string: A string in PascalCase or camelCase format\n",
    "        \n",
    "    Returns:\n",
    "        A string converted to snake_case\n",
    "    \"\"\"\n",
    "    # Use list comprehension to process each character\n",
    "    snake_cased_char_list = [\n",
    "        # Add underscore before uppercase chars and convert to lowercase\n",
    "        '_' + char.lower() if char.isupper()\n",
    "        else char  # Keep lowercase chars as is\n",
    "        for char in pascal_or_camel_cased_string\n",
    "    ]\n",
    "\n",
    "    # Join the characters and strip any leading underscore\n",
    "    return ''.join(snake_cased_char_list).strip('_')\n",
    "\n",
    "def main():\n",
    "    # Test the function with a PascalCase string\n",
    "    print(convert_to_snake_case('IAmAPascalCasedString'))\n",
    "\n",
    "# Call main() and print its return value (None)\n",
    "print(main())"
   ]
  }
 ],
 "metadata": {
  "kernelspec": {
   "display_name": "lab",
   "language": "python",
   "name": "python3"
  },
  "language_info": {
   "codemirror_mode": {
    "name": "ipython",
    "version": 3
   },
   "file_extension": ".py",
   "mimetype": "text/x-python",
   "name": "python",
   "nbconvert_exporter": "python",
   "pygments_lexer": "ipython3",
   "version": "3.11.11"
  }
 },
 "nbformat": 4,
 "nbformat_minor": 2
}