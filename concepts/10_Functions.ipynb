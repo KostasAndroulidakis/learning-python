{
 "cells": [
  {
   "cell_type": "markdown",
   "metadata": {},
   "source": [
    "# Functions\n",
    "\n",
    "Source: OpenEDG Python Institute: Python Essentials 1"
   ]
  },
  {
   "cell_type": "markdown",
   "metadata": {},
   "source": [
    "## Basic Function Examples"
   ]
  },
  {
   "cell_type": "code",
   "execution_count": 1,
   "metadata": {},
   "outputs": [
    {
     "name": "stdout",
     "output_type": "stream",
     "text": [
      "9\n"
     ]
    }
   ],
   "source": [
    "# Function with positional and keyword arguments\n",
    "def fun(x, y, z):\n",
    "    # Returns a weighted sum of the parameters\n",
    "    return x + 2 * y + 3 * z\n",
    "\n",
    "# Example showing mixed positional and keyword arguments\n",
    "print(fun(0, z=1, y=3))  # Output: 9"
   ]
  },
  {
   "cell_type": "code",
   "execution_count": 2,
   "metadata": {},
   "outputs": [
    {
     "name": "stdout",
     "output_type": "stream",
     "text": [
      "4\n"
     ]
    }
   ],
   "source": [
    "# Function using the global keyword\n",
    "def fun(x):\n",
    "    # Declare y as a global variable so it exists outside the function\n",
    "    global y\n",
    "    y = x * x  # Square the input and assign to global y\n",
    "    return y\n",
    "\n",
    "fun(2)  # Call the function with argument 2\n",
    "print(y)  # Output: 4 (the global y now exists with value 4)"
   ]
  },
  {
   "cell_type": "code",
   "execution_count": 3,
   "metadata": {},
   "outputs": [
    {
     "name": "stdout",
     "output_type": "stream",
     "text": [
      "4\n"
     ]
    }
   ],
   "source": [
    "# Function call chain example\n",
    "def fun(x):\n",
    "    x += 1  # Increment the parameter by 1\n",
    "    return x\n",
    "\n",
    "x = 2\n",
    "x = fun(x + 1)  # First x+1=3, then fun(3) returns 4\n",
    "print(x)  # Output: 4"
   ]
  },
  {
   "cell_type": "markdown",
   "metadata": {},
   "source": [
    "## Function Return Values and Scoping"
   ]
  },
  {
   "cell_type": "code",
   "execution_count": 1,
   "metadata": {},
   "outputs": [],
   "source": [
    "# Function with conditional return demonstrating None return\n",
    "def fun(x):\n",
    "    if x % 2 == 0:  # If x is even\n",
    "        return 1\n",
    "    else:  # If x is odd\n",
    "        return  # Implicitly returns None\n",
    "\n",
    "# This would cause a TypeError as None cannot be added to an integer:\n",
    "# print(fun(fun(2)) + 1)"
   ]
  },
  {
   "cell_type": "code",
   "execution_count": 5,
   "metadata": {},
   "outputs": [
    {
     "name": "stdout",
     "output_type": "stream",
     "text": [
      "21\n"
     ]
    }
   ],
   "source": [
    "# Function using variables from the outer scope\n",
    "def any():\n",
    "    # Uses 'var' from the global scope\n",
    "    print(var + 1, end='')\n",
    "\n",
    "var = 1\n",
    "any()  # Outputs '2' (1+1) without newline\n",
    "print(var)  # Output: 21 (2 from function output followed by 1)"
   ]
  },
  {
   "cell_type": "code",
   "execution_count": 2,
   "metadata": {},
   "outputs": [],
   "source": [
    "# Function with parameters that aren't used\n",
    "def func(a, b):\n",
    "    # Parameter 'b' is not used in the function body\n",
    "    return a ** a  # Returns a raised to the power of a\n",
    "\n",
    "# This would cause an error as 'b' is a required parameter:\n",
    "# print(func(2))  # TypeError: func() missing 1 required positional argument: 'b'"
   ]
  },
  {
   "cell_type": "markdown",
   "metadata": {},
   "source": [
    "## Recursive Functions and Default Parameters"
   ]
  },
  {
   "cell_type": "code",
   "execution_count": 7,
   "metadata": {},
   "outputs": [
    {
     "name": "stdout",
     "output_type": "stream",
     "text": [
      "6\n"
     ]
    }
   ],
   "source": [
    "# Simple recursive function to calculate sum of numbers from x to 0\n",
    "def f(x):\n",
    "    if x == 0:  # Base case: when x is 0\n",
    "        return 0\n",
    "    # Recursive case: add x to the sum of all numbers smaller than x\n",
    "    return x + f(x - 1)\n",
    "\n",
    "print(f(3))  # Output: 6 (3+2+1+0)"
   ]
  },
  {
   "cell_type": "code",
   "execution_count": 8,
   "metadata": {},
   "outputs": [
    {
     "name": "stdout",
     "output_type": "stream",
     "text": [
      "4\n"
     ]
    }
   ],
   "source": [
    "# Function with default parameters\n",
    "def fun(inp=2, out=3):\n",
    "    # Multiply two parameters, both have default values\n",
    "    return inp * out\n",
    "\n",
    "# Call with one explicit parameter, one default parameter\n",
    "print(fun(out=2))  # Output: 4 (uses default inp=2, overrides out=2)"
   ]
  },
  {
   "cell_type": "markdown",
   "metadata": {},
   "source": [
    "## Lab Exercises: Creating and Using Functions"
   ]
  },
  {
   "cell_type": "code",
   "execution_count": 2,
   "metadata": {},
   "outputs": [
    {
     "name": "stdout",
     "output_type": "stream",
     "text": [
      "1900 ->OK\n",
      "2000 ->OK\n",
      "2016 ->OK\n",
      "1987 ->OK\n"
     ]
    }
   ],
   "source": [
    "# 4.3.1.6 LAB: Leap year checker function\n",
    "\n",
    "def is_year_leap(year):\n",
    "    \"\"\"Determine if a year is a leap year using the Gregorian calendar rules\"\"\"\n",
    "    # Years divisible by 400 are leap years\n",
    "    if year % 400 == 0:\n",
    "        return True\n",
    "    # Years divisible by 100 but not 400 are not leap years\n",
    "    elif year % 100 == 0 and year % 400 != 0:\n",
    "        return False\n",
    "    # Years divisible by 4 but not 100 are leap years\n",
    "    elif year % 4 == 0:\n",
    "        return True\n",
    "    # All other years are not leap years\n",
    "    return False\n",
    "\n",
    "# Test cases\n",
    "test_data = [1900, 2000, 2016, 1987]\n",
    "test_results = [False, True, True, False]\n",
    "\n",
    "# Verify the function against test cases\n",
    "for i in range(len(test_data)):\n",
    "\tyr = test_data[i]\n",
    "\tprint(yr,\"->\",end=\"\")\n",
    "\tresult = is_year_leap(yr)\n",
    "\tif result == test_results[i]:\n",
    "\t\tprint(\"OK\")\n",
    "\telse:\n",
    "\t\tprint(\"Failed\")"
   ]
  },
  {
   "cell_type": "code",
   "execution_count": 3,
   "metadata": {},
   "outputs": [
    {
     "name": "stdout",
     "output_type": "stream",
     "text": [
      "1900 2 ->OK\n",
      "2000 2 ->OK\n",
      "2016 1 ->OK\n",
      "1987 11 ->OK\n"
     ]
    }
   ],
   "source": [
    "# 4.3.1.7 LAB: Days in month calculation function\n",
    "\n",
    "def is_year_leap(year):\n",
    "    \"\"\"Determine if a year is a leap year\"\"\"\n",
    "    if year % 400 == 0:\n",
    "        return True\n",
    "    elif year % 100 == 0 and year % 400 != 0:\n",
    "        return False\n",
    "    elif year % 4 == 0:\n",
    "        return True\n",
    "    return False\n",
    "\n",
    "def days_in_month(year, month):\n",
    "    \"\"\"Calculate the number of days in a given month of a year\"\"\"\n",
    "    # List of days in each month (1-indexed)\n",
    "    months = [31, 28, 31, 30, 31, 30, 31, 31, 30, 31, 30, 31]\n",
    "    \n",
    "    # Validate month input\n",
    "    if month < 1 or month > 12:\n",
    "        return None\n",
    "    \n",
    "    # Get standard number of days for the month\n",
    "    days = months[month - 1]\n",
    "    \n",
    "    # Adjust February for leap years\n",
    "    if month == 2 and is_year_leap(year):\n",
    "        days = 29\n",
    "        \n",
    "    return days\n",
    "\n",
    "# Test cases\n",
    "test_years = [1900, 2000, 2016, 1987]\n",
    "test_months = [2, 2, 1, 11]\n",
    "test_results = [28, 29, 31, 30]\n",
    "\n",
    "# Verify the function against test cases\n",
    "for i in range(len(test_years)):\n",
    "    yr = test_years[i]\n",
    "    mo = test_months[i]\n",
    "    print(yr, mo, \"->\", end=\"\")\n",
    "    result = days_in_month(yr, mo)\n",
    "    if result == test_results[i]:\n",
    "        print(\"OK\")\n",
    "    else:\n",
    "        print(\"Failed\")"
   ]
  },
  {
   "cell_type": "code",
   "execution_count": 4,
   "metadata": {},
   "outputs": [
    {
     "name": "stdout",
     "output_type": "stream",
     "text": [
      "366\n"
     ]
    }
   ],
   "source": [
    "# 4.3.1.8 LAB: Day of the year calculation function\n",
    "\n",
    "def is_year_leap(year):\n",
    "    \"\"\"Determine if a year is a leap year\"\"\"\n",
    "    if year % 400 == 0:\n",
    "        return True\n",
    "    elif year % 100 == 0 and year % 400 != 0:\n",
    "        return False\n",
    "    elif year % 4 == 0:\n",
    "        return True\n",
    "    return False\n",
    "\n",
    "def days_in_month(year, month):\n",
    "    \"\"\"Calculate the number of days in a month\"\"\"\n",
    "    months = [31, 28, 31, 30, 31, 30, 31, 31, 30, 31, 30, 31]\n",
    "    if month < 1 or month > 12:\n",
    "        return None\n",
    "    days = months[month - 1]\n",
    "    if month == 2 and is_year_leap(year):\n",
    "        days = 29\n",
    "    return days\n",
    "\n",
    "def day_of_year(year, month, day):\n",
    "    \"\"\"Calculate the day of the year (1-366)\"\"\"\n",
    "    # Validate input: year must be after Gregorian calendar adoption\n",
    "    if year < 1582:\n",
    "        return None\n",
    "    \n",
    "    # Validate month\n",
    "    if month < 1 or month > 12:\n",
    "        return None\n",
    "    \n",
    "    # Validate day\n",
    "    if day < 1 or day > days_in_month(year, month):\n",
    "        return None\n",
    "    \n",
    "    # Calculate day of year by summing days in all previous months\n",
    "    total_days = 0\n",
    "    for m in range(1, month):\n",
    "        total_days = total_days + days_in_month(year, m)\n",
    "    \n",
    "    # Add days in current month\n",
    "    total_days = total_days + day\n",
    "    return total_days\n",
    "\n",
    "# Test the function - Dec 31 of leap year 2000 should be day 366\n",
    "print(day_of_year(2000, 12, 31))"
   ]
  },
  {
   "cell_type": "code",
   "execution_count": 5,
   "metadata": {},
   "outputs": [
    {
     "name": "stdout",
     "output_type": "stream",
     "text": [
      "2 3 5 7 11 13 17 19 \n"
     ]
    }
   ],
   "source": [
    "# 4.3.1.9 LAB: Prime number checker function\n",
    "\n",
    "def is_prime(num):\n",
    "    \"\"\"Determine if a number is prime\"\"\"\n",
    "    # Numbers less than or equal to 1 are not prime\n",
    "    if num <= 1:\n",
    "        return False\n",
    "    \n",
    "    # Check divisibility by integers from 2 to square root of num\n",
    "    # This is an optimization since we only need to check up to sqrt(num)\n",
    "    for i in range(2, int(num ** 0.5) + 1):\n",
    "        if num % i == 0:  # If divisible, not prime\n",
    "            return False\n",
    "            \n",
    "    # If no divisors found, num is prime\n",
    "    return True\n",
    "\n",
    "# Print all prime numbers from 2 to 20\n",
    "for i in range(1, 20):\n",
    "    if is_prime(i + 1):\n",
    "        print(i + 1, end=\" \")\n",
    "print()"
   ]
  },
  {
   "cell_type": "code",
   "execution_count": 6,
   "metadata": {},
   "outputs": [
    {
     "name": "stdout",
     "output_type": "stream",
     "text": [
      "60.31143162393162\n",
      "31.36194444444444\n",
      "23.52145833333333\n",
      "3.9007393587617467\n",
      "7.490910297239915\n",
      "10.009131205673757\n"
     ]
    }
   ],
   "source": [
    "# 4.3.1.10 LAB: Fuel consumption conversion functions\n",
    "\n",
    "# Constants for unit conversions\n",
    "METERS_PER_MILE = 1609.344\n",
    "LITERS_PER_GALLON = 3.785411784\n",
    "DISTANCE_IN_MILES = 100000 / METERS_PER_MILE  # 100 km in miles\n",
    "KILOMETERS_PER_MILE = METERS_PER_MILE / 1000\n",
    "\n",
    "def liters_100km_to_miles_gallon(liters):\n",
    "    \"\"\"Convert fuel consumption from liters/100km to miles/gallon\"\"\"\n",
    "    # Convert liters to gallons\n",
    "    gallons = liters / LITERS_PER_GALLON\n",
    "    \n",
    "    # Calculate miles per gallon (for 100km)\n",
    "    miles_per_gallon = DISTANCE_IN_MILES * (1 / gallons)\n",
    "    return miles_per_gallon\n",
    "\n",
    "def miles_gallon_to_liters_100km(miles):\n",
    "    \"\"\"Convert fuel consumption from miles/gallon to liters/100km\"\"\"\n",
    "    # Convert miles to kilometers\n",
    "    kilometers = miles * KILOMETERS_PER_MILE\n",
    "    \n",
    "    # Calculate liters per 100km\n",
    "    liters_per_100km = (100 * LITERS_PER_GALLON) / kilometers\n",
    "    return liters_per_100km\n",
    "\n",
    "# Test the conversion functions\n",
    "print(liters_100km_to_miles_gallon(3.9))\n",
    "print(liters_100km_to_miles_gallon(7.5))\n",
    "print(liters_100km_to_miles_gallon(10.))\n",
    "print(miles_gallon_to_liters_100km(60.3))\n",
    "print(miles_gallon_to_liters_100km(31.4))\n",
    "print(miles_gallon_to_liters_100km(23.5))"
   ]
  }
 ],
 "metadata": {
  "kernelspec": {
   "display_name": "lab",
   "language": "python",
   "name": "python3"
  },
  "language_info": {
   "codemirror_mode": {
    "name": "ipython",
    "version": 3
   },
   "file_extension": ".py",
   "mimetype": "text/x-python",
   "name": "python",
   "nbconvert_exporter": "python",
   "pygments_lexer": "ipython3",
   "version": "3.11.11"
  }
 },
 "nbformat": 4,
 "nbformat_minor": 2
}