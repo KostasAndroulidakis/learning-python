{
 "cells": [
  {
   "cell_type": "markdown",
   "metadata": {},
   "source": [
    "OpenEDG Python Institute: Pythons Essentials 1"
   ]
  },
  {
   "cell_type": "code",
   "execution_count": 2,
   "metadata": {},
   "outputs": [
    {
     "name": "stdout",
     "output_type": "stream",
     "text": [
      "1900 ->OK\n",
      "2000 ->OK\n",
      "2016 ->OK\n",
      "1987 ->OK\n"
     ]
    }
   ],
   "source": [
    "# 4.3.1.6 LAB: A leap year: writing your own functions\n",
    "\n",
    "def is_year_leap(year):\n",
    "      if year % 400 == 0:\n",
    "        return True\n",
    "      elif year % 100 == 0 and year % 400 != 0:\n",
    "        return False\n",
    "      elif year % 4 == 0:\n",
    "        return True\n",
    "      return False\n",
    "\n",
    "test_data = [1900, 2000, 2016, 1987]\n",
    "test_results = [False, True, True, False]\n",
    "for i in range(len(test_data)):\n",
    "\tyr = test_data[i]\n",
    "\tprint(yr,\"->\",end=\"\")\n",
    "\tresult = is_year_leap(yr)\n",
    "\tif result == test_results[i]:\n",
    "\t\tprint(\"OK\")\n",
    "\telse:\n",
    "\t\tprint(\"Failed\")"
   ]
  },
  {
   "cell_type": "code",
   "execution_count": 3,
   "metadata": {},
   "outputs": [
    {
     "name": "stdout",
     "output_type": "stream",
     "text": [
      "1900 2 ->OK\n",
      "2000 2 ->OK\n",
      "2016 1 ->OK\n",
      "1987 11 ->OK\n"
     ]
    }
   ],
   "source": [
    "# 4.3.1.7 LAB: How many days: writing and using your own functions\n",
    "\n",
    "def is_year_leap(year):\n",
    "      if year % 400 == 0:\n",
    "        return True\n",
    "      elif year % 100 == 0 and year % 400 != 0:\n",
    "        return False\n",
    "      elif year % 4 == 0:\n",
    "        return True\n",
    "      return False\n",
    "\n",
    "# Create function\n",
    "def days_in_month(year, month):\n",
    "\t# Create a list with all months\n",
    "\tmonths = [31, 28, 31, 30, 31, 30, 31, 31, 30, 31, 30, 31]\n",
    "\t# Check if month is valid\n",
    "\tif month < 1 or month > 12:\n",
    "\t\t# If not valid\n",
    "\t\treturn None\n",
    "\t# Get the days for each month\n",
    "\tdays = months[month - 1]\n",
    "\t# Check for leap year's February\n",
    "\tif month == 2 and is_year_leap(year):\n",
    "\t\tdays = 29\n",
    "\treturn days\n",
    "\n",
    "test_years = [1900, 2000, 2016, 1987]\n",
    "test_months = [2, 2, 1, 11]\n",
    "test_results = [28, 29, 31, 30]\n",
    "for i in range(len(test_years)):\n",
    "\tyr = test_years[i]\n",
    "\tmo = test_months[i]\n",
    "\tprint(yr, mo, \"->\", end=\"\")\n",
    "\tresult = days_in_month(yr, mo)\n",
    "\tif result == test_results[i]:\n",
    "\t\tprint(\"OK\")\n",
    "\telse:\n",
    "\t\tprint(\"Failed\")\n"
   ]
  },
  {
   "cell_type": "code",
   "execution_count": 4,
   "metadata": {},
   "outputs": [
    {
     "name": "stdout",
     "output_type": "stream",
     "text": [
      "366\n"
     ]
    }
   ],
   "source": [
    "# 4.3.1.8 LAB: Day of the year: writing and using your own functions\n",
    "\n",
    "def is_year_leap(year):\n",
    "    if year % 400 == 0:\n",
    "        return True\n",
    "    elif year % 100 == 0 and year % 400 != 0:\n",
    "        return False\n",
    "    elif year % 4 == 0:\n",
    "        return True\n",
    "    return False\n",
    "\n",
    "def days_in_month(year, month):\n",
    "\t# Create a list with all months\n",
    "\tmonths = [31, 28, 31, 30, 31, 30, 31, 31, 30, 31, 30, 31]\n",
    "\t# Check if month is valid\n",
    "\tif month < 1 or month > 12:\n",
    "\t\t# If not valid\n",
    "\t\treturn None\n",
    "\t# Get the days for each month\n",
    "\tdays = months[month - 1]\n",
    "\t# Check for leap year's February\n",
    "\tif month == 2 and is_year_leap(year):\n",
    "\t\tdays = 29\n",
    "\treturn days\n",
    "\n",
    "def day_of_year(year, month, day):\n",
    "    if year < 1582:\n",
    "        return None\n",
    "    if month < 1 or month > 12:\n",
    "        return None\n",
    "    if day < 1 or day > days_in_month(year, month):\n",
    "        return None\n",
    "    total_days = 0\n",
    "    for m in range(1, month):\n",
    "        total_days = total_days + days_in_month(year, m)\n",
    "    total_days = total_days + day\n",
    "    return total_days\n",
    "\n",
    "print(day_of_year(2000, 12, 31))"
   ]
  },
  {
   "cell_type": "code",
   "execution_count": 5,
   "metadata": {},
   "outputs": [
    {
     "name": "stdout",
     "output_type": "stream",
     "text": [
      "2 3 5 7 11 13 17 19 \n"
     ]
    }
   ],
   "source": [
    "# 4.3.1.9 LAB: Prime numbers - how to find them\n",
    "\n",
    "def is_prime(num):\n",
    "    # Check if num is greater than 1\n",
    "    if num <= 1:\n",
    "        return False\n",
    "    # Check all possible divisors from 2 up to square root of num\n",
    "    for i in range(2, int(num ** 0.5) + 1):\n",
    "        if num % i == 0:\n",
    "            return False\n",
    "    # If no divisors found, num is prime\n",
    "    return True\n",
    "\n",
    "for i in range(1, 20):\n",
    "\tif is_prime(i + 1):\n",
    "\t\t\tprint(i + 1, end=\" \")\n",
    "print()\n"
   ]
  },
  {
   "cell_type": "code",
   "execution_count": 6,
   "metadata": {},
   "outputs": [
    {
     "name": "stdout",
     "output_type": "stream",
     "text": [
      "60.31143162393162\n",
      "31.36194444444444\n",
      "23.52145833333333\n",
      "3.9007393587617467\n",
      "7.490910297239915\n",
      "10.009131205673757\n"
     ]
    }
   ],
   "source": [
    "# 4.3.1.10 LAB: Converting fuel consumption\n",
    "\n",
    "# Define constants\n",
    "METERS_PER_MILE = 1609.344\n",
    "LITERS_PER_GALLON = 3.785411784\n",
    "DISTANCE_IN_MILES = 100000 / METERS_PER_MILE\n",
    "KILOMETERS_PER_MILE = METERS_PER_MILE / 1000\n",
    "\n",
    "def liters_100km_to_miles_gallon(liters):   \n",
    "    # Convert liters to gallons\n",
    "    gallons = liters / LITERS_PER_GALLON\n",
    "    # Get Miles per Gallon\n",
    "    miles_per_gallon = DISTANCE_IN_MILES * (1 / gallons)\n",
    "    return miles_per_gallon\n",
    "\n",
    "def miles_gallon_to_liters_100km(miles):\n",
    "    # Convert miles to kilometers\n",
    "    kilometers = miles * KILOMETERS_PER_MILE\n",
    "    # Get liters per 100km\n",
    "    liters_per_100km = (100 * LITERS_PER_GALLON) / kilometers\n",
    "    return liters_per_100km\n",
    "\n",
    "print(liters_100km_to_miles_gallon(3.9))\n",
    "print(liters_100km_to_miles_gallon(7.5))\n",
    "print(liters_100km_to_miles_gallon(10.))\n",
    "print(miles_gallon_to_liters_100km(60.3))\n",
    "print(miles_gallon_to_liters_100km(31.4))\n",
    "print(miles_gallon_to_liters_100km(23.5))\n"
   ]
  },
  {
   "cell_type": "code",
   "execution_count": 1,
   "metadata": {},
   "outputs": [
    {
     "name": "stdout",
     "output_type": "stream",
     "text": [
      "9\n"
     ]
    }
   ],
   "source": [
    "# Example: Function with positional and keyword arguments\n",
    "def fun(x, y, z):\n",
    "    return x + 2 * y + 3 * z\n",
    "print(fun(0, z=1, y=3))  # Output: 9"
   ]
  },
  {
   "cell_type": "code",
   "execution_count": 2,
   "metadata": {},
   "outputs": [
    {
     "name": "stdout",
     "output_type": "stream",
     "text": [
      "4\n"
     ]
    }
   ],
   "source": [
    "# Example: Function with global variable\n",
    "def fun(x):\n",
    "    global y\n",
    "    y = x * x\n",
    "    return y\n",
    "fun(2)\n",
    "print(y)  # Output: 4"
   ]
  },
  {
   "cell_type": "code",
   "execution_count": 3,
   "metadata": {},
   "outputs": [
    {
     "name": "stdout",
     "output_type": "stream",
     "text": [
      "4\n"
     ]
    }
   ],
   "source": [
    "# Example: Function call chain\n",
    "def fun(x):\n",
    "    x += 1\n",
    "    return x\n",
    "x = 2\n",
    "x = fun(x + 1)  # x+1=3, after function x=4\n",
    "print(x)  # Output: 4"
   ]
  },
  {
   "cell_type": "code",
   "execution_count": 4,
   "metadata": {},
   "outputs": [],
   "source": [
    "# Example: Function with conditional return\n",
    "def fun(x):\n",
    "    if x % 2 == 0:\n",
    "        return 1\n",
    "    else:\n",
    "        return\n",
    "# This would cause a TypeError as None cannot be added to an integer:\n",
    "# print(fun(fun(2)) + 1)"
   ]
  },
  {
   "cell_type": "code",
   "execution_count": 5,
   "metadata": {},
   "outputs": [
    {
     "name": "stdout",
     "output_type": "stream",
     "text": [
      "21\n"
     ]
    }
   ],
   "source": [
    "# Example: Function using variables from outer scope\n",
    "def any():\n",
    "    print(var + 1, end='')\n",
    "var = 1\n",
    "any()\n",
    "print(var)  # Output: 21"
   ]
  },
  {
   "cell_type": "code",
   "execution_count": 6,
   "metadata": {},
   "outputs": [],
   "source": [
    "# Example: Function with missing parameter\n",
    "def func(a, b):\n",
    "    return a ** a\n",
    "# This would cause an error as 'b' is missing:\n",
    "# print(func(2))"
   ]
  },
  {
   "cell_type": "code",
   "execution_count": 7,
   "metadata": {},
   "outputs": [
    {
     "name": "stdout",
     "output_type": "stream",
     "text": [
      "6\n"
     ]
    }
   ],
   "source": [
    "# Example: Recursive function\n",
    "def f(x):\n",
    "    if x == 0:\n",
    "        return 0\n",
    "    return x + f(x - 1)\n",
    "print(f(3))  # Output: 6 (3+2+1+0)"
   ]
  },
  {
   "cell_type": "code",
   "execution_count": 8,
   "metadata": {},
   "outputs": [
    {
     "name": "stdout",
     "output_type": "stream",
     "text": [
      "4\n"
     ]
    }
   ],
   "source": [
    "# Example: Function with default parameters\n",
    "def fun(inp=2, out=3):\n",
    "    return inp * out\n",
    "print(fun(out=2))  # Output: 4 (uses default inp=2, overrides out=2)"
   ]
  }
 ],
 "metadata": {
  "kernelspec": {
   "display_name": "lab",
   "language": "python",
   "name": "python3"
  },
  "language_info": {
   "codemirror_mode": {
    "name": "ipython",
    "version": 3
   },
   "file_extension": ".py",
   "mimetype": "text/x-python",
   "name": "python",
   "nbconvert_exporter": "python",
   "pygments_lexer": "ipython3",
   "version": "3.11.11"
  }
 },
 "nbformat": 4,
 "nbformat_minor": 2
}
