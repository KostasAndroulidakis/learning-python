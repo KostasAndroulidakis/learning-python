{
 "cells": [
  {
   "cell_type": "markdown",
   "id": "c4e81969",
   "metadata": {},
   "source": [
    "Exercise 1: Sum of a List\n",
    "\n",
    "Write a function that takes a list of numbers as a parameter and returns their sum.\n"
   ]
  },
  {
   "cell_type": "code",
   "execution_count": 1,
   "id": "ffb95b3f",
   "metadata": {},
   "outputs": [
    {
     "name": "stdout",
     "output_type": "stream",
     "text": [
      "15\n"
     ]
    }
   ],
   "source": [
    "def sum_list(numbers):\n",
    "    return sum(numbers)\n",
    "\n",
    "numbers = [1, 2, 3, 4, 5]\n",
    "print(sum_list(numbers))"
   ]
  },
  {
   "cell_type": "markdown",
   "id": "89a50cf3",
   "metadata": {},
   "source": [
    "Exercise 2: Reverse a List\n",
    "\n",
    "Write a function that takes a list and returns the reversed list."
   ]
  },
  {
   "cell_type": "code",
   "execution_count": 12,
   "id": "d0182c26",
   "metadata": {},
   "outputs": [
    {
     "name": "stdout",
     "output_type": "stream",
     "text": [
      "[5, 4, 3, 2, 1]\n"
     ]
    }
   ],
   "source": [
    "def reverse_list(list_to_reverse):\n",
    "    return list_to_reverse[::-1]\n",
    "\n",
    "numbers = [1, 2, 3, 4, 5]\n",
    "print(reverse_list(numbers))"
   ]
  },
  {
   "cell_type": "markdown",
   "id": "97abfd62",
   "metadata": {},
   "source": [
    "Exercise 3: Factorial of a Number\n",
    "\n",
    "Write a function that takes a number as a parameter and returns its factorial."
   ]
  },
  {
   "cell_type": "code",
   "execution_count": 7,
   "id": "e754a126",
   "metadata": {},
   "outputs": [
    {
     "name": "stdout",
     "output_type": "stream",
     "text": [
      "120\n"
     ]
    }
   ],
   "source": [
    "def factorial(n):\n",
    "    result = 1\n",
    "    for i in range(1, n + 1):\n",
    "        result *= i\n",
    "    return result\n",
    "\n",
    "print(factorial(5))"
   ]
  },
  {
   "cell_type": "markdown",
   "id": "28bab282",
   "metadata": {},
   "source": [
    "Exercise 4: Even Numbers\n",
    "\n",
    "Write a function that takes a list of numbers and returns a new list with only the even numbers."
   ]
  },
  {
   "cell_type": "code",
   "execution_count": 9,
   "id": "c2e67595",
   "metadata": {},
   "outputs": [
    {
     "name": "stdout",
     "output_type": "stream",
     "text": [
      "[2, 4, 6, 8]\n"
     ]
    }
   ],
   "source": [
    "def even_numbers(numbers):\n",
    "    result = []\n",
    "    for number in numbers:\n",
    "        if number % 2 == 0:\n",
    "            result.append(number)\n",
    "    return result\n",
    "\n",
    "numbers = [1, 2, 3, 4, 5, 6, 7, 8, 9]\n",
    "print(even_numbers(numbers))"
   ]
  },
  {
   "cell_type": "markdown",
   "id": "30a9f63b",
   "metadata": {},
   "source": [
    "Exercise 5: Fibonacci Sequence\n",
    "\n",
    "Write a function that prints the first n numbers of the Fibonacci sequence."
   ]
  },
  {
   "cell_type": "code",
   "execution_count": 15,
   "id": "35a86bb5",
   "metadata": {},
   "outputs": [
    {
     "name": "stdout",
     "output_type": "stream",
     "text": [
      "[0, 1, 1, 2, 3, 5, 8, 13, 21, 34]\n"
     ]
    }
   ],
   "source": [
    "def fibonacci(n):\n",
    "    sequence = [0, 1]\n",
    "    for i in range(2, n):\n",
    "        next_number = sequence[-1] + sequence[-2]\n",
    "        sequence.append(next_number)\n",
    "    return sequence[:n]    \n",
    "\n",
    "print(fibonacci(10))"
   ]
  },
  {
   "cell_type": "markdown",
   "id": "865f62a8",
   "metadata": {},
   "source": [
    "Exercise 6: Prime Numbers\n",
    "\n",
    "Write a function that takes a number n and returns a list of the first n prime numbers."
   ]
  },
  {
   "cell_type": "code",
   "execution_count": 16,
   "id": "45d9e8e1",
   "metadata": {},
   "outputs": [
    {
     "name": "stdout",
     "output_type": "stream",
     "text": [
      "[2, 3, 5, 7, 11, 13, 17, 19, 23, 29]\n"
     ]
    }
   ],
   "source": [
    "def is_prime(num):\n",
    "    if num <= 1:\n",
    "        return False\n",
    "    num_root = int(num**0.5) + 1\n",
    "    for i in range (2, num_root):\n",
    "        if num % i == 0:\n",
    "            return False\n",
    "    return True\n",
    "\n",
    "def primes(n):\n",
    "    # Prepare a list\n",
    "    new_list = []\n",
    "    # search from 2 and after\n",
    "    current_number = 2\n",
    "    while len(new_list) < n:\n",
    "        if is_prime(current_number):\n",
    "            new_list.append(current_number)\n",
    "        current_number += 1\n",
    "    return new_list\n",
    "\n",
    "print(primes(10))"
   ]
  },
  {
   "cell_type": "markdown",
   "id": "7107484e",
   "metadata": {},
   "source": [
    "Exercise 7: Count Characters\n",
    "\n",
    "Write a function that takes a string and returns a dictionary with the count of each character."
   ]
  },
  {
   "cell_type": "code",
   "execution_count": 2,
   "id": "8d832b52",
   "metadata": {},
   "outputs": [
    {
     "name": "stdout",
     "output_type": "stream",
     "text": [
      "{'H': 1, 'e': 1, 'l': 3, 'o': 2, ' ': 1, 'W': 1, 'r': 1, 'd': 1, '!': 1}\n"
     ]
    }
   ],
   "source": [
    "def count_characters(string):\n",
    "    result = {}\n",
    "    for char in string:\n",
    "        if char in result:\n",
    "            result[char] += 1\n",
    "        else:\n",
    "            result[char] = 1\n",
    "    return result\n",
    "\n",
    "print(count_characters(\"Hello World!\"))\n"
   ]
  },
  {
   "cell_type": "markdown",
   "id": "0e9805bb",
   "metadata": {},
   "source": [
    "Exercise 8: Multiply All Elements in a List\n",
    "\n",
    "Write a function that takes a list of numbers and returns the product of all numbers in the list."
   ]
  },
  {
   "cell_type": "code",
   "execution_count": 3,
   "id": "744196f8",
   "metadata": {},
   "outputs": [
    {
     "name": "stdout",
     "output_type": "stream",
     "text": [
      "120\n"
     ]
    }
   ],
   "source": [
    "def multiply_list(numbers):\n",
    "    product = 1\n",
    "    for i in numbers:\n",
    "        product *= i\n",
    "    return product\n",
    "\n",
    "numbers = [1, 2, 3, 4, 5]\n",
    "print(multiply_list(numbers))\n"
   ]
  },
  {
   "cell_type": "markdown",
   "id": "e006431f",
   "metadata": {},
   "source": [
    "Exercise 9: Remove Duplicates From a List\n",
    "\n",
    "Write a function that removes all duplicates from a list."
   ]
  },
  {
   "cell_type": "code",
   "execution_count": 7,
   "id": "a62851fc",
   "metadata": {},
   "outputs": [
    {
     "name": "stdout",
     "output_type": "stream",
     "text": [
      "[1, 2, 3, 4, 5]\n"
     ]
    }
   ],
   "source": [
    "# Solution 1: longer but keeping the right order\n",
    "def remove_duplicates(input_list):\n",
    "    final_list = []\n",
    "    for element in input_list:\n",
    "        if element not in final_list:\n",
    "            final_list.append(element)\n",
    "    return final_list\n",
    "\n",
    "numbers = [1, 2, 2, 3, 4, 4, 5, 5]\n",
    "print(remove_duplicates(numbers))\n"
   ]
  },
  {
   "cell_type": "code",
   "execution_count": null,
   "id": "74ebaedc",
   "metadata": {},
   "outputs": [],
   "source": [
    "# Solution 2: shorter but without keeping the right order\n",
    "def remove_duplicates(input_list):\n",
    "    return list(set(input_list))\n",
    "\n",
    "numbers = [1, 2, 2, 3, 3, 4, 4, 5, 5]\n",
    "print(remove_duplicates(numbers))"
   ]
  },
  {
   "cell_type": "markdown",
   "id": "c3725428",
   "metadata": {},
   "source": [
    "Exercise 10:Longest Word in a List\n",
    "\n",
    "Write a function that takes a list of words and returns the longest one. If there are multiple words of the same maximum length, return the first one encountered."
   ]
  },
  {
   "cell_type": "code",
   "execution_count": 8,
   "id": "d4ef13d0",
   "metadata": {},
   "outputs": [
    {
     "name": "stdout",
     "output_type": "stream",
     "text": [
      "JavaScript\n"
     ]
    }
   ],
   "source": [
    "def longest_word(word_list):\n",
    "    return max(word_list, key=len)\n",
    "\n",
    "words = [\"Python\", \"Java\", \"JavaScript\", \"Ruby\", \"C\", \"C++\", \"Scala\", \"Go\"]\n",
    "print(longest_word(words))\n"
   ]
  },
  {
   "cell_type": "code",
   "execution_count": 1,
   "id": "62f37ddb",
   "metadata": {},
   "outputs": [],
   "source": [
    "# Example: Function returning None\n",
    "def function_1(a):\n",
    "    return None\n",
    "def function_2(a):\n",
    "    return function_1(a) * function_1(a)\n",
    "# This would raise a TypeError:\n",
    "# print(function_2(2))  # TypeError: unsupported operand type(s) for *: 'NoneType'"
   ]
  },
  {
   "cell_type": "code",
   "execution_count": null,
   "id": "0cb842ac",
   "metadata": {},
   "outputs": [],
   "source": [
    "# Example: Recursive function with equality check\n",
    "def fun(x, y):\n",
    "    if x == y:\n",
    "        return x\n",
    "    else:\n",
    "        return fun(x, y-1)\n",
    "# print(fun(0, 3))  # Output: 0"
   ]
  },
  {
   "cell_type": "code",
   "execution_count": null,
   "id": "2a2afa09",
   "metadata": {},
   "outputs": [
    {
     "name": "stdout",
     "output_type": "stream",
     "text": [
      "2\n"
     ]
    }
   ],
   "source": [
    "# Example: Function with conditional return and recursive call\n",
    "def fun(x):\n",
    "    if x % 2 == 0:\n",
    "        return 1\n",
    "    else:\n",
    "        return 2\n",
    "print(fun(fun(2)))  # Output: 2 (fun(2)=1, fun(1)=2)"
   ]
  },
  {
   "cell_type": "markdown",
   "id": "fc92d60a",
   "metadata": {},
   "source": [
    "#### 3. The input is a string str of digits. Cut the string into chunks (a chunk here is a substring of the initial string) of size sz (ignore the last chunk if its size is less than sz).\n",
    "\n",
    "If a chunk represents an integer such as the sum of the cubes of its digits is divisible by 2, reverse that chunk; otherwise rotate it to the left by one position. Put together these modified chunks and return the result as a string.\n",
    "\n",
    "If\n",
    "\n",
    "1. sz is <= 0 or if str is empty return \"\"\n",
    "2. sz is greater (>) than the length of str it is impossible to take a chunk of size sz hence return \"\".\n",
    "\n",
    "Examples:\n",
    "\n",
    "revrot(\"123456987654\", 6) --> \"234561876549\"\n",
    "\n",
    "revrot(\"123456987653\", 6) --> \"234561356789\"\n",
    "\n",
    "revrot(\"66443875\", 4) --> \"44668753\"\n",
    "\n",
    "revrot(\"66443875\", 8) --> \"64438756\"\n",
    "\n",
    "revrot(\"664438769\", 8) --> \"67834466\"\n",
    "\n",
    "revrot(\"123456779\", 8) --> \"23456771\"\n",
    "\n",
    "revrot(\"\", 8) --> \"\"\n",
    "\n",
    "revrot(\"123456779\", 0) --> \"\" \n",
    "\n",
    "revrot(\"563000655734469485\", 4) --> \"0365065073456944\"\n",
    "\n",
    "Example of a string rotated to the left by one position:\n",
    "\n",
    "s = \"123456\" gives \"234561\"."
   ]
  },
  {
   "cell_type": "code",
   "execution_count": null,
   "id": "8ee81809",
   "metadata": {},
   "outputs": [],
   "source": [
    "def rev_rot(strng, sz):\n",
    "    #Write your code"
   ]
  },
  {
   "cell_type": "markdown",
   "id": "ea94deb7",
   "metadata": {},
   "source": [
    "#### 8. Write a function\n",
    "\n",
    "triple_double(num1, num2)\n",
    "\n",
    "which takes numbers num1 and num2 and returns 1 if there is a straight triple of a number at any place in num1 and also a straight double of the same number in num2.\n",
    "\n",
    "If this isn't the case, return 0\n",
    "\n",
    "Examples\n",
    "\n",
    "triple_double(451999277, 41177722899) == 1\n",
    "\n",
    "num1 has straight triple 999s and num2 has straight double 99s\n",
    "\n",
    "triple_double(1222345, 12345) == 0\n",
    "\n",
    "num1 has straight triple 2s but num2 has only a single 2\n",
    "\n",
    "triple_double(12345, 12345) == 0\n",
    "\n",
    "triple_double(666789, 12345667) == 1"
   ]
  },
  {
   "cell_type": "code",
   "execution_count": null,
   "id": "b9f3c2ce",
   "metadata": {},
   "outputs": [],
   "source": [
    "def triple_double(num1, num2):\n",
    "    return "
   ]
  }
 ],
 "metadata": {
  "kernelspec": {
   "display_name": "lab",
   "language": "python",
   "name": "python3"
  },
  "language_info": {
   "codemirror_mode": {
    "name": "ipython",
    "version": 3
   },
   "file_extension": ".py",
   "mimetype": "text/x-python",
   "name": "python",
   "nbconvert_exporter": "python",
   "pygments_lexer": "ipython3",
   "version": "3.11.11"
  }
 },
 "nbformat": 4,
 "nbformat_minor": 5
}
