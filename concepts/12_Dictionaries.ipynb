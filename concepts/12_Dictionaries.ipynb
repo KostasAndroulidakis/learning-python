{
 "cells": [
  {
   "cell_type": "markdown",
   "metadata": {},
   "source": [
    "OpenEDG Python Institute: Pythons Essentials 1"
   ]
  },
  {
   "cell_type": "markdown",
   "metadata": {},
   "source": [
    "Python Essentials - Dictionaries"
   ]
  },
  {
   "cell_type": "code",
   "execution_count": 7,
   "metadata": {},
   "outputs": [
    {
     "name": "stdout",
     "output_type": "stream",
     "text": [
      "1\n"
     ]
    }
   ],
   "source": [
    "## Basic Operations:\n",
    "\n",
    "# Creating dictionaries\n",
    "empty_dict = {}\n",
    "numbers = {'one': 1, 'two': 2, 'three': 3}\n",
    "mixed = {'name': 'John', 'age': 30, 'is_student': False}\n",
    "\n",
    "# Accessing values\n",
    "print(numbers['one'])  # Output: 1\n",
    "\n",
    "# Adding or updating items\n",
    "numbers['four'] = 4\n",
    "numbers['one'] = 'uno'\n",
    "\n",
    "# Removing items\n",
    "del numbers['two']\n",
    "popped_value = numbers.pop('three')"
   ]
  },
  {
   "cell_type": "code",
   "execution_count": 8,
   "metadata": {},
   "outputs": [
    {
     "name": "stdout",
     "output_type": "stream",
     "text": [
      "a\n",
      "b\n",
      "c\n"
     ]
    }
   ],
   "source": [
    "# Example: Dictionary with tuple values\n",
    "dictionary = {}\n",
    "my_list = ['a', 'b', 'c', 'd']\n",
    "for i in range(len(my_list) - 1):\n",
    "    dictionary[my_list[i]] = (my_list[i], )\n",
    "for i in sorted(dictionary.keys()):\n",
    "    k = dictionary[i]\n",
    "    print(k[0])  # Output: a, b, c"
   ]
  },
  {
   "cell_type": "code",
   "execution_count": 9,
   "metadata": {},
   "outputs": [
    {
     "name": "stdout",
     "output_type": "stream",
     "text": [
      "two\n"
     ]
    }
   ],
   "source": [
    "# Example: Dictionary key iteration\n",
    "dictionary = {'one': 'two', 'three': 'one', 'two': 'three'}\n",
    "v = dictionary['one']  # v = 'two'\n",
    "for k in range(len(dictionary)):\n",
    "    v = dictionary[v]\n",
    "print(v)  # Output: 'two' (after following the chain)"
   ]
  },
  {
   "cell_type": "code",
   "execution_count": 12,
   "metadata": {},
   "outputs": [
    {
     "name": "stdout",
     "output_type": "stream",
     "text": [
      "21"
     ]
    }
   ],
   "source": [
    "# Example: Dictionary with tuples as values\n",
    "dct = {}\n",
    "dct['1'] = (1, 2)\n",
    "dct['2'] = (2, 1)\n",
    "for x in dct.keys():\n",
    "    print(dct[x][1], end=\"\")  # Output: 21"
   ]
  },
  {
   "cell_type": "code",
   "execution_count": 11,
   "metadata": {},
   "outputs": [
    {
     "name": "stdout",
     "output_type": "stream",
     "text": [
      "one\n"
     ]
    }
   ],
   "source": [
    "# Example: Dictionary key chain\n",
    "dct = {'one': 'two', 'three': 'one', 'two': 'three'}\n",
    "v = dct['three']  # v = 'one'\n",
    "for k in range(len(dct)):\n",
    "    v = dct[v]\n",
    "print(v)  # Output: one (after following the chain)"
   ]
  },
  {
   "cell_type": "code",
   "execution_count": 13,
   "metadata": {},
   "outputs": [
    {
     "name": "stdout",
     "output_type": "stream",
     "text": [
      "01"
     ]
    }
   ],
   "source": [
    "# Example: Dictionary methods\n",
    "# Common error - 'values' not 'vals'\n",
    "dd = {\"1\": \"0\", \"0\": \"1\"}\n",
    "# This would cause an error:\n",
    "# for x in dd.vals():  # AttributeError: 'dict' object has no attribute 'vals'\n",
    "#     print(x, end=\"\")\n",
    "\n",
    "# Correct way:\n",
    "for x in dd.values():\n",
    "    print(x, end=\"\")  # Output: 01"
   ]
  },
  {
   "cell_type": "markdown",
   "metadata": {},
   "source": [
    "Khan Academy course: Intro to Computer Science - Python"
   ]
  },
  {
   "cell_type": "code",
   "execution_count": null,
   "metadata": {},
   "outputs": [],
   "source": [
    "# Recycle Sorting Program\n",
    "\n",
    "valid_materials = {\n",
    "    \"plastic\": \"recycling\",\n",
    "    \"glass\": \"recycling\",\n",
    "    \"metal\": \"recycling\",\n",
    "    \"paper\": \"recycling\",\n",
    "    \"cardboard\": \"recycling\",\n",
    "    \"organic\": \"composting\",\n",
    "    \"greasy cardboard\": \"trash\",\n",
    "    \"dirty plastic\": \"trash\",\n",
    "}\n",
    "\n",
    "print(\"Choose a material from the list:\")\n",
    "for mat in valid_materials.keys():\n",
    "    print(f\"- {mat}\")\n",
    "\n",
    "while True:\n",
    "    material = input(\"\\nWhat material is it? \").lower().strip()\n",
    "    if material in valid_materials:\n",
    "        break\n",
    "    print(\"Invalid material. Please choose from the list.\")\n",
    "\n",
    "length = None\n",
    "if material == \"plastic\":\n",
    "    length = float(input(\"What is its length in cm? \"))\n",
    "\n",
    "waste_type = valid_materials[material]\n",
    "\n",
    "if material == \"plastic\" and length <= 7.5:\n",
    "    waste_type = \"trash\"\n",
    "\n",
    "print(f\"Please deposit your item in the {waste_type} bin.\")\n"
   ]
  }
 ],
 "metadata": {
  "kernelspec": {
   "display_name": "lab",
   "language": "python",
   "name": "python3"
  },
  "language_info": {
   "codemirror_mode": {
    "name": "ipython",
    "version": 3
   },
   "file_extension": ".py",
   "mimetype": "text/x-python",
   "name": "python",
   "nbconvert_exporter": "python",
   "pygments_lexer": "ipython3",
   "version": "3.11.11"
  }
 },
 "nbformat": 4,
 "nbformat_minor": 2
}
