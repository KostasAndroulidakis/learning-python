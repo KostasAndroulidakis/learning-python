{
 "cells": [
  {
   "cell_type": "markdown",
   "metadata": {},
   "source": [
    "### Python Essentials - Bitwise Operations"
   ]
  },
  {
   "cell_type": "code",
   "execution_count": 1,
   "metadata": {},
   "outputs": [
    {
     "name": "stdout",
     "output_type": "stream",
     "text": [
      "1\n"
     ]
    }
   ],
   "source": [
    "# AND operator (&) - 1 if both bits are 1\n",
    "print(5 & 3)  # 0101 & 0011 = 0001 = 1"
   ]
  },
  {
   "cell_type": "code",
   "execution_count": 2,
   "metadata": {},
   "outputs": [
    {
     "name": "stdout",
     "output_type": "stream",
     "text": [
      "7\n"
     ]
    }
   ],
   "source": [
    "# OR operator (|) - 1 if either bit is 1\n",
    "print(5 | 3)  # 0101 | 0011 = 0111 = 7"
   ]
  },
  {
   "cell_type": "code",
   "execution_count": 3,
   "metadata": {},
   "outputs": [
    {
     "name": "stdout",
     "output_type": "stream",
     "text": [
      "6\n"
     ]
    }
   ],
   "source": [
    "# XOR operator (^) - 1 if bits are different\n",
    "print(5 ^ 3)  # 0101 ^ 0011 = 0110 = 6"
   ]
  },
  {
   "cell_type": "code",
   "execution_count": 4,
   "metadata": {},
   "outputs": [
    {
     "name": "stdout",
     "output_type": "stream",
     "text": [
      "-6\n"
     ]
    }
   ],
   "source": [
    "# NOT operator (~) - inverts all bits\n",
    "print(~5)  # ~0101 = 1010 (with sign) = -6"
   ]
  },
  {
   "cell_type": "code",
   "execution_count": 5,
   "metadata": {},
   "outputs": [
    {
     "name": "stdout",
     "output_type": "stream",
     "text": [
      "10\n"
     ]
    }
   ],
   "source": [
    "# Left shift (<<) - shift bits left\n",
    "print(5 << 1)  # 0101 << 1 = 1010 = 10"
   ]
  },
  {
   "cell_type": "code",
   "execution_count": 6,
   "metadata": {},
   "outputs": [
    {
     "name": "stdout",
     "output_type": "stream",
     "text": [
      "2\n"
     ]
    }
   ],
   "source": [
    "# Right shift (>>) - shift bits right\n",
    "print(5 >> 1)  # 0101 >> 1 = 0010 = 2"
   ]
  },
  {
   "cell_type": "code",
   "execution_count": 7,
   "metadata": {},
   "outputs": [
    {
     "name": "stdout",
     "output_type": "stream",
     "text": [
      "2\n"
     ]
    }
   ],
   "source": [
    "# Example: Bitwise operators\n",
    "a = 1  # 01\n",
    "b = 0  # 00\n",
    "c = a & b  # 0\n",
    "d = a | b  # 1\n",
    "e = a ^ b  # 1\n",
    "print(c + d + e)  # Output: 2"
   ]
  },
  {
   "cell_type": "code",
   "execution_count": 8,
   "metadata": {},
   "outputs": [
    {
     "name": "stdout",
     "output_type": "stream",
     "text": [
      "0 1\n"
     ]
    }
   ],
   "source": [
    "# Example: Variable swapping with XOR\n",
    "a = 1\n",
    "b = 0\n",
    "a = a ^ b  # a = 1\n",
    "b = a ^ b  # b = 1\n",
    "a = a ^ b  # a = 0\n",
    "print(a, b)  # Output: 0 1"
   ]
  },
  {
   "cell_type": "markdown",
   "metadata": {},
   "source": [
    "### School of Certified Professionals (SCP)"
   ]
  },
  {
   "cell_type": "markdown",
   "metadata": {},
   "source": [
    "Write a function that takes an integer as input, and returns the number of bits that are equal to one in the binary representation of that number. You can guarantee that input is non-negative.\n",
    "\n",
    "__Example:__ The binary representation of 1234 is 10011010010, so the function should return 5 in this case\n",
    "\n",
    "__Hint:__ use `bin()` function"
   ]
  },
  {
   "cell_type": "code",
   "execution_count": 3,
   "metadata": {},
   "outputs": [
    {
     "name": "stdout",
     "output_type": "stream",
     "text": [
      "5\n"
     ]
    }
   ],
   "source": [
    "def count_bits(n: int) -> int:\n",
    "    # Convert int to binary\n",
    "    binary_digits = bin(n)[2:]\n",
    "    # Count the number of 1s in the binary representation\n",
    "    count = 0\n",
    "    for i in binary_digits:\n",
    "        if i == '1':\n",
    "            count += 1\n",
    "    return count\n",
    "\n",
    "print(count_bits(1234))"
   ]
  }
 ],
 "metadata": {
  "kernelspec": {
   "display_name": "lab",
   "language": "python",
   "name": "python3"
  },
  "language_info": {
   "codemirror_mode": {
    "name": "ipython",
    "version": 3
   },
   "file_extension": ".py",
   "mimetype": "text/x-python",
   "name": "python",
   "nbconvert_exporter": "python",
   "pygments_lexer": "ipython3",
   "version": "3.11.11"
  }
 },
 "nbformat": 4,
 "nbformat_minor": 2
}
