{
 "cells": [
  {
   "cell_type": "markdown",
   "metadata": {},
   "source": [
    "Python Essentials 2 - Exceptions"
   ]
  },
  {
   "cell_type": "code",
   "execution_count": 1,
   "metadata": {},
   "outputs": [
    {
     "name": "stdout",
     "output_type": "stream",
     "text": [
      "Error: wrong input\n",
      "Error: the value is not within permitted range (-10..10)\n",
      "The number is: 1\n"
     ]
    }
   ],
   "source": [
    "# Python Essentials 2\n",
    "# 2.8.1.4 Reading ints safely\n",
    "\n",
    "def read_int(prompt, min, max):\n",
    "    while True:  # Loop until we get valid input\n",
    "        try:\n",
    "            number = input(prompt)\n",
    "            number = int(number)  # Convert to integer\n",
    "            if number < min or number > max:\n",
    "                print(f\"Error: the value is not within permitted range ({min}..{max})\")\n",
    "            else:\n",
    "                return number  # Valid input, return it\n",
    "        except ValueError:  # Catches conversion errors\n",
    "            print(\"Error: wrong input\")\n",
    "\n",
    "v = read_int(\"Enter a number from -10 to 10: \", -10, 10)\n",
    "\n",
    "print(\"The number is:\", v)"
   ]
  },
  {
   "cell_type": "code",
   "execution_count": 1,
   "metadata": {},
   "outputs": [
    {
     "name": "stdout",
     "output_type": "stream",
     "text": [
      "Cannot divide by zero\n"
     ]
    }
   ],
   "source": [
    "# Simple try/except\n",
    "try:\n",
    "    x = 1 / 0\n",
    "except ZeroDivisionError:\n",
    "    print(\"Cannot divide by zero\")"
   ]
  },
  {
   "cell_type": "code",
   "execution_count": 1,
   "metadata": {},
   "outputs": [
    {
     "name": "stdout",
     "output_type": "stream",
     "text": [
      "Invalid conversion\n"
     ]
    }
   ],
   "source": [
    "# Multiple except blocks\n",
    "try:\n",
    "    num = int(\"abc\")\n",
    "except ValueError:\n",
    "    print(\"Invalid conversion\")\n",
    "except TypeError:\n",
    "    print(\"Type error occurred\")\n",
    "except:\n",
    "    print(\"Some other error occurred\")"
   ]
  },
  {
   "cell_type": "code",
   "execution_count": 2,
   "metadata": {},
   "outputs": [
    {
     "name": "stdout",
     "output_type": "stream",
     "text": [
      "16.5\n"
     ]
    }
   ],
   "source": [
    "# Example: Exception hierarchy\n",
    "try:\n",
    "    value = input(\"Enter a value: \")\n",
    "    print(int(value)/len(value))\n",
    "except ValueError:\n",
    "    print(\"Bad input...\")\n",
    "except ZeroDivisionError:\n",
    "    print(\"Very bad input...\")\n",
    "except TypeError:\n",
    "    print(\"Very very bad input...\")\n",
    "except:\n",
    "    print(\"Booo!\")\n",
    "# If input is \"0\", output would be \"Very bad input...\"\n",
    "# If input is \"abc\", output would be \"Bad input...\"\n",
    "# If input is numeric but causes different error, output would be \"Very very bad input...\""
   ]
  },
  {
   "cell_type": "code",
   "execution_count": 3,
   "metadata": {},
   "outputs": [
    {
     "name": "stdout",
     "output_type": "stream",
     "text": [
      "Very very bad input...\n"
     ]
    }
   ],
   "source": [
    "# Example: TypeError with division\n",
    "try:\n",
    "    value = input(\"Enter a value: \")\n",
    "    print(value/value)  # String division causes TypeError\n",
    "except ValueError:\n",
    "    print(\"Bad input...\")\n",
    "except ZeroDivisionError:\n",
    "    print(\"Very bad input...\")\n",
    "except TypeError:\n",
    "    print(\"Very very bad input...\")\n",
    "except:\n",
    "    print(\"Booo!\")\n",
    "# Output: \"Very very bad input...\""
   ]
  },
  {
   "cell_type": "code",
   "execution_count": 4,
   "metadata": {},
   "outputs": [
    {
     "name": "stdout",
     "output_type": "stream",
     "text": [
      "0.5\n"
     ]
    }
   ],
   "source": [
    "# Example: Input handling with try/except\n",
    "try:\n",
    "    first_prompt = input(\"Enter the first value:\")\n",
    "    a = len(first_prompt)\n",
    "    second_prompt = input(\"Enter the second value:\")\n",
    "    b = len(second_prompt) * 2\n",
    "    print(a/b)\n",
    "except ZeroDivisionError:\n",
    "    print(\"Do not divide by zero!\")\n",
    "except ValueError:\n",
    "    print(\"Wrong value.\")\n",
    "except:\n",
    "    print(\"Error.Error.Error.\")"
   ]
  },
  {
   "cell_type": "code",
   "execution_count": 5,
   "metadata": {},
   "outputs": [
    {
     "name": "stdout",
     "output_type": "stream",
     "text": [
      "Sorry, something went wrong...\n"
     ]
    }
   ],
   "source": [
    "# Example: Incorrect except order\n",
    "try:\n",
    "    print(5/0)\n",
    "    # The 'break' keyword would cause SyntaxError outside a loop\n",
    "    # break\n",
    "except:\n",
    "    print(\"Sorry, something went wrong...\")\n",
    "# The following except block would never execute (unreachable)\n",
    "# except (ValueError, ZeroDivisionError):\n",
    "#     print(\"Too bad...\")"
   ]
  }
 ],
 "metadata": {
  "kernelspec": {
   "display_name": "lab",
   "language": "python",
   "name": "python3"
  },
  "language_info": {
   "codemirror_mode": {
    "name": "ipython",
    "version": 3
   },
   "file_extension": ".py",
   "mimetype": "text/x-python",
   "name": "python",
   "nbconvert_exporter": "python",
   "pygments_lexer": "ipython3",
   "version": "3.11.11"
  }
 },
 "nbformat": 4,
 "nbformat_minor": 2
}
