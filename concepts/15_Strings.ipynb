{
 "cells": [
  {
   "cell_type": "markdown",
   "metadata": {},
   "source": [
    "OpenEDG Python Institute: Pythons Essentials 2"
   ]
  },
  {
   "cell_type": "code",
   "execution_count": 2,
   "metadata": {},
   "outputs": [
    {
     "name": "stdout",
     "output_type": "stream",
     "text": [
      "['To', 'be', 'or', 'not', 'to', 'be,', 'that', 'is', 'the', 'question']\n",
      "['To', 'be', 'or', 'not', 'to', 'be,that', 'is', 'the', 'question']\n",
      "[]\n",
      "['abc']\n",
      "[]\n"
     ]
    }
   ],
   "source": [
    "# 2.3.1.8 String methods\n",
    "\n",
    "def mysplit(strng):\n",
    "    # prepare a string\n",
    "    word = \"\"\n",
    "    # prepare a list to add the words\n",
    "    words = []\n",
    "    # remove whitespaces from the start and end of the string\n",
    "    strng = strng.strip()\n",
    "    # in case of empty string\n",
    "    if strng == \"\":\n",
    "        # return an empty list\n",
    "        return words\n",
    "    else:\n",
    "        for char in strng:\n",
    "            if not char.isspace():\n",
    "                word = word + char          \n",
    "            if char.isspace():\n",
    "                words.append(word)\n",
    "                word = \"\"\n",
    "    # add last word after the end of the string\n",
    "    words.append(word)\n",
    "    return words\n",
    "\n",
    "print(mysplit(\"To be or not to be, that is the question\"))\n",
    "print(mysplit(\"To be or not to be,that is the question\"))\n",
    "print(mysplit(\"   \"))\n",
    "print(mysplit(\" abc \"))\n",
    "print(mysplit(\"\"))"
   ]
  },
  {
   "cell_type": "code",
   "execution_count": 5,
   "metadata": {},
   "outputs": [
    {
     "name": "stdout",
     "output_type": "stream",
     "text": [
      "DYH FDHVDU\n"
     ]
    }
   ],
   "source": [
    "# 2.5.1.6 LAB: Improving the Caesar cipher\n",
    "\n",
    "# ask the user to enter the unencrypted one-line message\n",
    "text = input(\"Enter your message: \")\n",
    "\n",
    "# Validate shift value between 1-25\n",
    "def validate_shift_value():\n",
    "    # Loop until user enters an integer between 1-25\n",
    "    while True:\n",
    "        # Get shift value\n",
    "        shift_value = input(\"Enter shift value (1-25): \")\n",
    "        # remove leading/t\n",
    "        # railing spaces from input\n",
    "        shift_value = shift_value.strip()\n",
    "        # if number is valid:\n",
    "        if shift_value.isdigit():\n",
    "            # convert string to int\n",
    "            shift_value = int(shift_value)\n",
    "            if shift_value < 1 or shift_value > 25:\n",
    "                print(f'ERROR: The \"{shift_value}\" is not between 1 and 25! Please enter a valid shift value.')\n",
    "            else:\n",
    "                return int(shift_value)\n",
    "        else: \n",
    "            print(f'ERROR: The \"{shift_value}\" is not a number! Please enter a valid shift value between 1 and 25.')\n",
    "\n",
    "shift_value = validate_shift_value()\n",
    "\n",
    "# Convert character to ASCII, shift it and convert back to character\n",
    "def caesar_cipher(text, shift_number):\n",
    "    cipher = ''\n",
    "    for char in text:\n",
    "        if char.isalpha():\n",
    "            # Use modulo 26 to wrap around the alphabet\n",
    "            ALPHABET_SIZE = 26\n",
    "            # 65 is ASCII for 'A', 97 is ASCII for 'a'\n",
    "            if char.isupper():\n",
    "                char = chr((((ord(char) - 65) + shift_number)%ALPHABET_SIZE)+65)\n",
    "            else:\n",
    "                char = chr((((ord(char) - 97) + shift_number)%ALPHABET_SIZE)+97)\n",
    "        cipher = cipher + char\n",
    "    return cipher\n",
    "\n",
    "cipher = caesar_cipher(text, shift_value)\n",
    "print(cipher)"
   ]
  },
  {
   "cell_type": "code",
   "execution_count": 3,
   "metadata": {},
   "outputs": [
    {
     "name": "stdout",
     "output_type": "stream",
     "text": [
      "It's a palindrome\n"
     ]
    }
   ],
   "source": [
    "# 2.5.1.7 LAB: Palindromes\n",
    "\n",
    "def palindrome(text):\n",
    "    # create a copy of original string to compare later\n",
    "    original_text = text.replace(\" \", \"\")\n",
    "    # treat uppercase as lower\n",
    "    original_text = original_text.lower()\n",
    "    # reverse reverse_text\n",
    "    reverse_text = original_text[::-1]\n",
    "    # in case of empty\n",
    "    if text == \"\":\n",
    "        print(\"An empty message isn't a palindrome\")\n",
    "    # compare if reverse_text is a palindrome\n",
    "    elif original_text == reverse_text:\n",
    "        print(\"It's a palindrome\")\n",
    "    elif original_text != reverse_text:\n",
    "        print(\"It's not a palindrome\")\n",
    "\n",
    "# ask user to enter a text\n",
    "text = str(input(\"Enter text: \"))\n",
    "# call function to check if text is palindrome\n",
    "palindrome(text)"
   ]
  },
  {
   "cell_type": "code",
   "execution_count": 7,
   "metadata": {},
   "outputs": [
    {
     "name": "stdout",
     "output_type": "stream",
     "text": [
      "8\n"
     ]
    }
   ],
   "source": [
    "# 2.5.1.9 LAB: The Digit of Life\n",
    "\n",
    "def digit_of_life(date):\n",
    "    # Sum all digits in date string\n",
    "    life_digit = sum(int(digit) for digit in date)\n",
    "    # Calculate sum of digits until we get a single digit number\n",
    "    while len(str(life_digit)) > 1:\n",
    "        life_digit = sum(int(digit) for digit in str(life_digit))\n",
    "    return life_digit\n",
    "\n",
    "# Ensure valid 8-digit date format\n",
    "while True:\n",
    "    try:\n",
    "        date = input(\"Enter your birthday: \")\n",
    "        int(date)\n",
    "        if int(date) <= 0:\n",
    "            print(\"Invalid input: Birthday cannot be negative\")\n",
    "            continue\n",
    "        if len(date) != 8:\n",
    "            print(\"Invalid format: Enter 8 digits (YYYYMMDD)\")\n",
    "            continue          \n",
    "        life_digit = digit_of_life(date)\n",
    "        print(life_digit)\n",
    "        break\n",
    "    except ValueError:\n",
    "        print(\"Invalid input: Enter digits only\")"
   ]
  },
  {
   "cell_type": "code",
   "execution_count": 8,
   "metadata": {},
   "outputs": [
    {
     "name": "stdout",
     "output_type": "stream",
     "text": [
      "Yes\n"
     ]
    }
   ],
   "source": [
    "# 2.5.1.10 LAB: Find a word!\n",
    "\n",
    "def find_a_word():\n",
    "    # Ask user to enter 2 words\n",
    "    word1 = input(\"Enter the first word: \")\n",
    "    word2 = input(\"Enter the second word: \")\n",
    "    pos = 0\n",
    "    # Check if character in second word starting from pos\n",
    "    for char in word1:\n",
    "        # Update pos to ensure characters are found in sequence\n",
    "        pos = word2.find(char, pos)\n",
    "        if pos == -1:\n",
    "            print(\"No\")\n",
    "            return\n",
    "    print(\"Yes\")\n",
    "    return\n",
    "\n",
    "find_a_word()"
   ]
  }
 ],
 "metadata": {
  "kernelspec": {
   "display_name": "lab",
   "language": "python",
   "name": "python3"
  },
  "language_info": {
   "codemirror_mode": {
    "name": "ipython",
    "version": 3
   },
   "file_extension": ".py",
   "mimetype": "text/x-python",
   "name": "python",
   "nbconvert_exporter": "python",
   "pygments_lexer": "ipython3",
   "version": "3.11.11"
  }
 },
 "nbformat": 4,
 "nbformat_minor": 2
}
