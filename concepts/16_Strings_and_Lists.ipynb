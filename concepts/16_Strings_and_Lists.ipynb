{
 "cells": [
  {
   "cell_type": "markdown",
   "metadata": {},
   "source": [
    "### OpenEDG Python Institute: Pythons Essentials 2"
   ]
  },
  {
   "cell_type": "code",
   "execution_count": 12,
   "metadata": {},
   "outputs": [
    {
     "name": "stdout",
     "output_type": "stream",
     "text": [
      "Anagrams\n"
     ]
    }
   ],
   "source": [
    "# 2.5.1.8 LAB: Anagrams\n",
    "\n",
    "# checks whether, the entered texts are anagrams and prints the result\n",
    "def anagrams(word1, word2):\n",
    "    # remove spaces from words\n",
    "    word1 = word1.replace(\" \", \"\")\n",
    "    word2 = word2.replace(\" \", \"\")\n",
    "    # convert to lowercase to ignore letter casing\n",
    "    word1 = word1.lower()\n",
    "    word2 = word2.lower()\n",
    "    # create empty lists to store characters\n",
    "    word1list = []\n",
    "    word2list = []\n",
    "    # add words to lists\n",
    "    for char in word1:\n",
    "        word1list.append(char)\n",
    "    for char in word2:\n",
    "        word2list.append(char)\n",
    "    # sort list alphabetically\n",
    "    word1list.sort()\n",
    "    word2list.sort()\n",
    "    # check for anagram\n",
    "    if word1list == word2list:\n",
    "        print(\"Anagrams\")\n",
    "    else:\n",
    "        print(\"Not anagrams\")\n",
    "\n",
    "# ask user to enter 2 words\n",
    "word1 = input(\"Enter the 1st word: \")\n",
    "word2 = input(\"Enter the 2nd word: \")\n",
    "\n",
    "# call function to check if text are anagrams\n",
    "anagrams(word1, word2)"
   ]
  },
  {
   "cell_type": "markdown",
   "metadata": {},
   "source": [
    "### School of Certified Professionals (SCP) - Python Essentials Course"
   ]
  },
  {
   "cell_type": "markdown",
   "metadata": {},
   "source": [
    "### 1.\n",
    "Complete the solution so that the function will break up camel casing, using a space between words."
   ]
  },
  {
   "cell_type": "code",
   "execution_count": 14,
   "metadata": {},
   "outputs": [
    {
     "name": "stdout",
     "output_type": "stream",
     "text": [
      "\"camel Casing\"\n",
      "\"identifier\"\n",
      "\"\"\n"
     ]
    }
   ],
   "source": [
    "def solution(s: str) -> str:\n",
    "    result = \"\"\n",
    "    for char in s:\n",
    "        if char.isupper():\n",
    "            result += \" \" + char\n",
    "        else:\n",
    "            result += char\n",
    "    return f'\"{result}\"'\n",
    "\n",
    "print(solution(\"camelCasing\")) # expected: \"camel Casing\"\n",
    "print(solution(\"identifier\")) # expected: \"identifier\"\n",
    "print(solution(\"\")) # expected: \"\""
   ]
  },
  {
   "cell_type": "markdown",
   "metadata": {},
   "source": [
    "### 2.\n",
    "Your job is to write a function which increments a string, to create a new string.\n",
    "If the string already ends with a number, the number should be incremented by 1.\n",
    "If the string does not end with a number. the number 1 should be appended to the new string.\n",
    "\n",
    "__Attention:__ If the number has leading zeros the amount of digits should be considered."
   ]
  },
  {
   "cell_type": "code",
   "execution_count": null,
   "metadata": {},
   "outputs": [
    {
     "name": "stdout",
     "output_type": "stream",
     "text": [
      "foo1\n",
      "foobar24\n",
      "foo0043\n",
      "foo10\n",
      "foo100\n"
     ]
    }
   ],
   "source": [
    "#use zfill(\"lenth of the number you need\")\n",
    "def function1(param: str) -> str:\n",
    "    # Find where the number part starts (if any)\n",
    "    i = len(param) - 1\n",
    "    while i >= 0 and param[i].isdigit():\n",
    "        i -= 1\n",
    "    \n",
    "    # If no digits at the end, just append 1\n",
    "    if i == len(param) - 1:\n",
    "        return param + \"1\"\n",
    "    \n",
    "    # Split into text part and number part\n",
    "    text_part = param[:i+1]\n",
    "    number_part = param[i+1:]\n",
    "    \n",
    "    # Get the number, increment it, and maintain leading zeros\n",
    "    new_number = str(int(number_part) + 1)\n",
    "    new_number = new_number.zfill(len(number_part))\n",
    "    \n",
    "    return text_part + new_number\n",
    "\n",
    "print(function1(\"foo\")) # expected: foo1\n",
    "print(function1(\"foobar23\")) # expected: foobar24\n",
    "print(function1(\"foo0042\")) # expected: foo0043\n",
    "print(function1(\"foo9\")) # expected: foo10\n",
    "print(function1(\"foo099\")) # expected: foo100"
   ]
  },
  {
   "cell_type": "markdown",
   "metadata": {},
   "source": [
    "### 3.\n",
    "Your task is to sort a given string. Each word in the string will contain a single number. This number is the position the word should have in the result.\n",
    "\n",
    "__Note:__ Numbers can be from 1 to 9. So 1 will be the first word (not 0).\n",
    "\n",
    "If the input string is empty, return an empty string. The words in the input String will only contain valid consecutive numbers.\n",
    "\n",
    "__Examples:__\n",
    "- \"is2 Thi1s T4est 3a\"  -->  \"Thi1s is2 3a T4est\"\n",
    "- \"4of Fo1r pe6ople g3ood th5e the2\"  -->  \"Fo1r the2 g3ood 4of th5e pe6ople\"\n",
    "- \"\"  -->  \"\""
   ]
  },
  {
   "cell_type": "code",
   "execution_count": 3,
   "metadata": {},
   "outputs": [
    {
     "name": "stdout",
     "output_type": "stream",
     "text": [
      "Thi1s is2 3a T4est\n",
      "Fo1r 2 g3ood 4of th5e pe6ople\n",
      "\n"
     ]
    }
   ],
   "source": [
    "def order(sentence: str) -> str:\n",
    "  if not sentence:\n",
    "      return \"\"\n",
    "  # Initialize an empty list to hold the sorted words\n",
    "  result = []\n",
    "  # Split the string into words\n",
    "  words = sentence.split()\n",
    "  # Create a list to store (position, word) pairs\n",
    "  word_positions = []\n",
    "  \n",
    "  # For each word, find its position number\n",
    "  for word in words:\n",
    "      for char in word:\n",
    "          if char.isdigit():\n",
    "              # When we find a digit, add the pair and move to next word\n",
    "              word_positions.append((int(char), word))\n",
    "              break\n",
    "  \n",
    "  # Sort by position\n",
    "  word_positions.sort()\n",
    "    \n",
    "  # Extract just the words in their sorted order\n",
    "  sorted_words = [pair[1] for pair in word_positions]\n",
    "    \n",
    "  # Join the words with spaces and return\n",
    "  return \" \".join(sorted_words)\n",
    "\n",
    "print(order(\"is2 Thi1s T4est 3a\"))\n",
    "print(order(\"4of Fo1r pe6ople g3ood th5e 2\"))\n",
    "print(order(\"\"))"
   ]
  },
  {
   "cell_type": "markdown",
   "metadata": {},
   "source": [
    "### 4.\n",
    "You will be given a number and you will need to return it as a string in Expanded Form. For example:\n",
    "\n",
    "__NOTE:__ All numbers will be whole numbers greater than 0.\n",
    "\n"
   ]
  },
  {
   "cell_type": "code",
   "execution_count": 10,
   "metadata": {},
   "outputs": [
    {
     "name": "stdout",
     "output_type": "stream",
     "text": [
      "\"10 + 2\"\n",
      "\"40 + 2\"\n",
      "\"70000 + 300 + 4\"\n",
      "\"1000 + 200 + 10 + 2\"\n"
     ]
    }
   ],
   "source": [
    "def expanded_form(num: int) -> str:\n",
    "    # Convert the number to a string\n",
    "    num_str = str(num)\n",
    "    # Initialize an empty list to hold the parts\n",
    "    parts = []\n",
    "    # Loop through each digit in the string\n",
    "    for position, digit in enumerate(num_str):\n",
    "        # Calculate the place value based on position\n",
    "        place_value = len(num_str) - position - 1\n",
    "        # If the digit is not zero, calculate its expanded form\n",
    "        if digit != '0':\n",
    "            expanded_part = str(int(digit) * (10 ** place_value))\n",
    "            parts.append(expanded_part)    \n",
    "\n",
    "    # Join the parts with \" + \" to create the final string\n",
    "    expanded_string = f'\"{\" + \".join(parts)}\"'\n",
    "    return expanded_string\n",
    "\n",
    "print(expanded_form(12))    # Should return '10 + 2'\n",
    "print(expanded_form(42))    # Should return '40 + 2'\n",
    "print(expanded_form(70304))     # Should return '70000 + 300 + 4'\n",
    "print(expanded_form(1212))  # Should return '1000 + 200 + 10 + 2'"
   ]
  },
  {
   "cell_type": "markdown",
   "metadata": {},
   "source": [
    "### 5.\n",
    "Create a function that takes a Roman numeral as its argument and returns its value as a numeric decimal integer. You don't need to validate the form of the Roman numeral.\n",
    "\n",
    "Modern Roman numerals are written by expressing each decimal digit of the number to be encoded separately, starting with the leftmost digit and skipping any 0s. So 1990 is rendered \"MCMXC\" (1000 = M, 900 = CM, 90 = XC) and 2008 is rendered \"MMVIII\" (2000 = MM, 8 = VIII). The Roman numeral for 1666, \"MDCLXVI\", uses each letter in descending order.\n",
    "\n",
    "__Help:__\n",
    "Symbol  Value:\n",
    "I   ->  1\n",
    "V   ->  5\n",
    "X   ->  10\n",
    "L   ->  50\n",
    "C   ->  100\n",
    "D   ->  500\n",
    "M   ->  1,000"
   ]
  },
  {
   "cell_type": "code",
   "execution_count": 24,
   "metadata": {},
   "outputs": [
    {
     "name": "stdout",
     "output_type": "stream",
     "text": [
      "4\n",
      "21\n",
      "13\n",
      "1990\n",
      "2023\n"
     ]
    }
   ],
   "source": [
    "def solution(roman: str) -> int:\n",
    "    \"\"\"complete the solution by transforming the roman numeral into an integer\"\"\"\n",
    "    # Define constants for Roman numeral values\n",
    "    roman_numerals = {\n",
    "        'I': 1,\n",
    "        'V': 5,\n",
    "        'X': 10,\n",
    "        'L': 50,\n",
    "        'C': 100,\n",
    "        'D': 500,\n",
    "        'M': 1000\n",
    "    }\n",
    "    # Initialize a variable total to 0 to store the final result.\n",
    "    total = 0\n",
    "    \n",
    "    # Iterate through the Roman numeral string one character at a time\n",
    "    for i in range(len(roman)):\n",
    "        # Get current character's value\n",
    "        current_value = roman_numerals[roman[i]]\n",
    "        # Check if we're in a subtraction case\n",
    "        if i + 1 < len(roman) and roman_numerals[roman[i]] < roman_numerals[roman[i+1]]:\n",
    "            # Subtraction case: subtract current value\n",
    "            total -= current_value\n",
    "        else:\n",
    "            # Regular case: add current value\n",
    "            total += current_value\n",
    "\n",
    "    # Return the final total.\n",
    "    return total\n",
    "\n",
    "# Test cases\n",
    "print(solution('IV')) # should return 4\n",
    "print(solution('XXI')) # should return 21\n",
    "print(solution('XIII')) # should return 13\n",
    "print(solution('MCMXC')) # should return 1990\n",
    "print(solution('MMXXIII')) # should return 2023"
   ]
  }
 ],
 "metadata": {
  "kernelspec": {
   "display_name": "lab",
   "language": "python",
   "name": "python3"
  },
  "language_info": {
   "codemirror_mode": {
    "name": "ipython",
    "version": 3
   },
   "file_extension": ".py",
   "mimetype": "text/x-python",
   "name": "python",
   "nbconvert_exporter": "python",
   "pygments_lexer": "ipython3",
   "version": "3.11.11"
  }
 },
 "nbformat": 4,
 "nbformat_minor": 2
}
