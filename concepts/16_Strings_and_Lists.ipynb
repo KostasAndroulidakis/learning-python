{
 "cells": [
  {
   "cell_type": "markdown",
   "metadata": {},
   "source": [
    "### OpenEDG Python Institute: Pythons Essentials 2"
   ]
  },
  {
   "cell_type": "code",
   "execution_count": 12,
   "metadata": {},
   "outputs": [
    {
     "name": "stdout",
     "output_type": "stream",
     "text": [
      "Anagrams\n"
     ]
    }
   ],
   "source": [
    "# 2.5.1.8 LAB: Anagrams\n",
    "\n",
    "# checks whether, the entered texts are anagrams and prints the result\n",
    "def anagrams(word1, word2):\n",
    "    # remove spaces from words\n",
    "    word1 = word1.replace(\" \", \"\")\n",
    "    word2 = word2.replace(\" \", \"\")\n",
    "    # convert to lowercase to ignore letter casing\n",
    "    word1 = word1.lower()\n",
    "    word2 = word2.lower()\n",
    "    # create empty lists to store characters\n",
    "    word1list = []\n",
    "    word2list = []\n",
    "    # add words to lists\n",
    "    for char in word1:\n",
    "        word1list.append(char)\n",
    "    for char in word2:\n",
    "        word2list.append(char)\n",
    "    # sort list alphabetically\n",
    "    word1list.sort()\n",
    "    word2list.sort()\n",
    "    # check for anagram\n",
    "    if word1list == word2list:\n",
    "        print(\"Anagrams\")\n",
    "    else:\n",
    "        print(\"Not anagrams\")\n",
    "\n",
    "# ask user to enter 2 words\n",
    "word1 = input(\"Enter the 1st word: \")\n",
    "word2 = input(\"Enter the 2nd word: \")\n",
    "\n",
    "# call function to check if text are anagrams\n",
    "anagrams(word1, word2)"
   ]
  },
  {
   "cell_type": "markdown",
   "metadata": {},
   "source": [
    "### School of Certified Professionals (SCP) - Python Essentials Course"
   ]
  },
  {
   "cell_type": "markdown",
   "metadata": {},
   "source": [
    "Complete the solution so that the function will break up camel casing, using a space between words.\n",
    "\n",
    "\"camelCasing\"  =>  \"camel Casing\"\n",
    "\n",
    "\"identifier\"   =>  \"identifier\"\n",
    "\n",
    "\"\"             =>  \"\""
   ]
  },
  {
   "cell_type": "code",
   "execution_count": 2,
   "metadata": {},
   "outputs": [],
   "source": [
    "def solution(s):\n",
    "    #write your code\n",
    "    pass"
   ]
  },
  {
   "cell_type": "markdown",
   "metadata": {},
   "source": [
    "Your job is to write a function which increments a string, to create a new string.\n",
    "\n",
    "If the string already ends with a number, the number should be incremented by 1.\n",
    "\n",
    "If the string does not end with a number. the number 1 should be appended to the new string.\n",
    "\n",
    "Examples:\n",
    "\n",
    "foo -> foo1\n",
    "\n",
    "foobar23 -> foobar24\n",
    "\n",
    "foo0042 -> foo0043\n",
    "\n",
    "foo9 -> foo10\n",
    "\n",
    "foo099 -> foo100\n",
    "\n",
    "Attention: If the number has leading zeros the amount of digits should be considered."
   ]
  },
  {
   "cell_type": "code",
   "execution_count": 4,
   "metadata": {},
   "outputs": [],
   "source": [
    "#use zfill(\"lenth of the number you need\")\n",
    "def Function1(Param):\n",
    "    return"
   ]
  },
  {
   "cell_type": "markdown",
   "metadata": {},
   "source": [
    "Your task is to sort a given string. Each word in the string will contain a single number. This number is the position the word should have in the result.\n",
    "\n",
    "Note: Numbers can be from 1 to 9. So 1 will be the first word (not 0).\n",
    "\n",
    "If the input string is empty, return an empty string. The words in the input String will only contain valid consecutive numbers.\n",
    "\n",
    "Examples\n",
    "\n",
    "\"is2 Thi1s T4est 3a\"  -->  \"Thi1s is2 3a T4est\"\n",
    "\n",
    "\"4of Fo1r pe6ople g3ood th5e the2\"  -->  \"Fo1r the2 g3ood 4of th5e pe6ople\"\n",
    "\n",
    "\"\"  -->  \"\""
   ]
  },
  {
   "cell_type": "code",
   "execution_count": 3,
   "metadata": {},
   "outputs": [],
   "source": [
    "def order(sentence):\n",
    "  # code here\n",
    "  return"
   ]
  },
  {
   "cell_type": "markdown",
   "metadata": {},
   "source": [
    "You will be given a number and you will need to return it as a string in Expanded Form. For example:\n",
    "\n",
    "expanded_form(12) # Should return '10 + 2'\n",
    "\n",
    "expanded_form(42) # Should return '40 + 2'\n",
    "\n",
    "expanded_form(70304) # Should return '70000 + 300 + 4'\n",
    "\n",
    "NOTE: All numbers will be whole numbers greater than 0.\n",
    "\n"
   ]
  },
  {
   "cell_type": "code",
   "execution_count": null,
   "metadata": {},
   "outputs": [],
   "source": [
    "def expanded_form(num):\n",
    "    pass"
   ]
  },
  {
   "cell_type": "markdown",
   "metadata": {},
   "source": [
    "Create a function that takes a Roman numeral as its argument and returns its value as a numeric decimal integer. You don't need to validate the form of the Roman numeral.\n",
    "\n",
    "Modern Roman numerals are written by expressing each decimal digit of the number to be encoded separately, starting with the leftmost digit and skipping any 0s. So 1990 is rendered \"MCMXC\" (1000 = M, 900 = CM, 90 = XC) and 2008 is rendered \"MMVIII\" (2000 = MM, 8 = VIII). The Roman numeral for 1666, \"MDCLXVI\", uses each letter in descending order.\n",
    "\n",
    "Example:\n",
    "\n",
    "solution('XXI') # should return 21\n",
    "Help:\n",
    "\n",
    "Symbol    Value\n",
    "\n",
    "I   -->       1\n",
    "\n",
    "V   -->        5\n",
    "\n",
    "X  -->        10\n",
    "\n",
    "L   -->        50\n",
    "\n",
    "C   -->        100\n",
    "\n",
    "D   -->        500\n",
    "\n",
    "M   -->        1,000"
   ]
  },
  {
   "cell_type": "code",
   "execution_count": null,
   "metadata": {},
   "outputs": [],
   "source": [
    "def solution(roman):\n",
    "  \"\"\"complete the solution by transforming the roman numeral into an integer\"\"\""
   ]
  },
  {
   "cell_type": "code",
   "execution_count": null,
   "metadata": {},
   "outputs": [],
   "source": [
    "I=1\n",
    "II=2\n",
    "III=3\n",
    "----> IV=4\n",
    "V=5\n",
    "VI=6\n",
    "VII=7\n",
    "VIII=8\n",
    "---> IX=9"
   ]
  },
  {
   "cell_type": "markdown",
   "metadata": {},
   "source": [
    "X=10\n",
    "XI=11\n",
    "XII=12\n",
    "XIII=13\n",
    "IXV=14\n",
    "IX=9\n",
    "IV=4\n",
    "IL=49"
   ]
  }
 ],
 "metadata": {
  "kernelspec": {
   "display_name": "lab",
   "language": "python",
   "name": "python3"
  },
  "language_info": {
   "codemirror_mode": {
    "name": "ipython",
    "version": 3
   },
   "file_extension": ".py",
   "mimetype": "text/x-python",
   "name": "python",
   "nbconvert_exporter": "python",
   "pygments_lexer": "ipython3",
   "version": "3.11.11"
  }
 },
 "nbformat": 4,
 "nbformat_minor": 2
}
