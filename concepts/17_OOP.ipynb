{
 "cells": [
  {
   "cell_type": "markdown",
   "metadata": {},
   "source": [
    "Source: OpenEDG Python Institute: Python Essentials 2"
   ]
  },
  {
   "cell_type": "code",
   "execution_count": null,
   "metadata": {},
   "outputs": [
    {
     "name": "stdout",
     "output_type": "stream",
     "text": [
      "100\n"
     ]
    }
   ],
   "source": [
    "# 3.2.1.14 Counting stack\n",
    "\n",
    "class Stack:\n",
    "    def __init__(self):\n",
    "        self.__stk = []\n",
    "\n",
    "    def push(self, val):\n",
    "        self.__stk.append(val)\n",
    "\n",
    "    def pop(self):\n",
    "        val = self.__stk[-1]\n",
    "        del self.__stk[-1]\n",
    "        return val\n",
    "\n",
    "class CountingStack(Stack):\n",
    "    def __init__(self):\n",
    "        Stack.__init__(self)\n",
    "        self.__counter = 0\n",
    "\n",
    "    def get_counter(self):\n",
    "        return self.__counter\n",
    "\n",
    "    def pop(self):\n",
    "        val = Stack.pop(self)\n",
    "        self.__counter += 1\n",
    "        return val\t\n",
    "\n",
    "stk = CountingStack()\n",
    "for i in range(100):\n",
    "    stk.push(i)\n",
    "    stk.pop()\n",
    "print(stk.get_counter())\n"
   ]
  },
  {
   "cell_type": "code",
   "execution_count": 2,
   "metadata": {},
   "outputs": [
    {
     "name": "stdout",
     "output_type": "stream",
     "text": [
      "1\n",
      "dog\n",
      "False\n",
      "Queue error\n"
     ]
    }
   ],
   "source": [
    "# 3.2.1.15 LAB: Queue aka FIFO\n",
    "\n",
    "class QueueError(Exception):  # Choose base class for the new exception.\n",
    "    pass\n",
    "\n",
    "class Queue:\n",
    "    def __init__(self):\n",
    "        self.queue_list = []\n",
    "\n",
    "    def put(self, elem):\n",
    "        self.queue_list.append(elem)\n",
    "\n",
    "    def get(self):\n",
    "        if self.queue_list == []:\n",
    "            raise QueueError()\n",
    "        else:\n",
    "            return self.queue_list.pop(0)\n",
    "            \n",
    "que = Queue()\n",
    "que.put(1)\n",
    "que.put(\"dog\")\n",
    "que.put(False)\n",
    "try:\n",
    "    for i in range(4):\n",
    "        print(que.get())\n",
    "except:\n",
    "    print(\"Queue error\")\n"
   ]
  },
  {
   "cell_type": "code",
   "execution_count": 4,
   "metadata": {},
   "outputs": [
    {
     "name": "stdout",
     "output_type": "stream",
     "text": [
      "1\n",
      "dog\n",
      "False\n",
      "Queue empty\n"
     ]
    }
   ],
   "source": [
    "# 3.2.1.16 Queue aka FIFO: part 2\n",
    "\n",
    "class QueueError(Exception):\n",
    "    pass\n",
    "\n",
    "class Queue:\n",
    "    def __init__(self):\n",
    "        self.queue_list = []\n",
    "\n",
    "    def check_queue(self):\n",
    "        if self.queue_list == []:\n",
    "            return True\n",
    "        else:\n",
    "            return False\n",
    "\n",
    "class SuperQueue(Queue):\n",
    "    def put(self, elem):\n",
    "        self.queue_list.append(elem)\n",
    "\n",
    "    def get(self):\n",
    "        if self.check_queue():\n",
    "            raise QueueError()\n",
    "        else:\n",
    "            return self.queue_list.pop(0)\n",
    "    \n",
    "    def isempty(self):\n",
    "        return self.check_queue()\n",
    "\n",
    "que = SuperQueue()\n",
    "que.put(1)\n",
    "que.put(\"dog\")\n",
    "que.put(False)\n",
    "for i in range(4):\n",
    "    if not que.isempty():\n",
    "        print(que.get())\n",
    "    else:\n",
    "        print(\"Queue empty\")\n"
   ]
  },
  {
   "cell_type": "code",
   "execution_count": 24,
   "metadata": {},
   "outputs": [
    {
     "name": "stdout",
     "output_type": "stream",
     "text": [
      "23:59:59\n",
      "00:00:00\n",
      "23:59:59\n"
     ]
    }
   ],
   "source": [
    "# 3.4.1.12 The Timer class\n",
    "\n",
    "class Timer:\n",
    "    def __init__(self, hours: int, minutes: int, seconds: int):\n",
    "        self.hours = hours\n",
    "        self.minutes = minutes\n",
    "        self.seconds = seconds\n",
    "\n",
    "    def __str__(self) -> str:\n",
    "        return f\"{self.hours:02}:{self.minutes:02}:{self.seconds:02}\"\n",
    "\n",
    "    def next_second(self):\n",
    "        self.seconds += 1\n",
    "        if self.seconds >= 60:\n",
    "            self.minutes += 1\n",
    "            self.seconds = 00\n",
    "\n",
    "        if self.minutes == 60:\n",
    "            self.minutes = 0\n",
    "            self.hours += 1\n",
    "\n",
    "        if self.hours == 24:\n",
    "            self.hours = 0\n",
    "\n",
    "    def prev_second(self):\n",
    "        self.seconds -= 1\n",
    "        if self.seconds < 0:\n",
    "            self.minutes -= 1\n",
    "            self.seconds = 59\n",
    "        \n",
    "        if self.minutes < 0:\n",
    "            self.hours -= 1\n",
    "            self.minutes = 59\n",
    "        \n",
    "        if self.hours < 0:\n",
    "            self.hours = 23\n",
    "        \n",
    "\n",
    "timer = Timer(23, 59, 59)\n",
    "print(timer)\n",
    "timer.next_second()\n",
    "print(timer)\n",
    "timer.prev_second()\n",
    "print(timer)\n"
   ]
  },
  {
   "cell_type": "code",
   "execution_count": 25,
   "metadata": {},
   "outputs": [
    {
     "name": "stdout",
     "output_type": "stream",
     "text": [
      "Mon\n",
      "Tue\n",
      "Sun\n",
      "Sorry, I can't serve your request.\n"
     ]
    }
   ],
   "source": [
    "# 3.4.1.13 LAB: Days of the week\n",
    "\n",
    "class WeekDayError(Exception):\n",
    "    pass\n",
    "\n",
    "class Weeker:\n",
    "    days: list = ['Mon', 'Tue', 'Wed', 'Thu', 'Fri', 'Sat', 'Sun']\n",
    "\n",
    "    def __init__(self, day: str):\n",
    "        self._day = day\n",
    "        if self._day not in Weeker.days:\n",
    "            raise WeekDayError()\n",
    "\n",
    "    def __str__(self) -> str:\n",
    "        return self._day\n",
    "\n",
    "    def add_days(self, n: int):\n",
    "        current_index = self.days.index(self._day)\n",
    "        new_index = (current_index + n) % 7\n",
    "        self._day = self.days[new_index]\n",
    "\n",
    "    def subtract_days(self, n: int):\n",
    "        current_index = self.days.index(self._day)\n",
    "        new_index = (current_index - n) % 7\n",
    "        self._day = self.days[new_index]\n",
    "\n",
    "try:\n",
    "    weekday = Weeker('Mon')\n",
    "    print(weekday)\n",
    "    weekday.add_days(15)\n",
    "    print(weekday)\n",
    "    weekday.subtract_days(23)\n",
    "    print(weekday)\n",
    "    weekday = Weeker('Monday')\n",
    "except WeekDayError:\n",
    "    print(\"Sorry, I can't serve your request.\")\n"
   ]
  },
  {
   "cell_type": "code",
   "execution_count": 26,
   "metadata": {},
   "outputs": [
    {
     "name": "stdout",
     "output_type": "stream",
     "text": [
      "1.4142135623730951\n",
      "1.4142135623730951\n"
     ]
    }
   ],
   "source": [
    "# 3.4.1.14 Points on a plane\n",
    "\n",
    "import math\n",
    "\n",
    "class Point:\n",
    "    def __init__(self, x: float = 0.0, y: float = 0.0):\n",
    "        self.x = x\n",
    "        self.y = y\n",
    "\n",
    "    def getx(self) -> float:\n",
    "        return self.x\n",
    "\n",
    "    def gety(self) -> float:\n",
    "        return self.y\n",
    "\n",
    "    def distance_from_xy(self, x: float, y: float) -> float:\n",
    "        distance_from_xy = math.hypot(self.x - x, self.y - y)\n",
    "        return distance_from_xy\n",
    "\n",
    "    def distance_from_point(self, point: 'Point') -> float:\n",
    "        distance_from_point = math.hypot(self.x - point.getx(), self.y - point.gety())\n",
    "        return distance_from_point\n",
    "\n",
    "\n",
    "point1 = Point(0, 0)\n",
    "point2 = Point(1, 1)\n",
    "print(point1.distance_from_point(point2))\n",
    "print(point2.distance_from_xy(2, 0))\n"
   ]
  },
  {
   "cell_type": "code",
   "execution_count": 30,
   "metadata": {},
   "outputs": [
    {
     "name": "stdout",
     "output_type": "stream",
     "text": [
      "3.414213562373095\n"
     ]
    }
   ],
   "source": [
    "# 3.4.1.15 Triangle\n",
    "\n",
    "import math\n",
    "\n",
    "class Point:\n",
    "    def __init__(self, x: float = 0.0, y: float = 0.0):\n",
    "        self.x = x\n",
    "        self.y = y\n",
    "\n",
    "class Triangle:\n",
    "    def __init__(self, vertice1: Point, vertice2: Point, vertice3: Point):\n",
    "        self._vertice1 = vertice1\n",
    "        self._vertice2 = vertice2\n",
    "        self._vertice3 = vertice3\n",
    "\n",
    "    def perimeter(self):\n",
    "        _side1 = math.hypot(self._vertice1.x - self._vertice2.x, self._vertice1.y - self._vertice2.y)\n",
    "        _side2 = math.hypot(self._vertice2.x - self._vertice3.x, self._vertice2.y - self._vertice3.y)\n",
    "        _side3 = math.hypot(self._vertice3.x - self._vertice1.x, self._vertice3.y - self._vertice1.y)\n",
    "        perimeter = _side1 + _side2 + _side3\n",
    "        return perimeter\n",
    "        \n",
    "\n",
    "triangle = Triangle(Point(0, 0), Point(1, 0), Point(0, 1))\n",
    "print(triangle.perimeter())\n"
   ]
  }
 ],
 "metadata": {
  "kernelspec": {
   "display_name": "lab",
   "language": "python",
   "name": "python3"
  },
  "language_info": {
   "codemirror_mode": {
    "name": "ipython",
    "version": 3
   },
   "file_extension": ".py",
   "mimetype": "text/x-python",
   "name": "python",
   "nbconvert_exporter": "python",
   "pygments_lexer": "ipython3",
   "version": "3.11.11"
  }
 },
 "nbformat": 4,
 "nbformat_minor": 2
}
