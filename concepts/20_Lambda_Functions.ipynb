{
 "cells": [
  {
   "cell_type": "markdown",
   "id": "b933027f",
   "metadata": {},
   "source": [
    "Exercise 1: Add 10 to each element of a list using map() and lambda."
   ]
  },
  {
   "cell_type": "code",
   "execution_count": 15,
   "id": "9fdd6a48",
   "metadata": {},
   "outputs": [
    {
     "name": "stdout",
     "output_type": "stream",
     "text": [
      "[11, 12, 13, 14, 15, 16, 17, 18, 19, 20]\n"
     ]
    }
   ],
   "source": [
    "nums = [1, 2, 3, 4, 5, 6, 7, 8, 9, 10]\n",
    "result_list = list(map(lambda x: x + 10, nums))\n",
    "print(result_list)"
   ]
  },
  {
   "cell_type": "markdown",
   "id": "b7902b0b",
   "metadata": {},
   "source": [
    "Exercise 2: Square the elements of a list using map() and lambda.\n",
    "\n"
   ]
  },
  {
   "cell_type": "code",
   "execution_count": 16,
   "id": "c5834632",
   "metadata": {},
   "outputs": [
    {
     "name": "stdout",
     "output_type": "stream",
     "text": [
      "[1, 4, 9, 16, 25, 36, 49, 64, 81, 100]\n"
     ]
    }
   ],
   "source": [
    "nums = [1, 2, 3, 4, 5, 6, 7, 8, 9, 10]\n",
    "result_list = list(map(lambda x: x ** 2, nums))\n",
    "print(result_list)"
   ]
  },
  {
   "cell_type": "markdown",
   "id": "a473fe77",
   "metadata": {},
   "source": [
    "Exercise 3: Filter even numbers from a list using filter() and lambda.\n",
    "\n"
   ]
  },
  {
   "cell_type": "code",
   "execution_count": 17,
   "id": "72753af2",
   "metadata": {},
   "outputs": [
    {
     "name": "stdout",
     "output_type": "stream",
     "text": [
      "[2, 4, 6, 8, 10]\n"
     ]
    }
   ],
   "source": [
    "nums = [1, 2, 3, 4, 5, 6, 7, 8, 9, 10]\n",
    "result_list = list(filter(lambda x: x % 2 == 0, nums))\n",
    "print(result_list)"
   ]
  },
  {
   "cell_type": "markdown",
   "id": "f60a9b42",
   "metadata": {},
   "source": [
    "Exercise 4: Convert Celsius temperatures to Fahrenheit using map() and lambda.\n",
    "\n"
   ]
  },
  {
   "cell_type": "code",
   "execution_count": 19,
   "id": "a15e7146",
   "metadata": {},
   "outputs": [
    {
     "name": "stdout",
     "output_type": "stream",
     "text": [
      "[32.0, 50.0, 68.0, 86.0, 104.0]\n"
     ]
    }
   ],
   "source": [
    "celsius = [0, 10, 20, 30, 40]\n",
    "fahrenheit = list(map(lambda x: (x * (9/5)) + 32, celsius))\n",
    "print(fahrenheit)"
   ]
  },
  {
   "cell_type": "markdown",
   "id": "87b38ab5",
   "metadata": {},
   "source": [
    "Exercise 5: Filter names starting with 'A' from a list using filter() and lambda.\n",
    "\n"
   ]
  },
  {
   "cell_type": "code",
   "execution_count": 22,
   "id": "c0f8c1da",
   "metadata": {},
   "outputs": [
    {
     "name": "stdout",
     "output_type": "stream",
     "text": [
      "['Anna', 'Amie']\n"
     ]
    }
   ],
   "source": [
    "names = ['John', 'Anna', 'Peter', 'Amie', 'David']\n",
    "result_list = list(filter(lambda x: x[0] == 'A', names))\n",
    "print(result_list)"
   ]
  },
  {
   "cell_type": "markdown",
   "id": "483999a2",
   "metadata": {},
   "source": [
    "Exercise 6: Perform element-wise addition of two lists using map() and lambda.\n",
    "\n"
   ]
  },
  {
   "cell_type": "code",
   "execution_count": 24,
   "id": "75aa18f7",
   "metadata": {},
   "outputs": [
    {
     "name": "stdout",
     "output_type": "stream",
     "text": [
      "[12, 14, 16, 18, 20, 22, 24, 26, 28, 30]\n"
     ]
    }
   ],
   "source": [
    "list1 = [1, 2, 3, 4, 5, 6, 7, 8, 9, 10]\n",
    "list2 = [11, 12, 13, 14, 15, 16, 17, 18, 19, 20]\n",
    "result_list = list(map(lambda x, y: x + y, list1, list2))\n",
    "print(result_list)"
   ]
  },
  {
   "cell_type": "markdown",
   "id": "5c40cf2f",
   "metadata": {},
   "source": [
    "Exercise 7: Filter elements greater than a threshold from a list using filter() and lambda.\n",
    "\n"
   ]
  },
  {
   "cell_type": "code",
   "execution_count": 25,
   "id": "976369bc",
   "metadata": {},
   "outputs": [
    {
     "name": "stdout",
     "output_type": "stream",
     "text": [
      "[6, 7, 8, 9, 10]\n"
     ]
    }
   ],
   "source": [
    "nums = [1, 2, 3, 4, 5, 6, 7, 8, 9, 10]\n",
    "threshold = 5\n",
    "result_list = list(filter(lambda x: x > threshold, nums))\n",
    "print(result_list)"
   ]
  },
  {
   "cell_type": "markdown",
   "id": "151c6269",
   "metadata": {},
   "source": [
    "Exercise 8: Capitalize the first letter of each word in a list using map() and lambda.\n",
    "\n"
   ]
  },
  {
   "cell_type": "code",
   "execution_count": 33,
   "id": "02f1186e",
   "metadata": {},
   "outputs": [
    {
     "name": "stdout",
     "output_type": "stream",
     "text": [
      "['Bike', 'Dog', 'Cat', 'Car', 'Bus']\n"
     ]
    }
   ],
   "source": [
    "words = ['bike', 'dog', 'cat', 'car', 'bus']\n",
    "result_list = list(map(lambda x: x.capitalize(), words))\n",
    "print(result_list)"
   ]
  },
  {
   "cell_type": "markdown",
   "id": "224ac05e",
   "metadata": {},
   "source": [
    "Exercise 9: Filter strings longer than 5 characters from a list using filter() and lambda.\n",
    "\n"
   ]
  },
  {
   "cell_type": "code",
   "execution_count": 34,
   "id": "19a2a112",
   "metadata": {},
   "outputs": [
    {
     "name": "stdout",
     "output_type": "stream",
     "text": [
      "['motorcycle', 'internet', 'monitors', 'television']\n"
     ]
    }
   ],
   "source": [
    "strings = ['motorcycle', 'car', 'train', 'internet', 'monitors', 'bus', 'television']\n",
    "threshold = 5\n",
    "result_list = list(filter(lambda x: len(x) > threshold, strings))\n",
    "print(result_list)"
   ]
  },
  {
   "cell_type": "markdown",
   "id": "9b505976",
   "metadata": {},
   "source": [
    "Exercise 10: Double the odd numbers in a list using map() and lambda.\n",
    "\n"
   ]
  },
  {
   "cell_type": "code",
   "execution_count": 39,
   "id": "7d9b5317",
   "metadata": {},
   "outputs": [
    {
     "name": "stdout",
     "output_type": "stream",
     "text": [
      "[2, 2, 6, 4, 10, 6, 14, 8, 18, 10]\n"
     ]
    }
   ],
   "source": [
    "nums = [1, 2, 3, 4, 5, 6, 7, 8, 9, 10]\n",
    "result_list = list(map(lambda x: x * 2 if x % 2 != 0 else x, nums))\n",
    "print(result_list)"
   ]
  }
 ],
 "metadata": {
  "kernelspec": {
   "display_name": "lab",
   "language": "python",
   "name": "python3"
  },
  "language_info": {
   "codemirror_mode": {
    "name": "ipython",
    "version": 3
   },
   "file_extension": ".py",
   "mimetype": "text/x-python",
   "name": "python",
   "nbconvert_exporter": "python",
   "pygments_lexer": "ipython3",
   "version": "3.11.11"
  }
 },
 "nbformat": 4,
 "nbformat_minor": 5
}
