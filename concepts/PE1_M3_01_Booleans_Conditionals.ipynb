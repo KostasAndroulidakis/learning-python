{
 "cells": [
  {
   "cell_type": "markdown",
   "metadata": {},
   "source": [
    "## Exercise 0: Check the Weather for a Picnic\n",
    "\n",
    "**Instructions:**  \n",
    "You are planning a picnic. Ask the user to input the day's weather conditions (e.g., \"sunny\", \"cloudy\", \"rainy\").  \n",
    "- If it's \"sunny\", print \"Perfect day for a picnic!\"  \n",
    "- If it's \"cloudy\", print \"It might still be okay for a picnic, just keep an eye on the weather.\"  \n",
    "- If it's \"rainy\", print \"Better stay indoors or pick another day.\"\n",
    "\n",
    "*Hint:* Use `if`, `elif`, and `else` statements to handle the different weather conditions.\n"
   ]
  },
  {
   "cell_type": "code",
   "execution_count": null,
   "metadata": {},
   "outputs": [],
   "source": []
  },
  {
   "cell_type": "markdown",
   "metadata": {},
   "source": [
    "## Exercise 1: Approving an Online Purchase\n",
    "\n",
    "**Instructions:**  \n",
    "Imagine you work at an online store. You need to verify if a customer's order can be processed.  \n",
    "- Ask the user for their available account balance (as a number).\n",
    "- Ask the user for the price of an item they want to buy.\n",
    "- If the balance is greater than or equal to the price, print \"Purchase approved.\"\n",
    "- Otherwise, print \"Not enough funds. Please add more money or choose a cheaper item.\"\n",
    "\n",
    "*Hint:* Convert the user's input to an integer or float if needed, then compare the two values using an `if` statement.\n"
   ]
  },
  {
   "cell_type": "code",
   "execution_count": null,
   "metadata": {},
   "outputs": [],
   "source": []
  },
  {
   "cell_type": "markdown",
   "metadata": {},
   "source": [
    "## Exercise 2: Movie Ticket Discounts\n",
    "\n",
    "**Instructions:**  \n",
    "A movie theater offers discounts based on age:  \n",
    "- If you are 12 or younger, you get a \"child\" discount.\n",
    "- If you are 65 or older, you get a \"senior\" discount.\n",
    "- Everyone else pays the regular price.\n",
    "\n",
    "Write a program that:\n",
    "- Asks the user for their age.\n",
    "- Prints \"Child discount\" if age ≤ 12.\n",
    "- Prints \"Senior discount\" if age ≥ 65.\n",
    "- Prints \"Regular price\" otherwise.\n",
    "\n",
    "*Hint:* Use two `if` conditions or `if-elif-else` logic to decide which category the user falls into.\n"
   ]
  },
  {
   "cell_type": "code",
   "execution_count": null,
   "metadata": {},
   "outputs": [],
   "source": []
  }
 ],
 "metadata": {
  "kernelspec": {
   "display_name": "Jupyter",
   "language": "python",
   "name": "python3"
  },
  "language_info": {
   "name": "python",
   "version": "3.9.20"
  }
 },
 "nbformat": 4,
 "nbformat_minor": 2
}
