{
 "cells": [
  {
   "cell_type": "markdown",
   "id": "b933027f",
   "metadata": {},
   "source": [
    "Exercise 1: Add 10 to each element of a list using map() and lambda."
   ]
  },
  {
   "cell_type": "code",
   "execution_count": null,
   "id": "9fdd6a48",
   "metadata": {},
   "outputs": [],
   "source": []
  },
  {
   "cell_type": "markdown",
   "id": "b7902b0b",
   "metadata": {},
   "source": [
    "Exercise 2: Square the elements of a list using map() and lambda.\n",
    "\n"
   ]
  },
  {
   "cell_type": "code",
   "execution_count": null,
   "id": "c5834632",
   "metadata": {},
   "outputs": [],
   "source": []
  },
  {
   "cell_type": "markdown",
   "id": "a473fe77",
   "metadata": {},
   "source": [
    "Exercise 3: Filter even numbers from a list using filter() and lambda.\n",
    "\n"
   ]
  },
  {
   "cell_type": "code",
   "execution_count": null,
   "id": "72753af2",
   "metadata": {},
   "outputs": [],
   "source": []
  },
  {
   "cell_type": "markdown",
   "id": "f60a9b42",
   "metadata": {},
   "source": [
    "Exercise 4: Convert Celsius temperatures to Fahrenheit using map() and lambda.\n",
    "\n"
   ]
  },
  {
   "cell_type": "code",
   "execution_count": null,
   "id": "a15e7146",
   "metadata": {},
   "outputs": [],
   "source": []
  },
  {
   "cell_type": "markdown",
   "id": "87b38ab5",
   "metadata": {},
   "source": [
    "Exercise 5: Filter names starting with 'A' from a list using filter() and lambda.\n",
    "\n"
   ]
  },
  {
   "cell_type": "code",
   "execution_count": null,
   "id": "c0f8c1da",
   "metadata": {},
   "outputs": [],
   "source": []
  },
  {
   "cell_type": "markdown",
   "id": "483999a2",
   "metadata": {},
   "source": [
    "Exercise 6: Perform element-wise addition of two lists using map() and lambda.\n",
    "\n"
   ]
  },
  {
   "cell_type": "code",
   "execution_count": null,
   "id": "75aa18f7",
   "metadata": {},
   "outputs": [],
   "source": []
  },
  {
   "cell_type": "markdown",
   "id": "5c40cf2f",
   "metadata": {},
   "source": [
    "Exercise 7: Filter elements greater than a threshold from a list using filter() and lambda.\n",
    "\n"
   ]
  },
  {
   "cell_type": "code",
   "execution_count": null,
   "id": "976369bc",
   "metadata": {},
   "outputs": [],
   "source": []
  },
  {
   "cell_type": "markdown",
   "id": "151c6269",
   "metadata": {},
   "source": [
    "Exercise 8: Capitalize the first letter of each word in a list using map() and lambda.\n",
    "\n"
   ]
  },
  {
   "cell_type": "code",
   "execution_count": null,
   "id": "02f1186e",
   "metadata": {},
   "outputs": [],
   "source": []
  },
  {
   "cell_type": "markdown",
   "id": "224ac05e",
   "metadata": {},
   "source": [
    "Exercise 9: Filter strings longer than 5 characters from a list using filter() and lambda.\n",
    "\n"
   ]
  },
  {
   "cell_type": "code",
   "execution_count": null,
   "id": "19a2a112",
   "metadata": {},
   "outputs": [],
   "source": []
  },
  {
   "cell_type": "markdown",
   "id": "9b505976",
   "metadata": {},
   "source": [
    "Exercise 10: Double the odd numbers in a list using map() and lambda.\n",
    "\n"
   ]
  },
  {
   "cell_type": "code",
   "execution_count": null,
   "id": "7d9b5317",
   "metadata": {},
   "outputs": [],
   "source": []
  }
 ],
 "metadata": {
  "kernelspec": {
   "display_name": "Python 3 (ipykernel)",
   "language": "python",
   "name": "python3"
  },
  "language_info": {
   "codemirror_mode": {
    "name": "ipython",
    "version": 3
   },
   "file_extension": ".py",
   "mimetype": "text/x-python",
   "name": "python",
   "nbconvert_exporter": "python",
   "pygments_lexer": "ipython3",
   "version": "3.11.7"
  }
 },
 "nbformat": 4,
 "nbformat_minor": 5
}
