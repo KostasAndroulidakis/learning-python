{
 "cells": [
  {
   "cell_type": "code",
   "execution_count": 13,
   "id": "c9a7c6b5-0e4e-4ff7-9ca8-bf74e2ce85ae",
   "metadata": {},
   "outputs": [
    {
     "name": "stdout",
     "output_type": "stream",
     "text": [
      "8985689 seconds\n",
      "149761.48 minutes\n",
      "2496.02 hours\n",
      "104.00 days\n",
      "14.86 weeks\n",
      "3.47 months\n"
     ]
    }
   ],
   "source": [
    "seconds = 8985689\n",
    "\n",
    "seconds_in_minute = 60\n",
    "seconds_in_hour = 60 * seconds_in_minute\n",
    "seconds_in_day = 24 * seconds_in_hour\n",
    "seconds_in_week = 7 * seconds_in_day\n",
    "seconds_in_month = 30 * seconds_in_day\n",
    "\n",
    "minutes = seconds / seconds_in_minute\n",
    "hours = seconds / seconds_in_hour\n",
    "days = seconds / seconds_in_day\n",
    "weeks = seconds / seconds_in_week\n",
    "months = seconds / seconds_in_month\n",
    "\n",
    "print(f\"{seconds} seconds\")\n",
    "print(f\"{minutes:.2f} minutes\")\n",
    "print(f\"{hours:.2f} hours\")\n",
    "print(f\"{days:.2f} days\")\n",
    "print(f\"{weeks:.2f} weeks\")\n",
    "print(f\"{months:.2f} months\")"
   ]
  },
  {
   "cell_type": "code",
   "execution_count": 14,
   "id": "c89a93b5",
   "metadata": {},
   "outputs": [
    {
     "name": "stdout",
     "output_type": "stream",
     "text": [
      "104 0 1 29\n"
     ]
    }
   ],
   "source": [
    "seconds = 8985689\n",
    "\n",
    "print(seconds//60//60//24, (seconds//60//60)%24, (seconds//60)%60, seconds%60)\n"
   ]
  },
  {
   "cell_type": "code",
   "execution_count": 16,
   "id": "c7631396",
   "metadata": {},
   "outputs": [
    {
     "name": "stdout",
     "output_type": "stream",
     "text": [
      "104 0 1 29\n"
     ]
    }
   ],
   "source": [
    "seconds = 8985689\n",
    "\n",
    "days = seconds // (24 * 3600) \n",
    "remaining_seconds = seconds % (24 * 3600) \n",
    "hours = remaining_seconds // 3600\n",
    "minutes = remaining_seconds // 60\n",
    "seconds = remaining_seconds % 60\n",
    "\n",
    "print(days, hours, minutes, seconds)"
   ]
  },
  {
   "cell_type": "code",
   "execution_count": 3,
   "id": "bbe92b83",
   "metadata": {},
   "outputs": [
    {
     "name": "stdout",
     "output_type": "stream",
     "text": [
      "13:30\n"
     ]
    }
   ],
   "source": [
    "hour = int(input(\"Starting time (hours): \"))\n",
    "mins = int(input(\"Starting time (minutes): \"))\n",
    "dura = int(input(\"Event duration (minutes): \"))\n",
    "\n",
    "hours_to_mins = hour * 60 #3*60 --> 180\n",
    "total_duration = hours_to_mins+mins+dura # 180+10+20=210\n",
    "new_mins = total_duration % 60# 210%60=30\n",
    "new_hour = ((total_duration - new_mins)//60)%24 #180//60=3%24=3\n",
    "\n",
    "print(int(new_hour),\":\",int(new_mins),sep=\"\")"
   ]
  }
 ],
 "metadata": {
  "kernelspec": {
   "display_name": "Jupyter",
   "language": "python",
   "name": "python3"
  },
  "language_info": {
   "codemirror_mode": {
    "name": "ipython",
    "version": 3
   },
   "file_extension": ".py",
   "mimetype": "text/x-python",
   "name": "python",
   "nbconvert_exporter": "python",
   "pygments_lexer": "ipython3",
   "version": "3.9.20"
  }
 },
 "nbformat": 4,
 "nbformat_minor": 5
}
