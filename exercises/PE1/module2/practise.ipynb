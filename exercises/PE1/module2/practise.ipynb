{
 "cells": [
  {
   "cell_type": "markdown",
   "id": "da588ae9-f6fd-4886-9e8b-c62763e35fd5",
   "metadata": {},
   "source": [
    "# Module 2"
   ]
  },
  {
   "cell_type": "markdown",
   "id": "90b6b883-bc26-4e45-a66d-79b912f3a5ef",
   "metadata": {},
   "source": [
    "### Simple User Input"
   ]
  },
  {
   "cell_type": "code",
   "execution_count": 2,
   "id": "35b00045-dbfc-4b24-b501-20f2d17e2c2e",
   "metadata": {},
   "outputs": [
    {
     "name": "stdout",
     "output_type": "stream",
     "text": [
      "Hello Kostas! You are 36 years old.\n"
     ]
    }
   ],
   "source": [
    "name = input(\"What's your name? \")\n",
    "age = input(\"How old are you? \")\n",
    "\n",
    "print(\"Hello\", name+ \"! You are\", age, \"years old.\")"
   ]
  },
  {
   "cell_type": "code",
   "execution_count": 2,
   "id": "a74399da-9240-447c-afe6-6a464b0f80a7",
   "metadata": {},
   "outputs": [
    {
     "name": "stdout",
     "output_type": "stream",
     "text": [
      "You are an adult.\n"
     ]
    }
   ],
   "source": [
    "age = int(input(\"Enter your age: \"))\n",
    "\n",
    "if age >= 18:\n",
    "    print(\"You are an adult.\")\n",
    "else:\n",
    "    print(\"You are a minor.\")"
   ]
  },
  {
   "cell_type": "code",
   "execution_count": 1,
   "id": "ebaa367e",
   "metadata": {},
   "outputs": [
    {
     "name": "stdout",
     "output_type": "stream",
     "text": [
      "Integer a: 10\n",
      "Float b: 3.14\n",
      "String c: Python is fun!\n",
      "Boolean d: True\n"
     ]
    }
   ],
   "source": [
    "a = 10\n",
    "print(\"Integer a:\", a)\n",
    "\n",
    "b = 3.14\n",
    "print(\"Float b:\", b)\n",
    "\n",
    "c = \"Python is fun!\"\n",
    "print(\"String c:\", c)\n",
    "\n",
    "d = True\n",
    "print(\"Boolean d:\", d)\n"
   ]
  }
 ],
 "metadata": {
  "kernelspec": {
   "display_name": "Jupyter",
   "language": "python",
   "name": "python3"
  },
  "language_info": {
   "codemirror_mode": {
    "name": "ipython",
    "version": 3
   },
   "file_extension": ".py",
   "mimetype": "text/x-python",
   "name": "python",
   "nbconvert_exporter": "python",
   "pygments_lexer": "ipython3",
   "version": "3.9.20"
  }
 },
 "nbformat": 4,
 "nbformat_minor": 5
}
