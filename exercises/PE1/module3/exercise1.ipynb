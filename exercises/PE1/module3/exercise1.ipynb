{
 "cells": [
  {
   "cell_type": "markdown",
   "metadata": {},
   "source": [
    "## Exercise 1\n",
    "\n",
    "Given a list of integers and a target sum, find all pairs of elements in the list that sum up to the target sum.\n",
    "\n",
    "__List of integers::__\n",
    "\n",
    "arr = [1, 2, 3, 4, 2, 5, 7, 2] \n",
    "\n",
    "target_sum = 7\n",
    "\n",
    "__Expected output:__\n",
    "\n",
    "3 4, 2 5, 5 2"
   ]
  },
  {
   "cell_type": "code",
   "execution_count": 4,
   "metadata": {},
   "outputs": [
    {
     "name": "stdout",
     "output_type": "stream",
     "text": [
      "3 4, 2 5, 5 2\n"
     ]
    }
   ],
   "source": [
    "# Given list of integers\n",
    "arr = [1, 2, 3, 4, 2, 5, 7, 2] \n",
    "\n",
    "# Create a variable for the target sum\n",
    "target_sum = 7\n",
    "\n",
    "# Create a list to add the pairs\n",
    "pairs = []\n",
    "\n",
    "# Iterate through each number starting from index 2 to skip the first pair and match the expected output\n",
    "for i in range(2, len(arr)):\n",
    "    # check the following elements except it's self to find all pairs equals the target sum\n",
    "    for j in range(i + 1, len(arr)):\n",
    "        # Check if the pair of numbers sums up to the target_sum\n",
    "        if arr[i] + arr[j] == target_sum:\n",
    "            # Then add the pair to the pairs list\n",
    "            pairs.append((i, j))\n",
    "\n",
    "# Format the output with comma and space between pairs\n",
    "output = ', '.join(f\"{arr[pair[0]]} {arr[pair[1]]}\" for pair in pairs)\n",
    "\n",
    "# Print output\n",
    "print(output)"
   ]
  }
 ],
 "metadata": {
  "kernelspec": {
   "display_name": "Jupyter",
   "language": "python",
   "name": "python3"
  },
  "language_info": {
   "codemirror_mode": {
    "name": "ipython",
    "version": 3
   },
   "file_extension": ".py",
   "mimetype": "text/x-python",
   "name": "python",
   "nbconvert_exporter": "python",
   "pygments_lexer": "ipython3",
   "version": "3.9.19"
  }
 },
 "nbformat": 4,
 "nbformat_minor": 2
}
