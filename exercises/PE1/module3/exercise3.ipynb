{
 "cells": [
  {
   "cell_type": "markdown",
   "metadata": {},
   "source": [
    "## Exercise 3\n",
    "\n",
    "It's pretty straightforward.\n",
    "\n",
    "Your goal is to create a program that removes the first and last characters of a string.\n",
    "\n",
    "You're given one parameter, the original string.\n",
    "\n",
    "You don't have to worry with strings with less than two characters.\n",
    "\n",
    "__Example:__\n",
    "\n",
    "'eloquent'  ->  'loquen'\n",
    "\n",
    "'country' ->   'ountr'"
   ]
  },
  {
   "cell_type": "code",
   "execution_count": 4,
   "metadata": {},
   "outputs": [
    {
     "name": "stdout",
     "output_type": "stream",
     "text": [
      "'Kostas' -> 'osta'\n"
     ]
    }
   ],
   "source": [
    "# Ask user to enter a word\n",
    "word = input(\"Enter a word: \")\n",
    "\n",
    "# print sliced word\n",
    "print((f\"\\'{word}\\'\"), (f\"\\'{word[1:-1]}\\'\"), sep=\" -> \")"
   ]
  },
  {
   "cell_type": "code",
   "execution_count": null,
   "metadata": {},
   "outputs": [
    {
     "name": "stdout",
     "output_type": "stream",
     "text": [
      "'Kostas' -> 'osta'\n"
     ]
    }
   ],
   "source": [
    "# Ask user to enter a word\n",
    "word = input(\"Enter a word: \")\n",
    "\n",
    "# create a function for cutting the first and the laste letter of the word\n",
    "def splicer(word):\n",
    "    return word[1:-1]\n",
    "\n",
    "# print sliced word\n",
    "print((f\"\\'{word}\\'\"), (f\"\\'{splicer(word)}\\'\"), sep=\" -> \")"
   ]
  }
 ],
 "metadata": {
  "kernelspec": {
   "display_name": "Jupyter",
   "language": "python",
   "name": "python3"
  },
  "language_info": {
   "codemirror_mode": {
    "name": "ipython",
    "version": 3
   },
   "file_extension": ".py",
   "mimetype": "text/x-python",
   "name": "python",
   "nbconvert_exporter": "python",
   "pygments_lexer": "ipython3",
   "version": "3.9.20"
  }
 },
 "nbformat": 4,
 "nbformat_minor": 2
}
