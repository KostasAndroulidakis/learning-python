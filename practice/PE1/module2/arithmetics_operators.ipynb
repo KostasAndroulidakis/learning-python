{
 "cells": [
  {
   "cell_type": "markdown",
   "id": "46d070fa-f4b6-4a1f-8b93-6d9250c451c7",
   "metadata": {},
   "source": [
    "### Arithmetic Operators"
   ]
  },
  {
   "cell_type": "code",
   "execution_count": 3,
   "id": "056c6b7a-2bac-4ec9-902d-824bc81db83a",
   "metadata": {},
   "outputs": [
    {
     "name": "stdout",
     "output_type": "stream",
     "text": [
      "x = 4\n",
      "y = 5\n"
     ]
    }
   ],
   "source": [
    "x, y = 4, 5\n",
    "print('x =', x)\n",
    "print('y =', y)"
   ]
  },
  {
   "cell_type": "code",
   "execution_count": 1,
   "id": "7ad02b8d",
   "metadata": {},
   "outputs": [
    {
     "name": "stdout",
     "output_type": "stream",
     "text": [
      "17.5\n"
     ]
    }
   ],
   "source": [
    "x = 1 / 2 + 3 // 3 + 4 ** 2\n",
    "print(x)"
   ]
  },
  {
   "cell_type": "code",
   "execution_count": 4,
   "id": "ef756e54-d33a-4102-b271-e1721b2029a6",
   "metadata": {},
   "outputs": [
    {
     "name": "stdout",
     "output_type": "stream",
     "text": [
      "x + y = 9\n",
      "x - y = -1\n",
      "x * y = 20\n",
      "x / y = 0.8\n"
     ]
    }
   ],
   "source": [
    "print('x + y =', x+y)\n",
    "print('x - y =', x-y)\n",
    "print('x * y =', x*y)\n",
    "print('x / y =', x/y)"
   ]
  }
 ],
 "metadata": {
  "kernelspec": {
   "display_name": "Jupyter",
   "language": "python",
   "name": "python3"
  },
  "language_info": {
   "codemirror_mode": {
    "name": "ipython",
    "version": 3
   },
   "file_extension": ".py",
   "mimetype": "text/x-python",
   "name": "python",
   "nbconvert_exporter": "python",
   "pygments_lexer": "ipython3",
   "version": "3.9.20"
  }
 },
 "nbformat": 4,
 "nbformat_minor": 5
}
