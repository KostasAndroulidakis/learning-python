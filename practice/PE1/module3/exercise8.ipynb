{
 "cells": [
  {
   "cell_type": "markdown",
   "metadata": {},
   "source": [
    "## Exercise 8\n",
    "\n",
    "Let's assume that you've chosen the following numbers in the lottery: 3, 7, 11, 42, 34, 49.\n",
    "\n",
    "The numbers that have been drawn are: 5, 11, 9, 42, 3, 49.\n",
    "\n",
    "The question is: how many numbers have you hit?\n",
    "\n",
    "__Lists to be used:__\n",
    "\n",
    "drawn = [5, 11, 9, 42, 3, 49]\n",
    "\n",
    "bets = [3, 7, 11, 42, 34, 49]"
   ]
  },
  {
   "cell_type": "code",
   "execution_count": 3,
   "metadata": {},
   "outputs": [
    {
     "name": "stdout",
     "output_type": "stream",
     "text": [
      "We hit 4 numbers\n"
     ]
    }
   ],
   "source": [
    "# The Drawn numbers\n",
    "drawn = [5, 11, 9, 42, 3, 49]\n",
    "\n",
    "# The Bets' numbers\n",
    "bets = [3, 7, 11, 42, 34, 49]\n",
    "\n",
    "# Creates a list for the hits\n",
    "hits = []\n",
    "\n",
    "# Iterates through drawn list\n",
    "for element in drawn:\n",
    "    # check if any of the bets numbers matching\n",
    "    if element in bets:\n",
    "        # adds number to hits list\n",
    "        hits.append(element)\n",
    "\n",
    "# Print how many numbers we hit\n",
    "print(\"We hit\", len(hits), \"numbers\")"
   ]
  }
 ],
 "metadata": {
  "kernelspec": {
   "display_name": "Jupyter",
   "language": "python",
   "name": "python3"
  },
  "language_info": {
   "codemirror_mode": {
    "name": "ipython",
    "version": 3
   },
   "file_extension": ".py",
   "mimetype": "text/x-python",
   "name": "python",
   "nbconvert_exporter": "python",
   "pygments_lexer": "ipython3",
   "version": "3.9.20"
  }
 },
 "nbformat": 4,
 "nbformat_minor": 2
}
