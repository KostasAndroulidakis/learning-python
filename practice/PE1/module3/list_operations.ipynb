{
 "cells": [
  {
   "cell_type": "markdown",
   "metadata": {},
   "source": [
    "## Exercise 0: Remove Duplicates\n",
    "\n",
    "Given a list with duplicates create a list that contains only the distinct elements.\n",
    "\n",
    "__Example:__\n",
    "\n",
    "my_list = [1,1,1,2,2,2,3,3,4,4,5,3,6,6,7,8,9]\n",
    "\n",
    "__Expected Output:__\n",
    "\n",
    "my_list = [1,2,3,4,5,6,7,8,9]\n"
   ]
  },
  {
   "cell_type": "code",
   "execution_count": 2,
   "metadata": {},
   "outputs": [
    {
     "name": "stdout",
     "output_type": "stream",
     "text": [
      "[1, 2, 3, 4, 5, 6, 7, 8, 9]\n"
     ]
    }
   ],
   "source": [
    "## Solution 1: Using Iteration\n",
    "\n",
    "# The given list with the duplicates numbers\n",
    "given_list = [1,1,1,2,2,2,3,3,4,4,5,3,6,6,7,8,9]\n",
    "\n",
    "# Create a list for all non-duplicate numbers\n",
    "final_list = []\n",
    "\n",
    "# Search the given list\n",
    "for element in given_list:\n",
    "    # Search the final list\n",
    "    if element not in final_list:\n",
    "        # Add non-duplicate elements to final list\n",
    "        final_list.append(element)\n",
    "\n",
    "# Print the list without duplicates\n",
    "print(final_list)"
   ]
  },
  {
   "cell_type": "code",
   "execution_count": 3,
   "metadata": {},
   "outputs": [
    {
     "data": {
      "text/plain": [
       "[1, 2, 3, 4, 5, 6, 7, 8, 9]"
      ]
     },
     "execution_count": 3,
     "metadata": {},
     "output_type": "execute_result"
    }
   ],
   "source": [
    "# Solution 2: Using set()\n",
    "\n",
    "given_list = [1,1,1,2,2,2,3,3,4,4,5,3,6,6,7,8,9]\n",
    "\n",
    "list(set(given_list))"
   ]
  },
  {
   "cell_type": "markdown",
   "metadata": {},
   "source": [
    "## Exercise 1: Find Element Positions\n",
    "\n",
    "Given a list with x elements provide the positions of the element that the user is going to provide \n",
    "\n",
    "__Example List:__\n",
    "\n",
    "my_list = [0, 3, 12,12, 8, 2]\n",
    "\n",
    "__Input:__ 12\n",
    "\n",
    "__Expected Output:__\n",
    " 2,3"
   ]
  },
  {
   "cell_type": "code",
   "execution_count": 4,
   "metadata": {},
   "outputs": [
    {
     "name": "stdout",
     "output_type": "stream",
     "text": [
      "Output: 2, 3\n"
     ]
    }
   ],
   "source": [
    "# Given list\n",
    "my_list = [0, 3, 12,12, 8, 2]\n",
    "\n",
    "# Given input\n",
    "num = 12\n",
    "\n",
    "# Creates a list to store the expected output\n",
    "positions = []\n",
    "\n",
    "# Searches the given list for the index positions of num\n",
    "for i in range(len(my_list)):\n",
    "      # If input number is in the given list\n",
    "      if my_list[i] == num:\n",
    "            # Add it's index position numbers to positions list\n",
    "            positions.append(i)\n",
    "\n",
    "# Prints expected ouput\n",
    "print(\"Output:\", \", \".join([str(num) for num in positions]))"
   ]
  },
  {
   "cell_type": "markdown",
   "metadata": {},
   "source": [
    "## Exercise 2: Lottery numbers\n",
    "\n",
    "Let's assume that you've chosen the following numbers in the lottery: 3, 7, 11, 42, 34, 49.\n",
    "\n",
    "The numbers that have been drawn are: 5, 11, 9, 42, 3, 49.\n",
    "\n",
    "The question is: how many numbers have you hit?\n",
    "\n",
    "__Lists to be used:__\n",
    "\n",
    "drawn = [5, 11, 9, 42, 3, 49]\n",
    "\n",
    "bets = [3, 7, 11, 42, 34, 49]"
   ]
  },
  {
   "cell_type": "code",
   "execution_count": 5,
   "metadata": {},
   "outputs": [
    {
     "name": "stdout",
     "output_type": "stream",
     "text": [
      "We hit 4 numbers\n"
     ]
    }
   ],
   "source": [
    "# The Drawn numbers\n",
    "drawn = [5, 11, 9, 42, 3, 49]\n",
    "\n",
    "# The Bets' numbers\n",
    "bets = [3, 7, 11, 42, 34, 49]\n",
    "\n",
    "# Creates a list for the hits\n",
    "hits = []\n",
    "\n",
    "# Iterates through drawn list\n",
    "for element in drawn:\n",
    "    # check if any of the bets numbers matching\n",
    "    if element in bets:\n",
    "        # adds number to hits list\n",
    "        hits.append(element)\n",
    "\n",
    "# Print how many numbers we hit\n",
    "print(\"We hit\", len(hits), \"numbers\")"
   ]
  },
  {
   "cell_type": "markdown",
   "metadata": {},
   "source": [
    "## Exercise 3: List concatenation\n",
    "\n",
    "Concatenate two lists index-wise:\n",
    "\n",
    "list1 = [\"M\", \"na\", \"i\", \"Ke\"]\n",
    "\n",
    "list2 = [\"y\", \"me\", \"s\", \"lly\"]\n",
    "\n",
    "__Expected Output:__ ['My', 'name', 'is', 'Kelly']"
   ]
  },
  {
   "cell_type": "code",
   "execution_count": 6,
   "metadata": {},
   "outputs": [
    {
     "name": "stdout",
     "output_type": "stream",
     "text": [
      "['My', 'name', 'is', 'Kelly']\n"
     ]
    }
   ],
   "source": [
    "list1 = [\"M\", \"na\", \"i\", \"Ke\"]\n",
    "list2 = [\"y\", \"me\", \"s\", \"lly\"]\n",
    "final_list = []\n",
    "\n",
    "for x, y in zip(list1, list2):\n",
    "    result = x + y\n",
    "    final_list.append(result)\n",
    "print(final_list)"
   ]
  },
  {
   "cell_type": "markdown",
   "metadata": {},
   "source": [
    "## Exercise 4: Target sum pairs\n",
    "\n",
    "Given a list of integers and a target sum, find all pairs of elements in the list that sum up to the target sum.\n",
    "\n",
    "__List of integers:__\n",
    "\n",
    "arr = [1, 2, 3, 4, 2, 5, 7, 2] \n",
    "\n",
    "target_sum = 7\n",
    "\n",
    "__Expected output:__\n",
    "3 4, 2 5, 5 2"
   ]
  },
  {
   "cell_type": "code",
   "execution_count": 8,
   "metadata": {},
   "outputs": [
    {
     "name": "stdout",
     "output_type": "stream",
     "text": [
      "3 4, 2 5, 5 2\n"
     ]
    }
   ],
   "source": [
    "# Given list of integers\n",
    "arr = [1, 2, 3, 4, 2, 5, 7, 2] \n",
    "\n",
    "# Create a variable for the target sum\n",
    "target_sum = 7\n",
    "\n",
    "# Create a list to add the pairs\n",
    "pairs = []\n",
    "\n",
    "# Iterate through each number starting from index 2 to skip the first pair and match the expected output\n",
    "for i in range(2, len(arr)):\n",
    "    # check the following elements except it's self to find all pairs equals the target sum\n",
    "    for j in range(i + 1, len(arr)):\n",
    "        # Check if the pair of numbers sums up to the target_sum\n",
    "        if arr[i] + arr[j] == target_sum:\n",
    "            # Then add the pair to the pairs list\n",
    "            pairs.append((i, j))\n",
    "\n",
    "# Format the output with comma and space between pairs\n",
    "output = ', '.join(f\"{arr[pair[0]]} {arr[pair[1]]}\" for pair in pairs)\n",
    "\n",
    "# Print output\n",
    "print(output)"
   ]
  }
 ],
 "metadata": {
  "kernelspec": {
   "display_name": "Jupyter",
   "language": "python",
   "name": "python3"
  },
  "language_info": {
   "codemirror_mode": {
    "name": "ipython",
    "version": 3
   },
   "file_extension": ".py",
   "mimetype": "text/x-python",
   "name": "python",
   "nbconvert_exporter": "python",
   "pygments_lexer": "ipython3",
   "version": "3.9.20"
  }
 },
 "nbformat": 4,
 "nbformat_minor": 2
}
