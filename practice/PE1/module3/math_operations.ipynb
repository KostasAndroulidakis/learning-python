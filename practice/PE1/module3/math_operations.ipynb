{
 "cells": [
  {
   "cell_type": "markdown",
   "metadata": {},
   "source": [
    "## Exercise 0: Array Product\n",
    "\n",
    "Given a non-empty array of integers, return the result of multiplying the values together in order.\n",
    "\n",
    "__Example:__\n",
    "\n",
    "[1, 2, 3, 4] -> 1 * 2 * 3 * 4 = 24\n"
   ]
  },
  {
   "cell_type": "code",
   "execution_count": 1,
   "metadata": {},
   "outputs": [
    {
     "name": "stdout",
     "output_type": "stream",
     "text": [
      "[1, 2, 3, 4] -> 1 * 2 * 3 * 4 = 24\n"
     ]
    }
   ],
   "source": [
    "# Stores the given list\n",
    "given_list = [1, 2, 3, 4]\n",
    "\n",
    "# Creates a variable to multiply by 1 instead of 0\n",
    "result = 1\n",
    "\n",
    "# Loop through each number in the list and multiply it with result\n",
    "for num in given_list:\n",
    "    # Multiply current number with previous result\n",
    "    result *= num\n",
    "\n",
    "# Creates a string to store multiplication\n",
    "expression = \" * \".join([str(num) for num in given_list])\n",
    "\n",
    "# Display the final result\n",
    "print(given_list, \"->\", expression, \"=\", result)"
   ]
  },
  {
   "cell_type": "markdown",
   "metadata": {},
   "source": [
    "## Exercise 1: Palindrome Number\n",
    "\n",
    "Check Palindrome Number\n",
    "\n",
    "__Objective:__ Write a Python program that checks whether a given positive integer is a palindrome.\n",
    "\n",
    "### Instructions:\n",
    "\n",
    "Ask the user to input a positive integer n.\n",
    "\n",
    "Use a loop to reverse the digits of the number.\n",
    "\n",
    "Compare the original number with the reversed number to determine if it's a palindrome.\n",
    "\n",
    "Print the result.\n",
    "\n",
    "### Hints:\n",
    "\n",
    "A palindrome number reads the same forward and backward, such as 121, 1331, etc.\n",
    "\n",
    "To reverse the number, you can extract the digits one by one and construct the reversed number."
   ]
  },
  {
   "cell_type": "code",
   "execution_count": 4,
   "metadata": {},
   "outputs": [
    {
     "name": "stdout",
     "output_type": "stream",
     "text": [
      "The number 101 is a palindrome.\n"
     ]
    }
   ],
   "source": [
    "# Asks user to enter an integer number\n",
    "number = int(input(\"Enter a positive integer number: \"))\n",
    "\n",
    "# Creates a copy of the original number to compare later\n",
    "original_number = number\n",
    "\n",
    "# Creates a variable to store the reversed number\n",
    "reverse_number = 0\n",
    "\n",
    "# Loops until we processed all digits\n",
    "while number > 0:\n",
    "    # Gets the last digit of the number\n",
    "    last_digit = number % 10\n",
    "    # Adds the last digit to the reversed number\n",
    "    reverse_number = reverse_number * 10 + last_digit\n",
    "    # Removes the last digit from the number\n",
    "    number = number // 10\n",
    "\n",
    "# Prints the result of comparison\n",
    "if original_number == reverse_number:\n",
    "    print(f\"The number {original_number} is a palindrome.\")\n",
    "else:\n",
    "    print(f\"The number {original_number} is not a palindrome.\")"
   ]
  }
 ],
 "metadata": {
  "kernelspec": {
   "display_name": "Jupyter",
   "language": "python",
   "name": "python3"
  },
  "language_info": {
   "codemirror_mode": {
    "name": "ipython",
    "version": 3
   },
   "file_extension": ".py",
   "mimetype": "text/x-python",
   "name": "python",
   "nbconvert_exporter": "python",
   "pygments_lexer": "ipython3",
   "version": "3.9.20"
  }
 },
 "nbformat": 4,
 "nbformat_minor": 2
}
