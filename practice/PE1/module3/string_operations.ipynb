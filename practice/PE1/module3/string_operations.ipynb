{
 "cells": [
  {
   "cell_type": "markdown",
   "metadata": {},
   "source": [
    "## Exercise 0: Simple String Repetition\n",
    "\n",
    "Write a program called repeatStr which repeats the given string exactly n times.\n",
    "\n",
    "__Example:__\n",
    "\n",
    "repeat_str(4, 'a') -> 'aaaa'\n",
    "\n",
    "repeat_str(3, 'hello ') -> 'hellohellohello'"
   ]
  },
  {
   "cell_type": "code",
   "execution_count": 1,
   "metadata": {},
   "outputs": [
    {
     "name": "stdout",
     "output_type": "stream",
     "text": [
      "aaaa\n",
      "hellohellohello\n"
     ]
    }
   ],
   "source": [
    "# Define a function that takes two parameters: n (int) and word (str)\n",
    "def repeat_str(n, word):\n",
    "       # Return the word repeated n times\n",
    "       return (n * word)\n",
    "\n",
    "# Expected outputs\n",
    "print(repeat_str(4, 'a'))\n",
    "print(repeat_str(3, 'hello'))"
   ]
  },
  {
   "cell_type": "markdown",
   "metadata": {},
   "source": [
    "## Exercise 1: Remove First and Last Characters\n",
    "\n",
    "It's pretty straightforward.\n",
    "\n",
    "Your goal is to create a program that removes the first and last characters of a string.\n",
    "\n",
    "You're given one parameter, the original string.\n",
    "\n",
    "You don't have to worry with strings with less than two characters.\n",
    "\n",
    "__Example:__\n",
    "\n",
    "'eloquent'  ->  'loquen'\n",
    "\n",
    "'country' ->   'ountr'"
   ]
  },
  {
   "cell_type": "code",
   "execution_count": 2,
   "metadata": {},
   "outputs": [
    {
     "name": "stdout",
     "output_type": "stream",
     "text": [
      "'kostas' -> 'osta'\n"
     ]
    }
   ],
   "source": [
    "# Basic Solution: Using String Slicing\n",
    "\n",
    "# Ask user to enter a word\n",
    "word = input(\"Enter a word: \")\n",
    "\n",
    "# print sliced word\n",
    "print((f\"\\'{word}\\'\"), (f\"\\'{word[1:-1]}\\'\"), sep=\" -> \")"
   ]
  },
  {
   "cell_type": "code",
   "execution_count": 3,
   "metadata": {},
   "outputs": [
    {
     "name": "stdout",
     "output_type": "stream",
     "text": [
      "'kostas' -> 'osta'\n"
     ]
    }
   ],
   "source": [
    "# Advanced Solution: Using Functions\n",
    "\n",
    "# Ask user to enter a word\n",
    "word = input(\"Enter a word: \")\n",
    "\n",
    "# create a function for cutting the first and the laste letter of the word\n",
    "def splicer(word):\n",
    "    return word[1:-1]\n",
    "\n",
    "# print sliced word\n",
    "print((f\"\\'{word}\\'\"), (f\"\\'{splicer(word)}\\'\"), sep=\" -> \")"
   ]
  },
  {
   "cell_type": "markdown",
   "metadata": {},
   "source": [
    "## Exercise 2: Pattern Creation with Strings\n",
    "\n",
    "This time no story, no theory.\n",
    "\n",
    "The examples below show you how to write code accepting a word and then print the respect results:\n",
    "\n",
    "__Example:__\n",
    "\n",
    "\"abcd\" -> \"A-Bb-Ccc-Dddd\"\n",
    "\n",
    "\"RqaEzty\" -> \"R-Qq-Aaa-Eeee-Zzzzz-Tttttt-Yyyyyyy\"\n",
    "\n",
    "\"cwAt\" -> \"C-Ww-Aaa-Tttt\"\n",
    "\n",
    "The parameter of accum is a string which includes only letters from a..z and A..Z."
   ]
  },
  {
   "cell_type": "code",
   "execution_count": 4,
   "metadata": {},
   "outputs": [
    {
     "name": "stdout",
     "output_type": "stream",
     "text": [
      "SYSTEM ERROR: INVALID CHARACTERS\n",
      "Only letters allowed.\n",
      "Try again!\n",
      "SYSTEM ERROR: EMPTY INPUT\n",
      "Empty input not allowed.\n",
      "Try again!\n",
      "\"kOSTAS\" -> \"K-Oo-Sss-Tttt-Aaaaa-Ssssss\"\n"
     ]
    }
   ],
   "source": [
    "# Ask user to enter a word\n",
    "word = input(\"Enter a word: \")\n",
    "\n",
    "# loops while word is empty OR not valid\n",
    "while not word.strip() or not word.isalpha():\n",
    "    # checks if word is empty\n",
    "    if not word.strip():\n",
    "        print(\"SYSTEM ERROR: EMPTY INPUT\", \"Empty input not allowed.\",\"Try again!\",sep=\"\\n\")\n",
    "    # checks if word contains only alphabetic characters\n",
    "    elif not word.isalpha():\n",
    "        print(\"SYSTEM ERROR: INVALID CHARACTERS\",\"Only letters allowed.\",\"Try again!\",sep=\"\\n\")\n",
    "    # Ask user to try again\n",
    "    word = input(\"Enter a word: \")\n",
    "\n",
    "# create a new variable to hold the word in lowercase\n",
    "new_word = word.lower()\n",
    "\n",
    "# create a list for the expected output\n",
    "result = []\n",
    "\n",
    "# use enumerate to get the position and letter of each index\n",
    "for i, j in enumerate(new_word):\n",
    "    # Multiply each letter by (it's index position number plus 1)\n",
    "    # Capitalize the first letter of each element\n",
    "    result.append((j*(i+1)).capitalize())\n",
    "\n",
    "# create a variable to put the result into quotes in the output\n",
    "final_result = \"-\".join(result)\n",
    "\n",
    "# print expected output\n",
    "print((f\"\\\"{word}\\\"\"), (f\"\\\"{final_result}\\\"\"), sep=\" -> \")"
   ]
  }
 ],
 "metadata": {
  "kernelspec": {
   "display_name": "Jupyter",
   "language": "python",
   "name": "python3"
  },
  "language_info": {
   "codemirror_mode": {
    "name": "ipython",
    "version": 3
   },
   "file_extension": ".py",
   "mimetype": "text/x-python",
   "name": "python",
   "nbconvert_exporter": "python",
   "pygments_lexer": "ipython3",
   "version": "3.9.20"
  }
 },
 "nbformat": 4,
 "nbformat_minor": 2
}
