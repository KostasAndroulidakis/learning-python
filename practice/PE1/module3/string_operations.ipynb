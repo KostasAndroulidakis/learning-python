{
 "cells": [
  {
   "cell_type": "markdown",
   "metadata": {},
   "source": [
    "## Exercise 0: Simple String Repetition\n",
    "\n",
    "Write a program called repeatStr which repeats the given string exactly n times.\n",
    "\n",
    "__Example:__\n",
    "\n",
    "repeat_str(4, 'a') -> 'aaaa'\n",
    "\n",
    "repeat_str(3, 'hello ') -> 'hellohellohello'"
   ]
  },
  {
   "cell_type": "code",
   "execution_count": null,
   "metadata": {},
   "outputs": [],
   "source": [
    "# Define a function that takes two parameters: n (int) and word (str)\n",
    "def repeat_str(n, word):\n",
    "       # Return the word repeated n times\n",
    "       return (n * word)\n",
    "\n",
    "# Expected outputs\n",
    "print(repeat_str(4, 'a'))\n",
    "print(repeat_str(3, 'hello'))"
   ]
  },
  {
   "cell_type": "markdown",
   "metadata": {},
   "source": [
    "## Exercise 3: Remove First and Last Characters\n",
    "\n",
    "It's pretty straightforward.\n",
    "\n",
    "Your goal is to create a program that removes the first and last characters of a string.\n",
    "\n",
    "You're given one parameter, the original string.\n",
    "\n",
    "You don't have to worry with strings with less than two characters.\n",
    "\n",
    "__Example:__\n",
    "\n",
    "'eloquent'  ->  'loquen'\n",
    "\n",
    "'country' ->   'ountr'"
   ]
  },
  {
   "cell_type": "code",
   "execution_count": null,
   "metadata": {},
   "outputs": [],
   "source": [
    "# Basic Solution: Using String Slicing\n",
    "\n",
    "# Ask user to enter a word\n",
    "word = input(\"Enter a word: \")\n",
    "\n",
    "# print sliced word\n",
    "print((f\"\\'{word}\\'\"), (f\"\\'{word[1:-1]}\\'\"), sep=\" -> \")"
   ]
  },
  {
   "cell_type": "code",
   "execution_count": null,
   "metadata": {},
   "outputs": [],
   "source": [
    "# Advanced Solution: Using Functions\n",
    "\n",
    "# Ask user to enter a word\n",
    "word = input(\"Enter a word: \")\n",
    "\n",
    "# create a function for cutting the first and the laste letter of the word\n",
    "def splicer(word):\n",
    "    return word[1:-1]\n",
    "\n",
    "# print sliced word\n",
    "print((f\"\\'{word}\\'\"), (f\"\\'{splicer(word)}\\'\"), sep=\" -> \")"
   ]
  }
 ],
 "metadata": {
  "kernelspec": {
   "display_name": "Jupyter",
   "language": "python",
   "name": "python3"
  },
  "language_info": {
   "name": "python",
   "version": "3.9.20"
  }
 },
 "nbformat": 4,
 "nbformat_minor": 2
}
