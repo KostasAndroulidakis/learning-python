{
 "cells": [
  {
   "cell_type": "markdown",
   "id": "89a50cf3",
   "metadata": {},
   "source": [
    "Exercise 2: Reverse a List\n",
    "\n",
    "Write a function that takes a list and returns the reversed list."
   ]
  },
  {
   "cell_type": "code",
   "execution_count": null,
   "id": "d0182c26",
   "metadata": {},
   "outputs": [],
   "source": [
    "def reverse_list(list_to_reverse):\n",
    "    \n",
    "\n",
    "numbers = [1, 2, 3, 4, 5]\n",
    "print(reverse_list(numbers))"
   ]
  },
  {
   "cell_type": "markdown",
   "id": "97abfd62",
   "metadata": {},
   "source": [
    "Exercise 3: Factorial of a Number\n",
    "\n",
    "Write a function that takes a number as a parameter and returns its factorial."
   ]
  },
  {
   "cell_type": "code",
   "execution_count": null,
   "id": "e754a126",
   "metadata": {},
   "outputs": [],
   "source": [
    "def factorial(n):\n",
    "    \n",
    "print(factorial(5))"
   ]
  },
  {
   "cell_type": "markdown",
   "id": "28bab282",
   "metadata": {},
   "source": [
    "Exercise 4: Even Numbers\n",
    "\n",
    "Write a function that takes a list of numbers and returns a new list with only the even numbers."
   ]
  },
  {
   "cell_type": "code",
   "execution_count": null,
   "id": "c2e67595",
   "metadata": {},
   "outputs": [],
   "source": [
    "def even_numbers(numbers):\n",
    "    \n",
    "\n",
    "numbers = [1, 2, 3, 4, 5, 6, 7, 8, 9]\n",
    "print(even_numbers(numbers))"
   ]
  },
  {
   "cell_type": "markdown",
   "id": "30a9f63b",
   "metadata": {},
   "source": [
    "Exercise 5: Fibonacci Sequence\n",
    "\n",
    "Write a function that prints the first n numbers of the Fibonacci sequence."
   ]
  },
  {
   "cell_type": "code",
   "execution_count": null,
   "id": "35a86bb5",
   "metadata": {},
   "outputs": [],
   "source": [
    "def fibonacci(n):\n",
    "\n",
    "    \n",
    "print(fibonacci(10))"
   ]
  },
  {
   "cell_type": "markdown",
   "id": "865f62a8",
   "metadata": {},
   "source": [
    "Exercise 6: Prime Numbers\n",
    "\n",
    "Write a function that takes a number n and returns a list of the first n prime numbers."
   ]
  },
  {
   "cell_type": "code",
   "execution_count": null,
   "id": "45d9e8e1",
   "metadata": {},
   "outputs": [],
   "source": [
    "def is_prime(num):\n",
    "\n",
    "\n",
    "def primes(n):\n",
    "\n",
    "\n",
    "print(primes(10))\n"
   ]
  },
  {
   "cell_type": "markdown",
   "id": "7107484e",
   "metadata": {},
   "source": [
    "Exercise 7: Count Characters\n",
    "\n",
    "Write a function that takes a string and returns a dictionary with the count of each character."
   ]
  },
  {
   "cell_type": "code",
   "execution_count": null,
   "id": "8d832b52",
   "metadata": {},
   "outputs": [],
   "source": [
    "def count_characters(string):\n",
    "\n",
    "print(count_characters(\"Hello World!\"))\n"
   ]
  },
  {
   "cell_type": "markdown",
   "id": "0e9805bb",
   "metadata": {},
   "source": [
    "Exercise 8: Multiply All Elements in a List\n",
    "\n",
    "Write a function that takes a list of numbers and returns the product of all numbers in the list."
   ]
  },
  {
   "cell_type": "code",
   "execution_count": null,
   "id": "744196f8",
   "metadata": {},
   "outputs": [],
   "source": [
    "def multiply_list(numbers):\n",
    "\n",
    "\n",
    "numbers = [1, 2, 3, 4, 5]\n",
    "print(multiply_list(numbers))\n"
   ]
  },
  {
   "cell_type": "markdown",
   "id": "e006431f",
   "metadata": {},
   "source": [
    "Exercise 9: Remove Duplicates From a List\n",
    "\n",
    "Write a function that removes all duplicates from a list."
   ]
  },
  {
   "cell_type": "code",
   "execution_count": null,
   "id": "a62851fc",
   "metadata": {},
   "outputs": [],
   "source": [
    "def remove_duplicates(input_list):\n",
    "\n",
    "numbers = [1, 2, 2, 3, 4, 4, 5, 5]\n",
    "print(remove_duplicates(numbers))\n"
   ]
  },
  {
   "cell_type": "markdown",
   "id": "c3725428",
   "metadata": {},
   "source": [
    "Exercise 10:Longest Word in a List\n",
    "\n",
    "Write a function that takes a list of words and returns the longest one. If there are multiple words of the same maximum length, return the first one encountered."
   ]
  },
  {
   "cell_type": "code",
   "execution_count": null,
   "id": "d4ef13d0",
   "metadata": {},
   "outputs": [],
   "source": [
    "def longest_word(word_list):\n",
    "\n",
    "\n",
    "words = [\"Python\", \"Java\", \"JavaScript\", \"Ruby\", \"C\", \"C++\", \"Scala\", \"Go\"]\n",
    "print(longest_word(words))\n"
   ]
  }
 ],
 "metadata": {
  "kernelspec": {
   "display_name": "Jupyter",
   "language": "python",
   "name": "python3"
  },
  "language_info": {
   "codemirror_mode": {
    "name": "ipython",
    "version": 3
   },
   "file_extension": ".py",
   "mimetype": "text/x-python",
   "name": "python",
   "nbconvert_exporter": "python",
   "pygments_lexer": "ipython3",
   "version": "3.9.20"
  }
 },
 "nbformat": 4,
 "nbformat_minor": 5
}
