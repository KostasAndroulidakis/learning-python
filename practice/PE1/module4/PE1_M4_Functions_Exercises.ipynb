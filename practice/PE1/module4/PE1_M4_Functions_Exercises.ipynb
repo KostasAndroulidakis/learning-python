{
 "cells": [
  {
   "cell_type": "markdown",
   "id": "c4e81969",
   "metadata": {},
   "source": [
    "Exercise 1: Sum of a List\n",
    "\n",
    "Write a function that takes a list of numbers as a parameter and returns their sum.\n"
   ]
  },
  {
   "cell_type": "code",
   "execution_count": 1,
   "id": "ffb95b3f",
   "metadata": {},
   "outputs": [
    {
     "name": "stdout",
     "output_type": "stream",
     "text": [
      "15\n"
     ]
    }
   ],
   "source": [
    "def sum_list(numbers):\n",
    "    return sum(numbers)\n",
    "\n",
    "numbers = [1, 2, 3, 4, 5]\n",
    "print(sum_list(numbers))"
   ]
  },
  {
   "cell_type": "markdown",
   "id": "89a50cf3",
   "metadata": {},
   "source": [
    "Exercise 2: Reverse a List\n",
    "\n",
    "Write a function that takes a list and returns the reversed list."
   ]
  },
  {
   "cell_type": "code",
   "execution_count": 12,
   "id": "d0182c26",
   "metadata": {},
   "outputs": [
    {
     "name": "stdout",
     "output_type": "stream",
     "text": [
      "[5, 4, 3, 2, 1]\n"
     ]
    }
   ],
   "source": [
    "def reverse_list(list_to_reverse):\n",
    "    return list_to_reverse[::-1]\n",
    "\n",
    "numbers = [1, 2, 3, 4, 5]\n",
    "print(reverse_list(numbers))"
   ]
  },
  {
   "cell_type": "markdown",
   "id": "97abfd62",
   "metadata": {},
   "source": [
    "Exercise 3: Factorial of a Number\n",
    "\n",
    "Write a function that takes a number as a parameter and returns its factorial."
   ]
  },
  {
   "cell_type": "code",
   "execution_count": 7,
   "id": "e754a126",
   "metadata": {},
   "outputs": [
    {
     "name": "stdout",
     "output_type": "stream",
     "text": [
      "120\n"
     ]
    }
   ],
   "source": [
    "def factorial(n):\n",
    "    result = 1\n",
    "    for i in range(1, n + 1):\n",
    "        result *= i\n",
    "    return result\n",
    "\n",
    "print(factorial(5))"
   ]
  },
  {
   "cell_type": "markdown",
   "id": "28bab282",
   "metadata": {},
   "source": [
    "Exercise 4: Even Numbers\n",
    "\n",
    "Write a function that takes a list of numbers and returns a new list with only the even numbers."
   ]
  },
  {
   "cell_type": "code",
   "execution_count": 9,
   "id": "c2e67595",
   "metadata": {},
   "outputs": [
    {
     "name": "stdout",
     "output_type": "stream",
     "text": [
      "[2, 4, 6, 8]\n"
     ]
    }
   ],
   "source": [
    "def even_numbers(numbers):\n",
    "    result = []\n",
    "    for number in numbers:\n",
    "        if number % 2 == 0:\n",
    "            result.append(number)\n",
    "    return result\n",
    "\n",
    "numbers = [1, 2, 3, 4, 5, 6, 7, 8, 9]\n",
    "print(even_numbers(numbers))"
   ]
  },
  {
   "cell_type": "markdown",
   "id": "30a9f63b",
   "metadata": {},
   "source": [
    "Exercise 5: Fibonacci Sequence\n",
    "\n",
    "Write a function that prints the first n numbers of the Fibonacci sequence."
   ]
  },
  {
   "cell_type": "code",
   "execution_count": 15,
   "id": "35a86bb5",
   "metadata": {},
   "outputs": [
    {
     "name": "stdout",
     "output_type": "stream",
     "text": [
      "[0, 1, 1, 2, 3, 5, 8, 13, 21, 34]\n"
     ]
    }
   ],
   "source": [
    "def fibonacci(n):\n",
    "    sequence = [0, 1]\n",
    "    for i in range(2, n):\n",
    "        next_number = sequence[-1] + sequence[-2]\n",
    "        sequence.append(next_number)\n",
    "    return sequence[:n]    \n",
    "\n",
    "print(fibonacci(10))"
   ]
  },
  {
   "cell_type": "markdown",
   "id": "865f62a8",
   "metadata": {},
   "source": [
    "Exercise 6: Prime Numbers\n",
    "\n",
    "Write a function that takes a number n and returns a list of the first n prime numbers."
   ]
  },
  {
   "cell_type": "code",
   "execution_count": 16,
   "id": "45d9e8e1",
   "metadata": {},
   "outputs": [
    {
     "name": "stdout",
     "output_type": "stream",
     "text": [
      "[2, 3, 5, 7, 11, 13, 17, 19, 23, 29]\n"
     ]
    }
   ],
   "source": [
    "def is_prime(num):\n",
    "    if num <= 1:\n",
    "        return False\n",
    "    num_root = int(num**0.5) + 1\n",
    "    for i in range (2, num_root):\n",
    "        if num % i == 0:\n",
    "            return False\n",
    "    return True\n",
    "\n",
    "def primes(n):\n",
    "    # Prepare a list\n",
    "    new_list = []\n",
    "    # search from 2 and after\n",
    "    current_number = 2\n",
    "    while len(new_list) < n:\n",
    "        if is_prime(current_number):\n",
    "            new_list.append(current_number)\n",
    "        current_number += 1\n",
    "    return new_list\n",
    "\n",
    "print(primes(10))"
   ]
  },
  {
   "cell_type": "markdown",
   "id": "7107484e",
   "metadata": {},
   "source": [
    "Exercise 7: Count Characters\n",
    "\n",
    "Write a function that takes a string and returns a dictionary with the count of each character."
   ]
  },
  {
   "cell_type": "code",
   "execution_count": 2,
   "id": "8d832b52",
   "metadata": {},
   "outputs": [
    {
     "name": "stdout",
     "output_type": "stream",
     "text": [
      "{'H': 1, 'e': 1, 'l': 3, 'o': 2, ' ': 1, 'W': 1, 'r': 1, 'd': 1, '!': 1}\n"
     ]
    }
   ],
   "source": [
    "def count_characters(string):\n",
    "    result = {}\n",
    "    for char in string:\n",
    "        if char in result:\n",
    "            result[char] += 1\n",
    "        else:\n",
    "            result[char] = 1\n",
    "    return result\n",
    "\n",
    "print(count_characters(\"Hello World!\"))\n"
   ]
  },
  {
   "cell_type": "markdown",
   "id": "0e9805bb",
   "metadata": {},
   "source": [
    "Exercise 8: Multiply All Elements in a List\n",
    "\n",
    "Write a function that takes a list of numbers and returns the product of all numbers in the list."
   ]
  },
  {
   "cell_type": "code",
   "execution_count": 3,
   "id": "744196f8",
   "metadata": {},
   "outputs": [
    {
     "name": "stdout",
     "output_type": "stream",
     "text": [
      "120\n"
     ]
    }
   ],
   "source": [
    "def multiply_list(numbers):\n",
    "    product = 1\n",
    "    for i in numbers:\n",
    "        product *= i\n",
    "    return product\n",
    "\n",
    "numbers = [1, 2, 3, 4, 5]\n",
    "print(multiply_list(numbers))\n"
   ]
  },
  {
   "cell_type": "markdown",
   "id": "e006431f",
   "metadata": {},
   "source": [
    "Exercise 9: Remove Duplicates From a List\n",
    "\n",
    "Write a function that removes all duplicates from a list."
   ]
  },
  {
   "cell_type": "code",
   "execution_count": 7,
   "id": "a62851fc",
   "metadata": {},
   "outputs": [
    {
     "name": "stdout",
     "output_type": "stream",
     "text": [
      "[1, 2, 3, 4, 5]\n"
     ]
    }
   ],
   "source": [
    "# Solution 1: longer but keeping the right order\n",
    "def remove_duplicates(input_list):\n",
    "    final_list = []\n",
    "    for element in input_list:\n",
    "        if element not in final_list:\n",
    "            final_list.append(element)\n",
    "    return final_list\n",
    "\n",
    "numbers = [1, 2, 2, 3, 4, 4, 5, 5]\n",
    "print(remove_duplicates(numbers))\n"
   ]
  },
  {
   "cell_type": "code",
   "execution_count": null,
   "id": "74ebaedc",
   "metadata": {},
   "outputs": [],
   "source": [
    "# Solution 2: shorter but without keeping the right order\n",
    "def remove_duplicates(input_list):\n",
    "    return list(set(input_list))\n",
    "\n",
    "numbers = [1, 2, 2, 3, 3, 4, 4, 5, 5]\n",
    "print(remove_duplicates(numbers))"
   ]
  },
  {
   "cell_type": "markdown",
   "id": "c3725428",
   "metadata": {},
   "source": [
    "Exercise 10:Longest Word in a List\n",
    "\n",
    "Write a function that takes a list of words and returns the longest one. If there are multiple words of the same maximum length, return the first one encountered."
   ]
  },
  {
   "cell_type": "code",
   "execution_count": 8,
   "id": "d4ef13d0",
   "metadata": {},
   "outputs": [
    {
     "name": "stdout",
     "output_type": "stream",
     "text": [
      "JavaScript\n"
     ]
    }
   ],
   "source": [
    "def longest_word(word_list):\n",
    "    return max(word_list, key=len)\n",
    "\n",
    "words = [\"Python\", \"Java\", \"JavaScript\", \"Ruby\", \"C\", \"C++\", \"Scala\", \"Go\"]\n",
    "print(longest_word(words))\n"
   ]
  }
 ],
 "metadata": {
  "kernelspec": {
   "display_name": "Jupyter",
   "language": "python",
   "name": "python3"
  },
  "language_info": {
   "codemirror_mode": {
    "name": "ipython",
    "version": 3
   },
   "file_extension": ".py",
   "mimetype": "text/x-python",
   "name": "python",
   "nbconvert_exporter": "python",
   "pygments_lexer": "ipython3",
   "version": "3.9.20"
  }
 },
 "nbformat": 4,
 "nbformat_minor": 5
}
