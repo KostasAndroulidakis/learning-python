{
 "cells": [
  {
   "cell_type": "markdown",
   "metadata": {},
   "source": [
    "## Exercise 0\n",
    "\n",
    "Remove duplicates\n",
    "\n",
    "list = [1,1,1,2,2,2,3,3,4,4,5,3,6,6,7,8,9]"
   ]
  },
  {
   "cell_type": "code",
   "execution_count": 1,
   "metadata": {},
   "outputs": [
    {
     "name": "stdout",
     "output_type": "stream",
     "text": [
      "[1, 2, 3, 4, 5, 6, 7, 8, 9]\n"
     ]
    }
   ],
   "source": [
    "# The given list with the duplicates numbers\n",
    "given_list = [1,1,1,2,2,2,3,3,4,4,5,3,6,6,7,8,9]\n",
    "\n",
    "# Create a list for all non-duplicate numbers\n",
    "final_list = []\n",
    "\n",
    "# Search the given list\n",
    "for element in given_list:\n",
    "    # Search the final list\n",
    "    if element not in final_list:\n",
    "        # Add non-duplicate elements to final list\n",
    "        final_list.append(element)\n",
    "\n",
    "# Print the list without duplicates\n",
    "print(final_list)"
   ]
  },
  {
   "cell_type": "code",
   "execution_count": 2,
   "metadata": {},
   "outputs": [
    {
     "data": {
      "text/plain": [
       "[1, 2, 3, 4, 5, 6, 7, 8, 9]"
      ]
     },
     "execution_count": 2,
     "metadata": {},
     "output_type": "execute_result"
    }
   ],
   "source": [
    "given_list = [1,1,1,2,2,2,3,3,4,4,5,3,6,6,7,8,9]\n",
    "\n",
    "list(set(given_list))"
   ]
  }
 ],
 "metadata": {
  "kernelspec": {
   "display_name": "Jupyter",
   "language": "python",
   "name": "python3"
  },
  "language_info": {
   "codemirror_mode": {
    "name": "ipython",
    "version": 3
   },
   "file_extension": ".py",
   "mimetype": "text/x-python",
   "name": "python",
   "nbconvert_exporter": "python",
   "pygments_lexer": "ipython3",
   "version": "3.9.19"
  }
 },
 "nbformat": 4,
 "nbformat_minor": 2
}
