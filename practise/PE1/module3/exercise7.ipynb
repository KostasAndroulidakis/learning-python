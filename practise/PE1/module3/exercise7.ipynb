{
 "cells": [
  {
   "cell_type": "markdown",
   "metadata": {},
   "source": [
    "## Exercise 7\n",
    "\n",
    "Given a list with x elements provide the positions of the element that the user is going to provide \n",
    "\n",
    "\n",
    "__Example List:__\n",
    "\n",
    "my_list = [0, 3, 12,12, 8, 2]\n",
    "\n",
    "__Input:__ 12\n",
    "\n",
    "__Output:__ 2,3"
   ]
  },
  {
   "cell_type": "code",
   "execution_count": 2,
   "metadata": {},
   "outputs": [
    {
     "name": "stdout",
     "output_type": "stream",
     "text": [
      "Output: 2, 3\n"
     ]
    }
   ],
   "source": [
    "# Given list\n",
    "my_list = [0, 3, 12,12, 8, 2]\n",
    "\n",
    "# Given input\n",
    "num = 12\n",
    "\n",
    "# Creates a list to store the expected output\n",
    "positions = []\n",
    "\n",
    "# Searches the given list for the index positions of num\n",
    "for i in range(len(my_list)):\n",
    "      # If input number is in the given list\n",
    "      if my_list[i] == num:\n",
    "            # Add it's index position numbers to positions list\n",
    "            positions.append(i)\n",
    "\n",
    "# Prints expected ouput\n",
    "print(\"Output:\", \", \".join([str(num) for num in positions]))"
   ]
  }
 ],
 "metadata": {
  "kernelspec": {
   "display_name": "Jupyter",
   "language": "python",
   "name": "python3"
  },
  "language_info": {
   "codemirror_mode": {
    "name": "ipython",
    "version": 3
   },
   "file_extension": ".py",
   "mimetype": "text/x-python",
   "name": "python",
   "nbconvert_exporter": "python",
   "pygments_lexer": "ipython3",
   "version": "3.9.20"
  }
 },
 "nbformat": 4,
 "nbformat_minor": 2
}
