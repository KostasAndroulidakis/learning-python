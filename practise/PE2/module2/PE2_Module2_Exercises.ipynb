{
 "cells": [
  {
   "cell_type": "markdown",
   "id": "3b0cad21",
   "metadata": {},
   "source": [
    "##### 1. Complete the solution so that the function will break up camel casing, using a space between words.\n",
    "\n",
    "\"camelCasing\"  =>  \"camel Casing\"\n",
    "\n",
    "\"identifier\"   =>  \"identifier\"\n",
    "\n",
    "\"\"             =>  \"\""
   ]
  },
  {
   "cell_type": "code",
   "execution_count": null,
   "id": "c4b88902",
   "metadata": {},
   "outputs": [],
   "source": [
    "def solution(s):\n",
    "    #write your code"
   ]
  },
  {
   "cell_type": "markdown",
   "id": "254dbff6",
   "metadata": {},
   "source": [
    "#### 2. You will be given a number and you will need to return it as a string in Expanded Form. For example:\n",
    "\n",
    "expanded_form(12) # Should return '10 + 2'\n",
    "\n",
    "expanded_form(42) # Should return '40 + 2'\n",
    "\n",
    "expanded_form(70304) # Should return '70000 + 300 + 4'\n",
    "\n",
    "NOTE: All numbers will be whole numbers greater than 0.\n",
    "\n"
   ]
  },
  {
   "cell_type": "code",
   "execution_count": null,
   "id": "10f4cec6",
   "metadata": {},
   "outputs": [],
   "source": [
    "def expanded_form(num):\n",
    "    pass"
   ]
  },
  {
   "cell_type": "markdown",
   "id": "1d785597",
   "metadata": {},
   "source": [
    "#### 3. The input is a string str of digits. Cut the string into chunks (a chunk here is a substring of the initial string) of size sz (ignore the last chunk if its size is less than sz).\n",
    "\n",
    "If a chunk represents an integer such as the sum of the cubes of its digits is divisible by 2, reverse that chunk; otherwise rotate it to the left by one position. Put together these modified chunks and return the result as a string.\n",
    "\n",
    "If\n",
    "\n",
    "1. sz is <= 0 or if str is empty return \"\"\n",
    "2. sz is greater (>) than the length of str it is impossible to take a chunk of size sz hence return \"\".\n",
    "\n",
    "Examples:\n",
    "\n",
    "revrot(\"123456987654\", 6) --> \"234561876549\"\n",
    "\n",
    "revrot(\"123456987653\", 6) --> \"234561356789\"\n",
    "\n",
    "revrot(\"66443875\", 4) --> \"44668753\"\n",
    "\n",
    "revrot(\"66443875\", 8) --> \"64438756\"\n",
    "\n",
    "revrot(\"664438769\", 8) --> \"67834466\"\n",
    "\n",
    "revrot(\"123456779\", 8) --> \"23456771\"\n",
    "\n",
    "revrot(\"\", 8) --> \"\"\n",
    "\n",
    "revrot(\"123456779\", 0) --> \"\" \n",
    "\n",
    "revrot(\"563000655734469485\", 4) --> \"0365065073456944\"\n",
    "\n",
    "Example of a string rotated to the left by one position:\n",
    "\n",
    "s = \"123456\" gives \"234561\"."
   ]
  },
  {
   "cell_type": "code",
   "execution_count": null,
   "id": "ba5883f2",
   "metadata": {},
   "outputs": [],
   "source": [
    "def rev_rot(strng, sz):\n",
    "    #Write your code"
   ]
  },
  {
   "cell_type": "markdown",
   "id": "43a86bda",
   "metadata": {},
   "source": [
    "#### 4. Create a function that takes a Roman numeral as its argument and returns its value as a numeric decimal integer. You don't need to validate the form of the Roman numeral.\n",
    "\n",
    "Modern Roman numerals are written by expressing each decimal digit of the number to be encoded separately, starting with the leftmost digit and skipping any 0s. So 1990 is rendered \"MCMXC\" (1000 = M, 900 = CM, 90 = XC) and 2008 is rendered \"MMVIII\" (2000 = MM, 8 = VIII). The Roman numeral for 1666, \"MDCLXVI\", uses each letter in descending order.\n",
    "\n",
    "Example:\n",
    "\n",
    "solution('XXI') # should return 21\n",
    "Help:\n",
    "\n",
    "Symbol    Value\n",
    "\n",
    "I   -->       1\n",
    "\n",
    "V   -->        5\n",
    "\n",
    "X  -->        10\n",
    "\n",
    "L   -->        50\n",
    "\n",
    "C   -->        100\n",
    "\n",
    "D   -->        500\n",
    "\n",
    "M   -->        1,000"
   ]
  },
  {
   "cell_type": "code",
   "execution_count": 1,
   "id": "e819c802",
   "metadata": {},
   "outputs": [],
   "source": [
    "def solution(roman):\n",
    "  \"\"\"complete the solution by transforming the roman numeral into an integer\"\"\""
   ]
  },
  {
   "cell_type": "code",
   "execution_count": null,
   "id": "e115f994-686f-4014-b501-1a9aa6c4895f",
   "metadata": {},
   "outputs": [],
   "source": [
    "I=1\n",
    "II=2\n",
    "III=3\n",
    "----> IV=4\n",
    "V=5\n",
    "VI=6\n",
    "VII=7\n",
    "VIII=8\n",
    "---> IX=9"
   ]
  },
  {
   "cell_type": "markdown",
   "id": "614175f1-b2f3-4397-ad74-ae13f1214b25",
   "metadata": {},
   "source": [
    "X=10\n",
    "XI=11\n",
    "XII=12\n",
    "XIII=13\n",
    "IXV=14\n",
    "IX=9\n",
    "IV=4\n",
    "IL=49"
   ]
  },
  {
   "cell_type": "markdown",
   "id": "a1aade8f",
   "metadata": {},
   "source": [
    "#### 5. Write a function that takes an integer as input, and returns the number of bits that are equal to one in the binary representation of that number. You can guarantee that input is non-negative.\n",
    "\n",
    "Example: The binary representation of 1234 is 10011010010, so the function should return 5 in this case"
   ]
  },
  {
   "cell_type": "code",
   "execution_count": null,
   "id": "193b7bda",
   "metadata": {},
   "outputs": [],
   "source": [
    "#USE bin() Function\n",
    "\n",
    "def count_bits(n):\n",
    "    return"
   ]
  },
  {
   "cell_type": "markdown",
   "id": "0e1e3c77",
   "metadata": {},
   "source": [
    "#### 6. Your job is to write a function which increments a string, to create a new string.\n",
    "\n",
    "If the string already ends with a number, the number should be incremented by 1.\n",
    "\n",
    "If the string does not end with a number. the number 1 should be appended to the new string.\n",
    "\n",
    "Examples:\n",
    "\n",
    "foo -> foo1\n",
    "\n",
    "foobar23 -> foobar24\n",
    "\n",
    "foo0042 -> foo0043\n",
    "\n",
    "foo9 -> foo10\n",
    "\n",
    "foo099 -> foo100\n",
    "\n",
    "Attention: If the number has leading zeros the amount of digits should be considered."
   ]
  },
  {
   "cell_type": "code",
   "execution_count": null,
   "id": "91f53cdb",
   "metadata": {},
   "outputs": [],
   "source": [
    "#use zfill(\"lenth of the number you need\")\n",
    "def Function1(Param):\n",
    "    return"
   ]
  },
  {
   "cell_type": "code",
   "execution_count": 3,
   "id": "4b086773-cd74-48fb-9335-105b57ce017d",
   "metadata": {},
   "outputs": [
    {
     "data": {
      "text/plain": [
       "'00010'"
      ]
     },
     "execution_count": 3,
     "metadata": {},
     "output_type": "execute_result"
    }
   ],
   "source": [
    "\"0010\".zfill(5)"
   ]
  },
  {
   "cell_type": "code",
   "execution_count": null,
   "id": "efe4ac88-2fcf-4902-8437-0fdcf7fe59f0",
   "metadata": {},
   "outputs": [],
   "source": [
    "001\n"
   ]
  },
  {
   "cell_type": "markdown",
   "id": "de514840",
   "metadata": {},
   "source": [
    "#### 7. Your task is to sort a given string. Each word in the string will contain a single number. This number is the position the word should have in the result.\n",
    "\n",
    "Note: Numbers can be from 1 to 9. So 1 will be the first word (not 0).\n",
    "\n",
    "If the input string is empty, return an empty string. The words in the input String will only contain valid consecutive numbers.\n",
    "\n",
    "Examples\n",
    "\n",
    "\"is2 Thi1s T4est 3a\"  -->  \"Thi1s is2 3a T4est\"\n",
    "\n",
    "\"4of Fo1r pe6ople g3ood th5e the2\"  -->  \"Fo1r the2 g3ood 4of th5e pe6ople\"\n",
    "\n",
    "\"\"  -->  \"\""
   ]
  },
  {
   "cell_type": "code",
   "execution_count": null,
   "id": "ad8c897f",
   "metadata": {},
   "outputs": [],
   "source": [
    "def order(sentence):\n",
    "  # code here\n",
    "  return"
   ]
  },
  {
   "cell_type": "markdown",
   "id": "e37e2832",
   "metadata": {},
   "source": [
    "#### 8. Write a function\n",
    "\n",
    "triple_double(num1, num2)\n",
    "\n",
    "which takes numbers num1 and num2 and returns 1 if there is a straight triple of a number at any place in num1 and also a straight double of the same number in num2.\n",
    "\n",
    "If this isn't the case, return 0\n",
    "\n",
    "Examples\n",
    "\n",
    "triple_double(451999277, 41177722899) == 1\n",
    "\n",
    "num1 has straight triple 999s and num2 has straight double 99s\n",
    "\n",
    "triple_double(1222345, 12345) == 0\n",
    "\n",
    "num1 has straight triple 2s but num2 has only a single 2\n",
    "\n",
    "triple_double(12345, 12345) == 0\n",
    "\n",
    "triple_double(666789, 12345667) == 1"
   ]
  },
  {
   "cell_type": "code",
   "execution_count": null,
   "id": "ec50ad9d",
   "metadata": {},
   "outputs": [],
   "source": [
    "def triple_double(num1, num2):\n",
    "    return "
   ]
  }
 ],
 "metadata": {
  "kernelspec": {
   "display_name": "Python 3 (ipykernel)",
   "language": "python",
   "name": "python3"
  },
  "language_info": {
   "codemirror_mode": {
    "name": "ipython",
    "version": 3
   },
   "file_extension": ".py",
   "mimetype": "text/x-python",
   "name": "python",
   "nbconvert_exporter": "python",
   "pygments_lexer": "ipython3",
   "version": "3.11.7"
  }
 },
 "nbformat": 4,
 "nbformat_minor": 5
}
